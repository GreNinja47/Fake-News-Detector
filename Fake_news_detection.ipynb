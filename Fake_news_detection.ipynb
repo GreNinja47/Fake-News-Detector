{
  "nbformat": 4,
  "nbformat_minor": 0,
  "metadata": {
    "colab": {
      "provenance": [],
      "include_colab_link": true
    },
    "kernelspec": {
      "name": "python3",
      "display_name": "Python 3"
    },
    "language_info": {
      "name": "python"
    }
  },
  "cells": [
    {
      "cell_type": "markdown",
      "metadata": {
        "id": "view-in-github",
        "colab_type": "text"
      },
      "source": [
        "<a href=\"https://colab.research.google.com/github/GreNinja47/LSTM-Fake-News-Detector-model/blob/main/Fake_news_detection.ipynb\" target=\"_parent\"><img src=\"https://colab.research.google.com/assets/colab-badge.svg\" alt=\"Open In Colab\"/></a>"
      ]
    },
    {
      "cell_type": "code",
      "execution_count": null,
      "metadata": {
        "id": "BVgdwbyWNvvk"
      },
      "outputs": [],
      "source": [
        "import re\n",
        "import numpy as np\n",
        "import pandas as pd\n",
        "import matplotlib.pyplot as plt\n",
        "import seaborn as sns\n",
        "import nltk"
      ]
    },
    {
      "cell_type": "code",
      "source": [
        "import tensorflow as tf\n",
        "import keras\n",
        "from keras.preprocessing.text import Tokenizer\n",
        "from keras.preprocessing.sequence import pad_sequences\n",
        "from keras.models import Sequential, Model\n",
        "from keras.layers import Conv2D, MaxPooling2D, Flatten, Dense, Dropout, BatchNormalization, Input, Embedding, LSTM\n",
        "from keras.layers.experimental.preprocessing import Rescaling\n",
        "from sklearn.model_selection import train_test_split\n",
        "from sklearn.metrics import classification_report, accuracy_score\n",
        "from keras.models import Sequential\n",
        "from keras.layers import Conv2D, MaxPooling2D, Activation, Dropout, Flatten, Dense"
      ],
      "metadata": {
        "id": "YkiTg6CmPWwj"
      },
      "execution_count": null,
      "outputs": []
    },
    {
      "cell_type": "markdown",
      "source": [
        "Importing the datasets"
      ],
      "metadata": {
        "id": "42p-mGjiXjT7"
      }
    },
    {
      "cell_type": "code",
      "source": [
        "# Mount Google Drive\n",
        "from google.colab import drive\n",
        "drive.mount('/content/drive')"
      ],
      "metadata": {
        "colab": {
          "base_uri": "https://localhost:8080/"
        },
        "id": "hjjX4n3ZW8dC",
        "outputId": "d7816505-a543-46e6-857a-14346150aaa5"
      },
      "execution_count": null,
      "outputs": [
        {
          "output_type": "stream",
          "name": "stdout",
          "text": [
            "Drive already mounted at /content/drive; to attempt to forcibly remount, call drive.mount(\"/content/drive\", force_remount=True).\n"
          ]
        }
      ]
    },
    {
      "cell_type": "code",
      "source": [
        "# consists of 2 datasets\n",
        "fake_news = pd.read_csv(\"/content/drive/MyDrive/DS/News_Detection/fake_news.csv\")\n",
        "true_news = pd.read_csv(\"/content/drive/MyDrive/DS/News_Detection/true_news.csv\")"
      ],
      "metadata": {
        "id": "DmwDAv7FW8gM"
      },
      "execution_count": null,
      "outputs": []
    },
    {
      "cell_type": "code",
      "source": [
        "fake_news.shape, true_news.shape"
      ],
      "metadata": {
        "colab": {
          "base_uri": "https://localhost:8080/"
        },
        "id": "fqd_oeNKhuNr",
        "outputId": "81621c77-85c9-45c4-85ed-299ce9bbec79"
      },
      "execution_count": null,
      "outputs": [
        {
          "output_type": "execute_result",
          "data": {
            "text/plain": [
              "((23481, 4), (21417, 4))"
            ]
          },
          "metadata": {},
          "execution_count": 5
        }
      ]
    },
    {
      "cell_type": "code",
      "source": [
        "fake_news.head()"
      ],
      "metadata": {
        "colab": {
          "base_uri": "https://localhost:8080/",
          "height": 206
        },
        "id": "tEHtPETsW8lq",
        "outputId": "e424ada8-1a12-464f-a768-6b4e3fff7fc3"
      },
      "execution_count": null,
      "outputs": [
        {
          "output_type": "execute_result",
          "data": {
            "text/plain": [
              "                                               title  \\\n",
              "0   Donald Trump Sends Out Embarrassing New Year’...   \n",
              "1   Drunk Bragging Trump Staffer Started Russian ...   \n",
              "2   Sheriff David Clarke Becomes An Internet Joke...   \n",
              "3   Trump Is So Obsessed He Even Has Obama’s Name...   \n",
              "4   Pope Francis Just Called Out Donald Trump Dur...   \n",
              "\n",
              "                                                text subject  \\\n",
              "0  Donald Trump just couldn t wish all Americans ...    News   \n",
              "1  House Intelligence Committee Chairman Devin Nu...    News   \n",
              "2  On Friday, it was revealed that former Milwauk...    News   \n",
              "3  On Christmas day, Donald Trump announced that ...    News   \n",
              "4  Pope Francis used his annual Christmas Day mes...    News   \n",
              "\n",
              "                date  \n",
              "0  December 31, 2017  \n",
              "1  December 31, 2017  \n",
              "2  December 30, 2017  \n",
              "3  December 29, 2017  \n",
              "4  December 25, 2017  "
            ],
            "text/html": [
              "\n",
              "  <div id=\"df-bb6353e8-89b2-4dbf-b628-8ab92fa675d8\" class=\"colab-df-container\">\n",
              "    <div>\n",
              "<style scoped>\n",
              "    .dataframe tbody tr th:only-of-type {\n",
              "        vertical-align: middle;\n",
              "    }\n",
              "\n",
              "    .dataframe tbody tr th {\n",
              "        vertical-align: top;\n",
              "    }\n",
              "\n",
              "    .dataframe thead th {\n",
              "        text-align: right;\n",
              "    }\n",
              "</style>\n",
              "<table border=\"1\" class=\"dataframe\">\n",
              "  <thead>\n",
              "    <tr style=\"text-align: right;\">\n",
              "      <th></th>\n",
              "      <th>title</th>\n",
              "      <th>text</th>\n",
              "      <th>subject</th>\n",
              "      <th>date</th>\n",
              "    </tr>\n",
              "  </thead>\n",
              "  <tbody>\n",
              "    <tr>\n",
              "      <th>0</th>\n",
              "      <td>Donald Trump Sends Out Embarrassing New Year’...</td>\n",
              "      <td>Donald Trump just couldn t wish all Americans ...</td>\n",
              "      <td>News</td>\n",
              "      <td>December 31, 2017</td>\n",
              "    </tr>\n",
              "    <tr>\n",
              "      <th>1</th>\n",
              "      <td>Drunk Bragging Trump Staffer Started Russian ...</td>\n",
              "      <td>House Intelligence Committee Chairman Devin Nu...</td>\n",
              "      <td>News</td>\n",
              "      <td>December 31, 2017</td>\n",
              "    </tr>\n",
              "    <tr>\n",
              "      <th>2</th>\n",
              "      <td>Sheriff David Clarke Becomes An Internet Joke...</td>\n",
              "      <td>On Friday, it was revealed that former Milwauk...</td>\n",
              "      <td>News</td>\n",
              "      <td>December 30, 2017</td>\n",
              "    </tr>\n",
              "    <tr>\n",
              "      <th>3</th>\n",
              "      <td>Trump Is So Obsessed He Even Has Obama’s Name...</td>\n",
              "      <td>On Christmas day, Donald Trump announced that ...</td>\n",
              "      <td>News</td>\n",
              "      <td>December 29, 2017</td>\n",
              "    </tr>\n",
              "    <tr>\n",
              "      <th>4</th>\n",
              "      <td>Pope Francis Just Called Out Donald Trump Dur...</td>\n",
              "      <td>Pope Francis used his annual Christmas Day mes...</td>\n",
              "      <td>News</td>\n",
              "      <td>December 25, 2017</td>\n",
              "    </tr>\n",
              "  </tbody>\n",
              "</table>\n",
              "</div>\n",
              "    <div class=\"colab-df-buttons\">\n",
              "\n",
              "  <div class=\"colab-df-container\">\n",
              "    <button class=\"colab-df-convert\" onclick=\"convertToInteractive('df-bb6353e8-89b2-4dbf-b628-8ab92fa675d8')\"\n",
              "            title=\"Convert this dataframe to an interactive table.\"\n",
              "            style=\"display:none;\">\n",
              "\n",
              "  <svg xmlns=\"http://www.w3.org/2000/svg\" height=\"24px\" viewBox=\"0 -960 960 960\">\n",
              "    <path d=\"M120-120v-720h720v720H120Zm60-500h600v-160H180v160Zm220 220h160v-160H400v160Zm0 220h160v-160H400v160ZM180-400h160v-160H180v160Zm440 0h160v-160H620v160ZM180-180h160v-160H180v160Zm440 0h160v-160H620v160Z\"/>\n",
              "  </svg>\n",
              "    </button>\n",
              "\n",
              "  <style>\n",
              "    .colab-df-container {\n",
              "      display:flex;\n",
              "      gap: 12px;\n",
              "    }\n",
              "\n",
              "    .colab-df-convert {\n",
              "      background-color: #E8F0FE;\n",
              "      border: none;\n",
              "      border-radius: 50%;\n",
              "      cursor: pointer;\n",
              "      display: none;\n",
              "      fill: #1967D2;\n",
              "      height: 32px;\n",
              "      padding: 0 0 0 0;\n",
              "      width: 32px;\n",
              "    }\n",
              "\n",
              "    .colab-df-convert:hover {\n",
              "      background-color: #E2EBFA;\n",
              "      box-shadow: 0px 1px 2px rgba(60, 64, 67, 0.3), 0px 1px 3px 1px rgba(60, 64, 67, 0.15);\n",
              "      fill: #174EA6;\n",
              "    }\n",
              "\n",
              "    .colab-df-buttons div {\n",
              "      margin-bottom: 4px;\n",
              "    }\n",
              "\n",
              "    [theme=dark] .colab-df-convert {\n",
              "      background-color: #3B4455;\n",
              "      fill: #D2E3FC;\n",
              "    }\n",
              "\n",
              "    [theme=dark] .colab-df-convert:hover {\n",
              "      background-color: #434B5C;\n",
              "      box-shadow: 0px 1px 3px 1px rgba(0, 0, 0, 0.15);\n",
              "      filter: drop-shadow(0px 1px 2px rgba(0, 0, 0, 0.3));\n",
              "      fill: #FFFFFF;\n",
              "    }\n",
              "  </style>\n",
              "\n",
              "    <script>\n",
              "      const buttonEl =\n",
              "        document.querySelector('#df-bb6353e8-89b2-4dbf-b628-8ab92fa675d8 button.colab-df-convert');\n",
              "      buttonEl.style.display =\n",
              "        google.colab.kernel.accessAllowed ? 'block' : 'none';\n",
              "\n",
              "      async function convertToInteractive(key) {\n",
              "        const element = document.querySelector('#df-bb6353e8-89b2-4dbf-b628-8ab92fa675d8');\n",
              "        const dataTable =\n",
              "          await google.colab.kernel.invokeFunction('convertToInteractive',\n",
              "                                                    [key], {});\n",
              "        if (!dataTable) return;\n",
              "\n",
              "        const docLinkHtml = 'Like what you see? Visit the ' +\n",
              "          '<a target=\"_blank\" href=https://colab.research.google.com/notebooks/data_table.ipynb>data table notebook</a>'\n",
              "          + ' to learn more about interactive tables.';\n",
              "        element.innerHTML = '';\n",
              "        dataTable['output_type'] = 'display_data';\n",
              "        await google.colab.output.renderOutput(dataTable, element);\n",
              "        const docLink = document.createElement('div');\n",
              "        docLink.innerHTML = docLinkHtml;\n",
              "        element.appendChild(docLink);\n",
              "      }\n",
              "    </script>\n",
              "  </div>\n",
              "\n",
              "\n",
              "<div id=\"df-6d7a9c61-4856-4a10-8612-7eca9b2d32ca\">\n",
              "  <button class=\"colab-df-quickchart\" onclick=\"quickchart('df-6d7a9c61-4856-4a10-8612-7eca9b2d32ca')\"\n",
              "            title=\"Suggest charts\"\n",
              "            style=\"display:none;\">\n",
              "\n",
              "<svg xmlns=\"http://www.w3.org/2000/svg\" height=\"24px\"viewBox=\"0 0 24 24\"\n",
              "     width=\"24px\">\n",
              "    <g>\n",
              "        <path d=\"M19 3H5c-1.1 0-2 .9-2 2v14c0 1.1.9 2 2 2h14c1.1 0 2-.9 2-2V5c0-1.1-.9-2-2-2zM9 17H7v-7h2v7zm4 0h-2V7h2v10zm4 0h-2v-4h2v4z\"/>\n",
              "    </g>\n",
              "</svg>\n",
              "  </button>\n",
              "\n",
              "<style>\n",
              "  .colab-df-quickchart {\n",
              "      --bg-color: #E8F0FE;\n",
              "      --fill-color: #1967D2;\n",
              "      --hover-bg-color: #E2EBFA;\n",
              "      --hover-fill-color: #174EA6;\n",
              "      --disabled-fill-color: #AAA;\n",
              "      --disabled-bg-color: #DDD;\n",
              "  }\n",
              "\n",
              "  [theme=dark] .colab-df-quickchart {\n",
              "      --bg-color: #3B4455;\n",
              "      --fill-color: #D2E3FC;\n",
              "      --hover-bg-color: #434B5C;\n",
              "      --hover-fill-color: #FFFFFF;\n",
              "      --disabled-bg-color: #3B4455;\n",
              "      --disabled-fill-color: #666;\n",
              "  }\n",
              "\n",
              "  .colab-df-quickchart {\n",
              "    background-color: var(--bg-color);\n",
              "    border: none;\n",
              "    border-radius: 50%;\n",
              "    cursor: pointer;\n",
              "    display: none;\n",
              "    fill: var(--fill-color);\n",
              "    height: 32px;\n",
              "    padding: 0;\n",
              "    width: 32px;\n",
              "  }\n",
              "\n",
              "  .colab-df-quickchart:hover {\n",
              "    background-color: var(--hover-bg-color);\n",
              "    box-shadow: 0 1px 2px rgba(60, 64, 67, 0.3), 0 1px 3px 1px rgba(60, 64, 67, 0.15);\n",
              "    fill: var(--button-hover-fill-color);\n",
              "  }\n",
              "\n",
              "  .colab-df-quickchart-complete:disabled,\n",
              "  .colab-df-quickchart-complete:disabled:hover {\n",
              "    background-color: var(--disabled-bg-color);\n",
              "    fill: var(--disabled-fill-color);\n",
              "    box-shadow: none;\n",
              "  }\n",
              "\n",
              "  .colab-df-spinner {\n",
              "    border: 2px solid var(--fill-color);\n",
              "    border-color: transparent;\n",
              "    border-bottom-color: var(--fill-color);\n",
              "    animation:\n",
              "      spin 1s steps(1) infinite;\n",
              "  }\n",
              "\n",
              "  @keyframes spin {\n",
              "    0% {\n",
              "      border-color: transparent;\n",
              "      border-bottom-color: var(--fill-color);\n",
              "      border-left-color: var(--fill-color);\n",
              "    }\n",
              "    20% {\n",
              "      border-color: transparent;\n",
              "      border-left-color: var(--fill-color);\n",
              "      border-top-color: var(--fill-color);\n",
              "    }\n",
              "    30% {\n",
              "      border-color: transparent;\n",
              "      border-left-color: var(--fill-color);\n",
              "      border-top-color: var(--fill-color);\n",
              "      border-right-color: var(--fill-color);\n",
              "    }\n",
              "    40% {\n",
              "      border-color: transparent;\n",
              "      border-right-color: var(--fill-color);\n",
              "      border-top-color: var(--fill-color);\n",
              "    }\n",
              "    60% {\n",
              "      border-color: transparent;\n",
              "      border-right-color: var(--fill-color);\n",
              "    }\n",
              "    80% {\n",
              "      border-color: transparent;\n",
              "      border-right-color: var(--fill-color);\n",
              "      border-bottom-color: var(--fill-color);\n",
              "    }\n",
              "    90% {\n",
              "      border-color: transparent;\n",
              "      border-bottom-color: var(--fill-color);\n",
              "    }\n",
              "  }\n",
              "</style>\n",
              "\n",
              "  <script>\n",
              "    async function quickchart(key) {\n",
              "      const quickchartButtonEl =\n",
              "        document.querySelector('#' + key + ' button');\n",
              "      quickchartButtonEl.disabled = true;  // To prevent multiple clicks.\n",
              "      quickchartButtonEl.classList.add('colab-df-spinner');\n",
              "      try {\n",
              "        const charts = await google.colab.kernel.invokeFunction(\n",
              "            'suggestCharts', [key], {});\n",
              "      } catch (error) {\n",
              "        console.error('Error during call to suggestCharts:', error);\n",
              "      }\n",
              "      quickchartButtonEl.classList.remove('colab-df-spinner');\n",
              "      quickchartButtonEl.classList.add('colab-df-quickchart-complete');\n",
              "    }\n",
              "    (() => {\n",
              "      let quickchartButtonEl =\n",
              "        document.querySelector('#df-6d7a9c61-4856-4a10-8612-7eca9b2d32ca button');\n",
              "      quickchartButtonEl.style.display =\n",
              "        google.colab.kernel.accessAllowed ? 'block' : 'none';\n",
              "    })();\n",
              "  </script>\n",
              "</div>\n",
              "\n",
              "    </div>\n",
              "  </div>\n"
            ],
            "application/vnd.google.colaboratory.intrinsic+json": {
              "type": "dataframe",
              "variable_name": "fake_news",
              "summary": "{\n  \"name\": \"fake_news\",\n  \"rows\": 23481,\n  \"fields\": [\n    {\n      \"column\": \"title\",\n      \"properties\": {\n        \"dtype\": \"string\",\n        \"num_unique_values\": 17903,\n        \"samples\": [\n          \" Fox News Mocked Into Oblivion After This F*cking STUPID Attempt To Make Steve Bannon Look Sane (TWEETS)\",\n          \"BREAKING: FL GOV RICK SCOTT Calls for FBI Director to Resign\",\n          \" WATCH: Mike Pence\\u2019s Photo Op With Puerto Rico Survivors Just Went TERRIBLY Wrong (VIDEO)\"\n        ],\n        \"semantic_type\": \"\",\n        \"description\": \"\"\n      }\n    },\n    {\n      \"column\": \"text\",\n      \"properties\": {\n        \"dtype\": \"string\",\n        \"num_unique_values\": 17455,\n        \"samples\": [\n          \"The moral decay continues The Kapiolani Medical Center for Women and Children at the University of Hawaii is currently recruiting pregnant girls and women to participate in second-trimester abortions to measure their bleeding during the operation, with and without antihemorrhagic drugs. According to the Clinical Trials website, run by the National Institutes of Health, participants must be at least 14 years old and 18-24 weeks pregnant.The controversial study, led by Bliss Kaneshiro, MD and Kate Whitehouse, DO, will monitor bleeding during D&E abortions to determine the effects of the drug oxytocin, commonly used to minimize blood loss and decrease the risk of hemorrhage.The clinical trial, called  Effects of Oxytocin on Bleeding Outcomes during Dilation and Evacuation  began in October 2014 and is a collaboration between UH, Society of Family Planning and the University of Washington.The Society of Family Planning funds a number of similar research projects, such as experimenting with the dosage of Misoprostol, a uterine contracting agent, prior to surgical abortions at 13-18 weeks and exploring umbilical cord injections to produce fetal death prior to late-term abortions.In the UH study, researchers will carry out a  randomized, double-blinded, placebo-controlled trials,  to determine the effect of oxytocin s use on uterine bleeding, meaning that they will either provide or deny intravenous oxytocin to the women.Reports suggest that some doctors are concerned that withholding oxytocin during surgery may put patients, especially teen girls, at risk. This study is reminiscent of Nazi concentration camp experiments. I pity the poor women who are being treated like lab rats, especially those who are denied the drug to reduce hemorrhaging,  said Troy Newman, President of Operation Rescue.Dilation and evacuation abortions are surgical procedures that involve dismembering the pre-born baby with forceps, scraping the inside of the uterus with a curette to remove any residuals and finally suctioning out the womb to make sure the contents are completely removed.After the abortion, the corpse of the fetus is reassembled and examined to ensure everything was successfully removed and that the abortion was complete.The study is hoping to attract up to 166 test subjects and is expected to conclude in July 2015.Via: Breitbart News\",\n          \"CNN was quick to scoop up Corey Lewandowski after Donald Trump kicked him out of his role as campaign manager, but his first week on the job is going pretty much exactly how you would expect it to go   terribly.Not only has Lewandowski proven himself to be pretty much like a paid spokesman for Trump, but his defense of the disgraced GOP candidate isn t being received well. Earlier this week, Lewandowski revealed that he was under contract and couldn t criticize The Donald, even after being fired from the campaign. Today, Lewandowski got called out by Hillary Clinton surrogate Christine Quinn for hyping Trump up to be an expert on the Brexit decision   a suggestion that was clearly false.On Monday s edition of CNN s New Day, Lewandowski made another pathetic defense of Trump by trying to reframe the candidate s disgusting reaction to Brexit, where he mostly spoke about how much the decision would be good for his Scotland golf resort. Lewandowski s defense was: Obviously the U.S. dollar has become much stronger now against the British pound. If you re going to spend money in Europe, now would actually be a good time to go with the fall of the pound.What you have is a world view, so what you have is someone who is saying,  Let s look at this from the U.S. perspective. If you want to go and travel overseas   just from a monetary perspective   now is the right time to do that because what you re getting is more for your dollar. Quinn wasn t having it. She ripped into Lewandowski, firing back, Donald Trump is not running to be travel agent of the world, he s running to be president of the United States.  She continued: What he said wasn t a commentary on international markets, it was,  When the pound goes down, more people will come to my golf course. Donald Trump s main concern isn t the international markets, it isn t the impact that Brexit will have on hard working Americans  401Ks, it s himself. How can he make more money, how can he put more money in his bank account? Lewandowski compared the Brexit decision to Trump s rise in the GOP, and Quinn once again called him out and put him back in his place. She said: Trump touted that he saw this coming. That s ridiculous because when he was first asked about Brexit by the press, he didn t appear to know what it was. Lewandowski tried to counter by insisting that People are too smart, they are tired of being told what to do.  He then tried to commend Trump for being a selfish moron: You know what Donald Trump said about Brexit? What he said was, you don t have to listen to me because it s not my decision. He didn t weigh in like Hillary Clinton did, like Barack Obama did, saying that you can t do this. Quinn fought back, Because he didn t know what it was. Lewandowski was fighting a losing battle. Trump s reaction to Brexit was just as terrifying as it was humorous   it truly proved that Trump knows nothing about foreign affairs, and hasn t spent any time educating himself since the beginning of his presidential candidacy. If only some of the hours he spent getting into fights on Twitter were being used for learning about how the world works. But instead, he once again exposed himself as an unfit choice for President. And when people like Lewandowski try to make sense of his idiocy, they only make themselves look equally foolish.You can watch the embarrassing video below:Featured image via screen capture\",\n          \"A Michigan woman decided to defend against tyranny? when she and another shopper couldn t agree over who got to buy the last notebook on the shelf at the Novi Towne Center store.According to ABC 13, the brawl   yes, brawl    involved two Farmington Hills residents, ages 46 and 32, and a mother and daughter from South Lyon, ages 51 and 20. In other words, these were all grown adults who should have known better but hey   there was only one notebook on the shelf, and we ve all seen what happens in those post-apocalyptic movies when a store is down to the last gallon of milk, right?Two of the women, one of whom was the unnamed 20-year-old, reached for the notebook at the same time. The 46 and 32-year-olds apparently decided that she wasn t getting their goddamn notebook and began pulling her hair.Then, because this had almost hit peak  trailer park,  the 20-year-old s mother decided to go for bonus points by pulling out her gun. Fortunately, someone pushed her aside before she could do any harm.This is one of the NRA s  responsible gun owners  (conservatives can t dismiss this one, as it is confirmed that she is a concealed carry permit holder)   ready to leap into action at the most minor sign of danger and make things worse by turning the situation potentially deadly.Watch it happen below:Featured image via screengrab\"\n        ],\n        \"semantic_type\": \"\",\n        \"description\": \"\"\n      }\n    },\n    {\n      \"column\": \"subject\",\n      \"properties\": {\n        \"dtype\": \"category\",\n        \"num_unique_values\": 6,\n        \"samples\": [\n          \"News\",\n          \"politics\",\n          \"Middle-east\"\n        ],\n        \"semantic_type\": \"\",\n        \"description\": \"\"\n      }\n    },\n    {\n      \"column\": \"date\",\n      \"properties\": {\n        \"dtype\": \"category\",\n        \"num_unique_values\": 1681,\n        \"samples\": [\n          \"Jun 5, 2015\",\n          \"August 28, 2016\",\n          \"June 3, 2017\"\n        ],\n        \"semantic_type\": \"\",\n        \"description\": \"\"\n      }\n    }\n  ]\n}"
            }
          },
          "metadata": {},
          "execution_count": 6
        }
      ]
    },
    {
      "cell_type": "code",
      "source": [
        "true_news.head()"
      ],
      "metadata": {
        "colab": {
          "base_uri": "https://localhost:8080/",
          "height": 206
        },
        "id": "37vxY3mpW8oa",
        "outputId": "1bf49370-a97b-4509-f08c-a0914721f11f"
      },
      "execution_count": null,
      "outputs": [
        {
          "output_type": "execute_result",
          "data": {
            "text/plain": [
              "                                               title  \\\n",
              "0  As U.S. budget fight looms, Republicans flip t...   \n",
              "1  U.S. military to accept transgender recruits o...   \n",
              "2  Senior U.S. Republican senator: 'Let Mr. Muell...   \n",
              "3  FBI Russia probe helped by Australian diplomat...   \n",
              "4  Trump wants Postal Service to charge 'much mor...   \n",
              "\n",
              "                                                text       subject  \\\n",
              "0  WASHINGTON (Reuters) - The head of a conservat...  politicsNews   \n",
              "1  WASHINGTON (Reuters) - Transgender people will...  politicsNews   \n",
              "2  WASHINGTON (Reuters) - The special counsel inv...  politicsNews   \n",
              "3  WASHINGTON (Reuters) - Trump campaign adviser ...  politicsNews   \n",
              "4  SEATTLE/WASHINGTON (Reuters) - President Donal...  politicsNews   \n",
              "\n",
              "                 date  \n",
              "0  December 31, 2017   \n",
              "1  December 29, 2017   \n",
              "2  December 31, 2017   \n",
              "3  December 30, 2017   \n",
              "4  December 29, 2017   "
            ],
            "text/html": [
              "\n",
              "  <div id=\"df-57d563b2-bc17-4551-8b54-8de2914bcd83\" class=\"colab-df-container\">\n",
              "    <div>\n",
              "<style scoped>\n",
              "    .dataframe tbody tr th:only-of-type {\n",
              "        vertical-align: middle;\n",
              "    }\n",
              "\n",
              "    .dataframe tbody tr th {\n",
              "        vertical-align: top;\n",
              "    }\n",
              "\n",
              "    .dataframe thead th {\n",
              "        text-align: right;\n",
              "    }\n",
              "</style>\n",
              "<table border=\"1\" class=\"dataframe\">\n",
              "  <thead>\n",
              "    <tr style=\"text-align: right;\">\n",
              "      <th></th>\n",
              "      <th>title</th>\n",
              "      <th>text</th>\n",
              "      <th>subject</th>\n",
              "      <th>date</th>\n",
              "    </tr>\n",
              "  </thead>\n",
              "  <tbody>\n",
              "    <tr>\n",
              "      <th>0</th>\n",
              "      <td>As U.S. budget fight looms, Republicans flip t...</td>\n",
              "      <td>WASHINGTON (Reuters) - The head of a conservat...</td>\n",
              "      <td>politicsNews</td>\n",
              "      <td>December 31, 2017</td>\n",
              "    </tr>\n",
              "    <tr>\n",
              "      <th>1</th>\n",
              "      <td>U.S. military to accept transgender recruits o...</td>\n",
              "      <td>WASHINGTON (Reuters) - Transgender people will...</td>\n",
              "      <td>politicsNews</td>\n",
              "      <td>December 29, 2017</td>\n",
              "    </tr>\n",
              "    <tr>\n",
              "      <th>2</th>\n",
              "      <td>Senior U.S. Republican senator: 'Let Mr. Muell...</td>\n",
              "      <td>WASHINGTON (Reuters) - The special counsel inv...</td>\n",
              "      <td>politicsNews</td>\n",
              "      <td>December 31, 2017</td>\n",
              "    </tr>\n",
              "    <tr>\n",
              "      <th>3</th>\n",
              "      <td>FBI Russia probe helped by Australian diplomat...</td>\n",
              "      <td>WASHINGTON (Reuters) - Trump campaign adviser ...</td>\n",
              "      <td>politicsNews</td>\n",
              "      <td>December 30, 2017</td>\n",
              "    </tr>\n",
              "    <tr>\n",
              "      <th>4</th>\n",
              "      <td>Trump wants Postal Service to charge 'much mor...</td>\n",
              "      <td>SEATTLE/WASHINGTON (Reuters) - President Donal...</td>\n",
              "      <td>politicsNews</td>\n",
              "      <td>December 29, 2017</td>\n",
              "    </tr>\n",
              "  </tbody>\n",
              "</table>\n",
              "</div>\n",
              "    <div class=\"colab-df-buttons\">\n",
              "\n",
              "  <div class=\"colab-df-container\">\n",
              "    <button class=\"colab-df-convert\" onclick=\"convertToInteractive('df-57d563b2-bc17-4551-8b54-8de2914bcd83')\"\n",
              "            title=\"Convert this dataframe to an interactive table.\"\n",
              "            style=\"display:none;\">\n",
              "\n",
              "  <svg xmlns=\"http://www.w3.org/2000/svg\" height=\"24px\" viewBox=\"0 -960 960 960\">\n",
              "    <path d=\"M120-120v-720h720v720H120Zm60-500h600v-160H180v160Zm220 220h160v-160H400v160Zm0 220h160v-160H400v160ZM180-400h160v-160H180v160Zm440 0h160v-160H620v160ZM180-180h160v-160H180v160Zm440 0h160v-160H620v160Z\"/>\n",
              "  </svg>\n",
              "    </button>\n",
              "\n",
              "  <style>\n",
              "    .colab-df-container {\n",
              "      display:flex;\n",
              "      gap: 12px;\n",
              "    }\n",
              "\n",
              "    .colab-df-convert {\n",
              "      background-color: #E8F0FE;\n",
              "      border: none;\n",
              "      border-radius: 50%;\n",
              "      cursor: pointer;\n",
              "      display: none;\n",
              "      fill: #1967D2;\n",
              "      height: 32px;\n",
              "      padding: 0 0 0 0;\n",
              "      width: 32px;\n",
              "    }\n",
              "\n",
              "    .colab-df-convert:hover {\n",
              "      background-color: #E2EBFA;\n",
              "      box-shadow: 0px 1px 2px rgba(60, 64, 67, 0.3), 0px 1px 3px 1px rgba(60, 64, 67, 0.15);\n",
              "      fill: #174EA6;\n",
              "    }\n",
              "\n",
              "    .colab-df-buttons div {\n",
              "      margin-bottom: 4px;\n",
              "    }\n",
              "\n",
              "    [theme=dark] .colab-df-convert {\n",
              "      background-color: #3B4455;\n",
              "      fill: #D2E3FC;\n",
              "    }\n",
              "\n",
              "    [theme=dark] .colab-df-convert:hover {\n",
              "      background-color: #434B5C;\n",
              "      box-shadow: 0px 1px 3px 1px rgba(0, 0, 0, 0.15);\n",
              "      filter: drop-shadow(0px 1px 2px rgba(0, 0, 0, 0.3));\n",
              "      fill: #FFFFFF;\n",
              "    }\n",
              "  </style>\n",
              "\n",
              "    <script>\n",
              "      const buttonEl =\n",
              "        document.querySelector('#df-57d563b2-bc17-4551-8b54-8de2914bcd83 button.colab-df-convert');\n",
              "      buttonEl.style.display =\n",
              "        google.colab.kernel.accessAllowed ? 'block' : 'none';\n",
              "\n",
              "      async function convertToInteractive(key) {\n",
              "        const element = document.querySelector('#df-57d563b2-bc17-4551-8b54-8de2914bcd83');\n",
              "        const dataTable =\n",
              "          await google.colab.kernel.invokeFunction('convertToInteractive',\n",
              "                                                    [key], {});\n",
              "        if (!dataTable) return;\n",
              "\n",
              "        const docLinkHtml = 'Like what you see? Visit the ' +\n",
              "          '<a target=\"_blank\" href=https://colab.research.google.com/notebooks/data_table.ipynb>data table notebook</a>'\n",
              "          + ' to learn more about interactive tables.';\n",
              "        element.innerHTML = '';\n",
              "        dataTable['output_type'] = 'display_data';\n",
              "        await google.colab.output.renderOutput(dataTable, element);\n",
              "        const docLink = document.createElement('div');\n",
              "        docLink.innerHTML = docLinkHtml;\n",
              "        element.appendChild(docLink);\n",
              "      }\n",
              "    </script>\n",
              "  </div>\n",
              "\n",
              "\n",
              "<div id=\"df-fecacb3a-9bd5-4213-84a6-7ab8ba63e17a\">\n",
              "  <button class=\"colab-df-quickchart\" onclick=\"quickchart('df-fecacb3a-9bd5-4213-84a6-7ab8ba63e17a')\"\n",
              "            title=\"Suggest charts\"\n",
              "            style=\"display:none;\">\n",
              "\n",
              "<svg xmlns=\"http://www.w3.org/2000/svg\" height=\"24px\"viewBox=\"0 0 24 24\"\n",
              "     width=\"24px\">\n",
              "    <g>\n",
              "        <path d=\"M19 3H5c-1.1 0-2 .9-2 2v14c0 1.1.9 2 2 2h14c1.1 0 2-.9 2-2V5c0-1.1-.9-2-2-2zM9 17H7v-7h2v7zm4 0h-2V7h2v10zm4 0h-2v-4h2v4z\"/>\n",
              "    </g>\n",
              "</svg>\n",
              "  </button>\n",
              "\n",
              "<style>\n",
              "  .colab-df-quickchart {\n",
              "      --bg-color: #E8F0FE;\n",
              "      --fill-color: #1967D2;\n",
              "      --hover-bg-color: #E2EBFA;\n",
              "      --hover-fill-color: #174EA6;\n",
              "      --disabled-fill-color: #AAA;\n",
              "      --disabled-bg-color: #DDD;\n",
              "  }\n",
              "\n",
              "  [theme=dark] .colab-df-quickchart {\n",
              "      --bg-color: #3B4455;\n",
              "      --fill-color: #D2E3FC;\n",
              "      --hover-bg-color: #434B5C;\n",
              "      --hover-fill-color: #FFFFFF;\n",
              "      --disabled-bg-color: #3B4455;\n",
              "      --disabled-fill-color: #666;\n",
              "  }\n",
              "\n",
              "  .colab-df-quickchart {\n",
              "    background-color: var(--bg-color);\n",
              "    border: none;\n",
              "    border-radius: 50%;\n",
              "    cursor: pointer;\n",
              "    display: none;\n",
              "    fill: var(--fill-color);\n",
              "    height: 32px;\n",
              "    padding: 0;\n",
              "    width: 32px;\n",
              "  }\n",
              "\n",
              "  .colab-df-quickchart:hover {\n",
              "    background-color: var(--hover-bg-color);\n",
              "    box-shadow: 0 1px 2px rgba(60, 64, 67, 0.3), 0 1px 3px 1px rgba(60, 64, 67, 0.15);\n",
              "    fill: var(--button-hover-fill-color);\n",
              "  }\n",
              "\n",
              "  .colab-df-quickchart-complete:disabled,\n",
              "  .colab-df-quickchart-complete:disabled:hover {\n",
              "    background-color: var(--disabled-bg-color);\n",
              "    fill: var(--disabled-fill-color);\n",
              "    box-shadow: none;\n",
              "  }\n",
              "\n",
              "  .colab-df-spinner {\n",
              "    border: 2px solid var(--fill-color);\n",
              "    border-color: transparent;\n",
              "    border-bottom-color: var(--fill-color);\n",
              "    animation:\n",
              "      spin 1s steps(1) infinite;\n",
              "  }\n",
              "\n",
              "  @keyframes spin {\n",
              "    0% {\n",
              "      border-color: transparent;\n",
              "      border-bottom-color: var(--fill-color);\n",
              "      border-left-color: var(--fill-color);\n",
              "    }\n",
              "    20% {\n",
              "      border-color: transparent;\n",
              "      border-left-color: var(--fill-color);\n",
              "      border-top-color: var(--fill-color);\n",
              "    }\n",
              "    30% {\n",
              "      border-color: transparent;\n",
              "      border-left-color: var(--fill-color);\n",
              "      border-top-color: var(--fill-color);\n",
              "      border-right-color: var(--fill-color);\n",
              "    }\n",
              "    40% {\n",
              "      border-color: transparent;\n",
              "      border-right-color: var(--fill-color);\n",
              "      border-top-color: var(--fill-color);\n",
              "    }\n",
              "    60% {\n",
              "      border-color: transparent;\n",
              "      border-right-color: var(--fill-color);\n",
              "    }\n",
              "    80% {\n",
              "      border-color: transparent;\n",
              "      border-right-color: var(--fill-color);\n",
              "      border-bottom-color: var(--fill-color);\n",
              "    }\n",
              "    90% {\n",
              "      border-color: transparent;\n",
              "      border-bottom-color: var(--fill-color);\n",
              "    }\n",
              "  }\n",
              "</style>\n",
              "\n",
              "  <script>\n",
              "    async function quickchart(key) {\n",
              "      const quickchartButtonEl =\n",
              "        document.querySelector('#' + key + ' button');\n",
              "      quickchartButtonEl.disabled = true;  // To prevent multiple clicks.\n",
              "      quickchartButtonEl.classList.add('colab-df-spinner');\n",
              "      try {\n",
              "        const charts = await google.colab.kernel.invokeFunction(\n",
              "            'suggestCharts', [key], {});\n",
              "      } catch (error) {\n",
              "        console.error('Error during call to suggestCharts:', error);\n",
              "      }\n",
              "      quickchartButtonEl.classList.remove('colab-df-spinner');\n",
              "      quickchartButtonEl.classList.add('colab-df-quickchart-complete');\n",
              "    }\n",
              "    (() => {\n",
              "      let quickchartButtonEl =\n",
              "        document.querySelector('#df-fecacb3a-9bd5-4213-84a6-7ab8ba63e17a button');\n",
              "      quickchartButtonEl.style.display =\n",
              "        google.colab.kernel.accessAllowed ? 'block' : 'none';\n",
              "    })();\n",
              "  </script>\n",
              "</div>\n",
              "\n",
              "    </div>\n",
              "  </div>\n"
            ],
            "application/vnd.google.colaboratory.intrinsic+json": {
              "type": "dataframe",
              "variable_name": "true_news",
              "summary": "{\n  \"name\": \"true_news\",\n  \"rows\": 21417,\n  \"fields\": [\n    {\n      \"column\": \"title\",\n      \"properties\": {\n        \"dtype\": \"string\",\n        \"num_unique_values\": 20826,\n        \"samples\": [\n          \"German, Turkish foreign ministers meet after detainee released\",\n          \"Kremlin calls North Korea's latest missile launch another 'provocation'\",\n          \"Transgender soldiers, veterans shaken by Trump's ban on their service\"\n        ],\n        \"semantic_type\": \"\",\n        \"description\": \"\"\n      }\n    },\n    {\n      \"column\": \"text\",\n      \"properties\": {\n        \"dtype\": \"string\",\n        \"num_unique_values\": 21192,\n        \"samples\": [\n          \"WASHINGTON (Reuters) - A majority of the U.S. Senate on Tuesday backed a new round of disaster aid to help Puerto Rico and several states recover from damage from hurricanes and wildfires. The legislation would provide $36.5 billion in emergency relief as Puerto Rico in particular struggles to regain electricity and other basic services following destructive hurricanes. The House of Representatives approved the bill earlier this month. The Trump administration already has indicated it will seek another round of emergency relief from Congress. \",\n          \"BUDAPEST (Reuters) - About a thousand Hungarians protested on Friday against a crackdown on the main opposition party Jobbik which has been  threatened by a record political campaign fine that the party leader describes as a  death sentence  for democracy. Despite the gloomy rhetoric and Jobbik saying it was fighting for survival, support for the demonstration was well down on other similar rallies over the past year. Hungarians will vote for a new parliament in April and Prime Minister Viktor Orban s conservative, anti-migrant Fidesz party is far ahead in the polls, with Jobbik its nearest rival. Jobbik, once on the far right, has turned toward the center in a bid to attract more support and is now campaigning nationwide against Orban, depicting him as the leader of a criminal gang. Orban, rejecting the charges, says his financial standing is  an open book . Last week the state audit office (ASZ) ruled Jobbik had bought political posters far below market prices, breaching rules on political funding, then it slapped a 663 million forint ($2.5 million) penalty on the party. The protesters, waving Jobbik flags and posters deriding the ruling elite, gathered outside the headquarters of Orban s Fidesz party.  What we see unfolding is not an audit office investigation. It is not an official penalty. This is a death sentence with Jobbik s name on it. But in reality, it is a death sentence for Hungarian democracy,  Jobbiik leader Gabor Vona told the crowd. A government spokesman could not comment immediately on his remarks. ASZ chairman Laszlo Domokos is a former Fidesz lawmaker, whom Jobbik and other critics accuse of making decisions in favor of Orban. The audit office denies that. On Friday, ASZ again called on Jobbik to submit information that would challenge its findings, saying it acted fully within its rights throughout the probe. The ruling Fidesz party and the government have denied any involvement in the ASZ probe.  This case has nothing to do with the election campaign,  Orban aide Janos Lazar said on Thursday. For over a year Fidesz has targeted Jobbik, whose move to the center could upend the longstanding status quo of a dominant Fidesz with weaker opponents to its left and its right, said analyst Zoltan Novak at the Centre for Fair Political Analysis. Gyorgy Illes, a 67-year-old pensioner attending the rally, said he used to be a Socialist supporter but got disillusioned as the party struggled to overcome its internal divisions.  This ASZ probe is a clear sign that Orban is way past any remedy. It is a ruthless attack on everything we hold dear. Democracy, the rule of law, equality, you name it,  he said. \",\n          \"BEIJING/TAIPEI (Reuters) - China accused the United States on Thursday of interfering in its internal affairs and said it had lodged a complaint after U.S. President Donald Trump signed into law an act laying the groundwork for possible U.S. navy visits to self-ruled Taiwan. Tensions have risen in recent days after a senior Chinese diplomat threatened China would invade Taiwan if any U.S. warships made port visits to the island which China claims as its own territory. On Monday, Chinese jets carried out  island encirclement patrols  around Taiwan, with state media showing pictures of bombers with cruise missiles slung under their wings as they carried out the exercise. On Tuesday, Trump signed into law the National Defense Authorization Act for the 2018 fiscal year, which authorizes the possibility of mutual visits by navy vessels between Taiwan and the United States. Such visits would be the first since the United States ended formal diplomatic relations with Taiwan in 1979 and established ties with Beijing. Chinese Foreign Ministry spokesman Lu Kang said while the Taiwan sections of the law were not legally binding, they seriously violate the  One China  policy and  constitute an interference in China s internal affairs .   China is resolutely opposed to this, and we have already lodged stern representations with the U.S. government,  Lu told a daily news briefing. China is firmly opposed to any official exchanges, military contact, or arms sales between Taiwan and the United States, he added.  Proudly democratic Taiwan has become increasingly concerned with the ramped up Chinese military presence, that has included several rounds of Chinese air force drills around the island in recent months.  Taiwan is confident of its defenses and responded quickly to the Chinese air force drills this week, its government said, denouncing the rise in China s military deployments as irresponsible. Taiwan presidential spokesman Alex Huang, speaking to Taiwan media in comments reported late on Wednesday, said the defense ministry had kept a close watch on the patrols and responded immediately and properly. Taiwan  can ensure there are no concerns at all about national security, and people can rest assured , Huang said. Both sides of the narrow Taiwan Strait, which separates Taiwan from its giant neighbor, have a responsibility to protect peace and stability, he added.  Such a raised military posture that may impact upon and harm regional peace and stability and cross-strait ties does not give a feeling of responsibility, and the international community does not look favorably upon this,  Huang was quoted as saying. Relations have soured considerably since Tsai Ing-wen, who leads Taiwan s independence-leaning Democratic Progressive Party, won presidential elections last year. China suspects Tsai wants to declare the island s formal independence, a red line for Beijing. Tsai says she wants to maintain peace with China but will defend Taiwan s security. Taiwan is well equipped with mostly U.S. weapons but has been pressing for more advanced equipment to deal with what it sees as a rising threat from China. The United States is bound by law to provide the island with the means to defend itself. China has never renounced the use of force to bring Taiwan under its control. \"\n        ],\n        \"semantic_type\": \"\",\n        \"description\": \"\"\n      }\n    },\n    {\n      \"column\": \"subject\",\n      \"properties\": {\n        \"dtype\": \"category\",\n        \"num_unique_values\": 2,\n        \"samples\": [\n          \"worldnews\",\n          \"politicsNews\"\n        ],\n        \"semantic_type\": \"\",\n        \"description\": \"\"\n      }\n    },\n    {\n      \"column\": \"date\",\n      \"properties\": {\n        \"dtype\": \"object\",\n        \"num_unique_values\": 716,\n        \"samples\": [\n          \"September 2, 2017 \",\n          \"February 2, 2017 \"\n        ],\n        \"semantic_type\": \"\",\n        \"description\": \"\"\n      }\n    }\n  ]\n}"
            }
          },
          "metadata": {},
          "execution_count": 7
        }
      ]
    },
    {
      "cell_type": "code",
      "source": [
        "fake_news.info()"
      ],
      "metadata": {
        "colab": {
          "base_uri": "https://localhost:8080/"
        },
        "id": "AFE1gVk9W8vr",
        "outputId": "3cdbad65-a497-4cc0-b1eb-05f4d6ec8025"
      },
      "execution_count": null,
      "outputs": [
        {
          "output_type": "stream",
          "name": "stdout",
          "text": [
            "<class 'pandas.core.frame.DataFrame'>\n",
            "RangeIndex: 23481 entries, 0 to 23480\n",
            "Data columns (total 4 columns):\n",
            " #   Column   Non-Null Count  Dtype \n",
            "---  ------   --------------  ----- \n",
            " 0   title    23481 non-null  object\n",
            " 1   text     23481 non-null  object\n",
            " 2   subject  23481 non-null  object\n",
            " 3   date     23481 non-null  object\n",
            "dtypes: object(4)\n",
            "memory usage: 733.9+ KB\n"
          ]
        }
      ]
    },
    {
      "cell_type": "code",
      "source": [
        "true_news.info()"
      ],
      "metadata": {
        "colab": {
          "base_uri": "https://localhost:8080/"
        },
        "id": "1QjeOASfWi67",
        "outputId": "7cd3fa62-1b8e-4b1b-c78f-51c279adb2d6"
      },
      "execution_count": null,
      "outputs": [
        {
          "output_type": "stream",
          "name": "stdout",
          "text": [
            "<class 'pandas.core.frame.DataFrame'>\n",
            "RangeIndex: 21417 entries, 0 to 21416\n",
            "Data columns (total 4 columns):\n",
            " #   Column   Non-Null Count  Dtype \n",
            "---  ------   --------------  ----- \n",
            " 0   title    21417 non-null  object\n",
            " 1   text     21417 non-null  object\n",
            " 2   subject  21417 non-null  object\n",
            " 3   date     21417 non-null  object\n",
            "dtypes: object(4)\n",
            "memory usage: 669.4+ KB\n"
          ]
        }
      ]
    },
    {
      "cell_type": "code",
      "source": [
        "# Reviewing the subject feature in Fake news\n",
        "plt.figure(figsize=(30,30))\n",
        "sns.displot(x='subject', data=fake_news, height=4, aspect=2)\n",
        "plt.show()"
      ],
      "metadata": {
        "colab": {
          "base_uri": "https://localhost:8080/",
          "height": 424
        },
        "id": "PxMmQCA2dyGa",
        "outputId": "a5899633-7fbc-48ca-c1db-ed517901f814"
      },
      "execution_count": null,
      "outputs": [
        {
          "output_type": "display_data",
          "data": {
            "text/plain": [
              "<Figure size 3000x3000 with 0 Axes>"
            ]
          },
          "metadata": {}
        },
        {
          "output_type": "display_data",
          "data": {
            "text/plain": [
              "<Figure size 800x400 with 1 Axes>"
            ],
            "image/png": "[encoded data removed]"
          },
          "metadata": {}
        }
      ]
    },
    {
      "cell_type": "markdown",
      "source": [
        "Observation : We see Fake news of the data are more likely to be around the general news and politics"
      ],
      "metadata": {
        "id": "kH21tkL1pv5p"
      }
    },
    {
      "cell_type": "code",
      "source": [
        "# Reviewing the subject feature in True news\n",
        "plt.figure(figsize=(30,30))\n",
        "sns.displot(x='subject', data=true_news, height=4, aspect=2)\n",
        "plt.show()"
      ],
      "metadata": {
        "colab": {
          "base_uri": "https://localhost:8080/",
          "height": 424
        },
        "id": "AQUvWAOfdyJK",
        "outputId": "43c4aba8-702f-42f7-a8c2-d32c9e60be72"
      },
      "execution_count": null,
      "outputs": [
        {
          "output_type": "display_data",
          "data": {
            "text/plain": [
              "<Figure size 3000x3000 with 0 Axes>"
            ]
          },
          "metadata": {}
        },
        {
          "output_type": "display_data",
          "data": {
            "text/plain": [
              "<Figure size 800x400 with 1 Axes>"
            ],
            "image/png": "[encoded data removed]"
          },
          "metadata": {}
        }
      ]
    },
    {
      "cell_type": "markdown",
      "source": [
        "Observation : The Genuine news were on Politics and International news"
      ],
      "metadata": {
        "id": "GwYlGjUmqE56"
      }
    },
    {
      "cell_type": "code",
      "source": [
        "# Calculate the median length of text in the true_news dataset\n",
        "median_length_true_news = true_news['text'].apply(len).median()\n",
        "\n",
        "# Calculate the median length of text in the fake_news dataset\n",
        "median_length_fake_news = fake_news['text'].apply(len).median()\n",
        "\n",
        "print(\"median length of true news text:\", median_length_true_news)\n",
        "print(\"median length of fake news text:\", median_length_fake_news)"
      ],
      "metadata": {
        "colab": {
          "base_uri": "https://localhost:8080/"
        },
        "id": "B3plOg5-skzu",
        "outputId": "c8911288-69bb-43af-a022-fe860c9857f9"
      },
      "execution_count": null,
      "outputs": [
        {
          "output_type": "stream",
          "name": "stdout",
          "text": [
            "median length of true news text: 2222.0\n",
            "median length of fake news text: 2166.0\n"
          ]
        }
      ]
    },
    {
      "cell_type": "markdown",
      "source": [
        "Insight : The real news seem to be conistsing of 56 words on median higher than fake news"
      ],
      "metadata": {
        "id": "21Y-8_d7uGpg"
      }
    },
    {
      "cell_type": "code",
      "source": [
        "# News from Publishers\n",
        "print(true_news['text'][0])\n",
        "print(true_news['text'][1])"
      ],
      "metadata": {
        "colab": {
          "base_uri": "https://localhost:8080/"
        },
        "id": "YKFT8GqkqWBK",
        "outputId": "3e46ec34-0853-4a68-f39d-740cdfd36fda"
      },
      "execution_count": null,
      "outputs": [
        {
          "output_type": "stream",
          "name": "stdout",
          "text": [
            "WASHINGTON (Reuters) - The head of a conservative Republican faction in the U.S. Congress, who voted this month for a huge expansion of the national debt to pay for tax cuts, called himself a “fiscal conservative” on Sunday and urged budget restraint in 2018. In keeping with a sharp pivot under way among Republicans, U.S. Representative Mark Meadows, speaking on CBS’ “Face the Nation,” drew a hard line on federal spending, which lawmakers are bracing to do battle over in January. When they return from the holidays on Wednesday, lawmakers will begin trying to pass a federal budget in a fight likely to be linked to other issues, such as immigration policy, even as the November congressional election campaigns approach in which Republicans will seek to keep control of Congress. President Donald Trump and his Republicans want a big budget increase in military spending, while Democrats also want proportional increases for non-defense “discretionary” spending on programs that support education, scientific research, infrastructure, public health and environmental protection. “The (Trump) administration has already been willing to say: ‘We’re going to increase non-defense discretionary spending ... by about 7 percent,’” Meadows, chairman of the small but influential House Freedom Caucus, said on the program. “Now, Democrats are saying that’s not enough, we need to give the government a pay raise of 10 to 11 percent. For a fiscal conservative, I don’t see where the rationale is. ... Eventually you run out of other people’s money,” he said. Meadows was among Republicans who voted in late December for their party’s debt-financed tax overhaul, which is expected to balloon the federal budget deficit and add about $1.5 trillion over 10 years to the $20 trillion national debt. “It’s interesting to hear Mark talk about fiscal responsibility,” Democratic U.S. Representative Joseph Crowley said on CBS. Crowley said the Republican tax bill would require the  United States to borrow $1.5 trillion, to be paid off by future generations, to finance tax cuts for corporations and the rich. “This is one of the least ... fiscally responsible bills we’ve ever seen passed in the history of the House of Representatives. I think we’re going to be paying for this for many, many years to come,” Crowley said. Republicans insist the tax package, the biggest U.S. tax overhaul in more than 30 years,  will boost the economy and job growth. House Speaker Paul Ryan, who also supported the tax bill, recently went further than Meadows, making clear in a radio interview that welfare or “entitlement reform,” as the party often calls it, would be a top Republican priority in 2018. In Republican parlance, “entitlement” programs mean food stamps, housing assistance, Medicare and Medicaid health insurance for the elderly, poor and disabled, as well as other programs created by Washington to assist the needy. Democrats seized on Ryan’s early December remarks, saying they showed Republicans would try to pay for their tax overhaul by seeking spending cuts for social programs. But the goals of House Republicans may have to take a back seat to the Senate, where the votes of some Democrats will be needed to approve a budget and prevent a government shutdown. Democrats will use their leverage in the Senate, which Republicans narrowly control, to defend both discretionary non-defense programs and social spending, while tackling the issue of the “Dreamers,” people brought illegally to the country as children. Trump in September put a March 2018 expiration date on the Deferred Action for Childhood Arrivals, or DACA, program, which protects the young immigrants from deportation and provides them with work permits. The president has said in recent Twitter messages he wants funding for his proposed Mexican border wall and other immigration law changes in exchange for agreeing to help the Dreamers. Representative Debbie Dingell told CBS she did not favor linking that issue to other policy objectives, such as wall funding. “We need to do DACA clean,” she said.  On Wednesday, Trump aides will meet with congressional leaders to discuss those issues. That will be followed by a weekend of strategy sessions for Trump and Republican leaders on Jan. 6 and 7, the White House said. Trump was also scheduled to meet on Sunday with Florida Republican Governor Rick Scott, who wants more emergency aid. The House has passed an $81 billion aid package after hurricanes in Florida, Texas and Puerto Rico, and wildfires in California. The package far exceeded the $44 billion requested by the Trump administration. The Senate has not yet voted on the aid. \n",
            "WASHINGTON (Reuters) - Transgender people will be allowed for the first time to enlist in the U.S. military starting on Monday as ordered by federal courts, the Pentagon said on Friday, after President Donald Trump’s administration decided not to appeal rulings that blocked his transgender ban. Two federal appeals courts, one in Washington and one in Virginia, last week rejected the administration’s request to put on hold orders by lower court judges requiring the military to begin accepting transgender recruits on Jan. 1. A Justice Department official said the administration will not challenge those rulings. “The Department of Defense has announced that it will be releasing an independent study of these issues in the coming weeks. So rather than litigate this interim appeal before that occurs, the administration has decided to wait for DOD’s study and will continue to defend the president’s lawful authority in District Court in the meantime,” the official said, speaking on condition of anonymity. In September, the Pentagon said it had created a panel of senior officials to study how to implement a directive by Trump to prohibit transgender individuals from serving. The Defense Department has until Feb. 21 to submit a plan to Trump. Lawyers representing currently-serving transgender service members and aspiring recruits said they had expected the administration to appeal the rulings to the conservative-majority Supreme Court, but were hoping that would not happen. Pentagon spokeswoman Heather Babb said in a statement: “As mandated by court order, the Department of Defense is prepared to begin accessing transgender applicants for military service Jan. 1. All applicants must meet all accession standards.” Jennifer Levi, a lawyer with gay, lesbian and transgender advocacy group GLAD, called the decision not to appeal “great news.” “I’m hoping it means the government has come to see that there is no way to justify a ban and that it’s not good for the military or our country,” Levi said. Both GLAD and the American Civil Liberties Union represent plaintiffs in the lawsuits filed against the administration. In a move that appealed to his hard-line conservative supporters, Trump announced in July that he would prohibit transgender people from serving in the military, reversing Democratic President Barack Obama’s policy of accepting them. Trump said on Twitter at the time that the military “cannot be burdened with the tremendous medical costs and disruption that transgender in the military would entail.” Four federal judges - in Baltimore, Washington, D.C., Seattle and Riverside, California - have issued rulings blocking Trump’s ban while legal challenges to the Republican president’s policy proceed. The judges said the ban would likely violate the right under the U.S. Constitution to equal protection under the law. The Pentagon on Dec. 8 issued guidelines to recruitment personnel in order to enlist transgender applicants by Jan. 1. The memo outlined medical requirements and specified how the applicants’ sex would be identified and even which undergarments they would wear. The Trump administration previously said in legal papers that the armed forces were not prepared to train thousands of personnel on the medical standards needed to process transgender applicants and might have to accept “some individuals who are not medically fit for service.” The Obama administration had set a deadline of July 1, 2017, to begin accepting transgender recruits. But Trump’s defense secretary, James Mattis, postponed that date to Jan. 1, 2018, which the president’s ban then put off indefinitely. Trump has taken other steps aimed at rolling back transgender rights. In October, his administration said a federal law banning gender-based workplace discrimination does not protect transgender employees, reversing another Obama-era position. In February, Trump rescinded guidance issued by the Obama administration saying that public schools should allow transgender students to use the restroom that corresponds to their gender identity. \n"
          ]
        }
      ]
    },
    {
      "cell_type": "code",
      "source": [
        "def clean_text(text):\n",
        "    try:\n",
        "        split_text = text.split(\"-\", maxsplit=1)[1]\n",
        "        clean_text = split_text.split(\" -- Source link: \")[0]\n",
        "        return clean_text\n",
        "    except IndexError:\n",
        "        return text  # Return original text if splitting process fails\n",
        "\n",
        "# Apply the function to the 'text' feature and update 'cleaned_text' column\n",
        "true_news['clean_text'] = true_news['text'].apply(clean_text)"
      ],
      "metadata": {
        "id": "RkdkMxfd9EZ8"
      },
      "execution_count": null,
      "outputs": []
    },
    {
      "cell_type": "code",
      "source": [
        "true_news['text'][8]"
      ],
      "metadata": {
        "colab": {
          "base_uri": "https://localhost:8080/",
          "height": 87
        },
        "id": "dowSDscc9suu",
        "outputId": "224fd048-29de-4bef-9edc-00d1351873b1"
      },
      "execution_count": null,
      "outputs": [
        {
          "output_type": "execute_result",
          "data": {
            "text/plain": [
              "'The following statements\\xa0were posted to the verified Twitter accounts of U.S. President Donald Trump, @realDonaldTrump and @POTUS.  The opinions expressed are his own.\\xa0Reuters has not edited the statements or confirmed their accuracy.  @realDonaldTrump : - Together, we are MAKING AMERICA GREAT AGAIN! bit.ly/2lnpKaq [1814 EST] - In the East, it could be the COLDEST New Year’s Eve on record. Perhaps we could use a little bit of that good old Global Warming that our Country, but not other countries, was going to pay TRILLIONS OF DOLLARS to protect against. Bundle up! [1901 EST] -- Source link: (bit.ly/2jBh4LU) (bit.ly/2jpEXYR) '"
            ],
            "application/vnd.google.colaboratory.intrinsic+json": {
              "type": "string"
            }
          },
          "metadata": {},
          "execution_count": 16
        }
      ]
    },
    {
      "cell_type": "code",
      "source": [
        "true_news['clean_text'][8] # tweet"
      ],
      "metadata": {
        "colab": {
          "base_uri": "https://localhost:8080/",
          "height": 53
        },
        "id": "Yep0h_Qgr0DF",
        "outputId": "4a129e2f-fb74-44a8-f4ad-eae69318556f"
      },
      "execution_count": null,
      "outputs": [
        {
          "output_type": "execute_result",
          "data": {
            "text/plain": [
              "' Together, we are MAKING AMERICA GREAT AGAIN! bit.ly/2lnpKaq [1814 EST] - In the East, it could be the COLDEST New Year’s Eve on record. Perhaps we could use a little bit of that good old Global Warming that our Country, but not other countries, was going to pay TRILLIONS OF DOLLARS to protect against. Bundle up! [1901 EST]'"
            ],
            "application/vnd.google.colaboratory.intrinsic+json": {
              "type": "string"
            }
          },
          "metadata": {},
          "execution_count": 17
        }
      ]
    },
    {
      "cell_type": "code",
      "source": [
        "true_news.head(5)"
      ],
      "metadata": {
        "colab": {
          "base_uri": "https://localhost:8080/",
          "height": 206
        },
        "id": "7TFaZoCm-_kE",
        "outputId": "c886e9f3-a390-4bf9-a01a-60d4a2c67fec"
      },
      "execution_count": null,
      "outputs": [
        {
          "output_type": "execute_result",
          "data": {
            "text/plain": [
              "                                               title  \\\n",
              "0  As U.S. budget fight looms, Republicans flip t...   \n",
              "1  U.S. military to accept transgender recruits o...   \n",
              "2  Senior U.S. Republican senator: 'Let Mr. Muell...   \n",
              "3  FBI Russia probe helped by Australian diplomat...   \n",
              "4  Trump wants Postal Service to charge 'much mor...   \n",
              "\n",
              "                                                text       subject  \\\n",
              "0  WASHINGTON (Reuters) - The head of a conservat...  politicsNews   \n",
              "1  WASHINGTON (Reuters) - Transgender people will...  politicsNews   \n",
              "2  WASHINGTON (Reuters) - The special counsel inv...  politicsNews   \n",
              "3  WASHINGTON (Reuters) - Trump campaign adviser ...  politicsNews   \n",
              "4  SEATTLE/WASHINGTON (Reuters) - President Donal...  politicsNews   \n",
              "\n",
              "                 date                                         clean_text  \n",
              "0  December 31, 2017    The head of a conservative Republican faction...  \n",
              "1  December 29, 2017    Transgender people will be allowed for the fi...  \n",
              "2  December 31, 2017    The special counsel investigation of links be...  \n",
              "3  December 30, 2017    Trump campaign adviser George Papadopoulos to...  \n",
              "4  December 29, 2017    President Donald Trump called on the U.S. Pos...  "
            ],
            "text/html": [
              "\n",
              "  <div id=\"df-be2835b4-8b9c-4cb3-be88-79ad4be3d29e\" class=\"colab-df-container\">\n",
              "    <div>\n",
              "<style scoped>\n",
              "    .dataframe tbody tr th:only-of-type {\n",
              "        vertical-align: middle;\n",
              "    }\n",
              "\n",
              "    .dataframe tbody tr th {\n",
              "        vertical-align: top;\n",
              "    }\n",
              "\n",
              "    .dataframe thead th {\n",
              "        text-align: right;\n",
              "    }\n",
              "</style>\n",
              "<table border=\"1\" class=\"dataframe\">\n",
              "  <thead>\n",
              "    <tr style=\"text-align: right;\">\n",
              "      <th></th>\n",
              "      <th>title</th>\n",
              "      <th>text</th>\n",
              "      <th>subject</th>\n",
              "      <th>date</th>\n",
              "      <th>clean_text</th>\n",
              "    </tr>\n",
              "  </thead>\n",
              "  <tbody>\n",
              "    <tr>\n",
              "      <th>0</th>\n",
              "      <td>As U.S. budget fight looms, Republicans flip t...</td>\n",
              "      <td>WASHINGTON (Reuters) - The head of a conservat...</td>\n",
              "      <td>politicsNews</td>\n",
              "      <td>December 31, 2017</td>\n",
              "      <td>The head of a conservative Republican faction...</td>\n",
              "    </tr>\n",
              "    <tr>\n",
              "      <th>1</th>\n",
              "      <td>U.S. military to accept transgender recruits o...</td>\n",
              "      <td>WASHINGTON (Reuters) - Transgender people will...</td>\n",
              "      <td>politicsNews</td>\n",
              "      <td>December 29, 2017</td>\n",
              "      <td>Transgender people will be allowed for the fi...</td>\n",
              "    </tr>\n",
              "    <tr>\n",
              "      <th>2</th>\n",
              "      <td>Senior U.S. Republican senator: 'Let Mr. Muell...</td>\n",
              "      <td>WASHINGTON (Reuters) - The special counsel inv...</td>\n",
              "      <td>politicsNews</td>\n",
              "      <td>December 31, 2017</td>\n",
              "      <td>The special counsel investigation of links be...</td>\n",
              "    </tr>\n",
              "    <tr>\n",
              "      <th>3</th>\n",
              "      <td>FBI Russia probe helped by Australian diplomat...</td>\n",
              "      <td>WASHINGTON (Reuters) - Trump campaign adviser ...</td>\n",
              "      <td>politicsNews</td>\n",
              "      <td>December 30, 2017</td>\n",
              "      <td>Trump campaign adviser George Papadopoulos to...</td>\n",
              "    </tr>\n",
              "    <tr>\n",
              "      <th>4</th>\n",
              "      <td>Trump wants Postal Service to charge 'much mor...</td>\n",
              "      <td>SEATTLE/WASHINGTON (Reuters) - President Donal...</td>\n",
              "      <td>politicsNews</td>\n",
              "      <td>December 29, 2017</td>\n",
              "      <td>President Donald Trump called on the U.S. Pos...</td>\n",
              "    </tr>\n",
              "  </tbody>\n",
              "</table>\n",
              "</div>\n",
              "    <div class=\"colab-df-buttons\">\n",
              "\n",
              "  <div class=\"colab-df-container\">\n",
              "    <button class=\"colab-df-convert\" onclick=\"convertToInteractive('df-be2835b4-8b9c-4cb3-be88-79ad4be3d29e')\"\n",
              "            title=\"Convert this dataframe to an interactive table.\"\n",
              "            style=\"display:none;\">\n",
              "\n",
              "  <svg xmlns=\"http://www.w3.org/2000/svg\" height=\"24px\" viewBox=\"0 -960 960 960\">\n",
              "    <path d=\"M120-120v-720h720v720H120Zm60-500h600v-160H180v160Zm220 220h160v-160H400v160Zm0 220h160v-160H400v160ZM180-400h160v-160H180v160Zm440 0h160v-160H620v160ZM180-180h160v-160H180v160Zm440 0h160v-160H620v160Z\"/>\n",
              "  </svg>\n",
              "    </button>\n",
              "\n",
              "  <style>\n",
              "    .colab-df-container {\n",
              "      display:flex;\n",
              "      gap: 12px;\n",
              "    }\n",
              "\n",
              "    .colab-df-convert {\n",
              "      background-color: #E8F0FE;\n",
              "      border: none;\n",
              "      border-radius: 50%;\n",
              "      cursor: pointer;\n",
              "      display: none;\n",
              "      fill: #1967D2;\n",
              "      height: 32px;\n",
              "      padding: 0 0 0 0;\n",
              "      width: 32px;\n",
              "    }\n",
              "\n",
              "    .colab-df-convert:hover {\n",
              "      background-color: #E2EBFA;\n",
              "      box-shadow: 0px 1px 2px rgba(60, 64, 67, 0.3), 0px 1px 3px 1px rgba(60, 64, 67, 0.15);\n",
              "      fill: #174EA6;\n",
              "    }\n",
              "\n",
              "    .colab-df-buttons div {\n",
              "      margin-bottom: 4px;\n",
              "    }\n",
              "\n",
              "    [theme=dark] .colab-df-convert {\n",
              "      background-color: #3B4455;\n",
              "      fill: #D2E3FC;\n",
              "    }\n",
              "\n",
              "    [theme=dark] .colab-df-convert:hover {\n",
              "      background-color: #434B5C;\n",
              "      box-shadow: 0px 1px 3px 1px rgba(0, 0, 0, 0.15);\n",
              "      filter: drop-shadow(0px 1px 2px rgba(0, 0, 0, 0.3));\n",
              "      fill: #FFFFFF;\n",
              "    }\n",
              "  </style>\n",
              "\n",
              "    <script>\n",
              "      const buttonEl =\n",
              "        document.querySelector('#df-be2835b4-8b9c-4cb3-be88-79ad4be3d29e button.colab-df-convert');\n",
              "      buttonEl.style.display =\n",
              "        google.colab.kernel.accessAllowed ? 'block' : 'none';\n",
              "\n",
              "      async function convertToInteractive(key) {\n",
              "        const element = document.querySelector('#df-be2835b4-8b9c-4cb3-be88-79ad4be3d29e');\n",
              "        const dataTable =\n",
              "          await google.colab.kernel.invokeFunction('convertToInteractive',\n",
              "                                                    [key], {});\n",
              "        if (!dataTable) return;\n",
              "\n",
              "        const docLinkHtml = 'Like what you see? Visit the ' +\n",
              "          '<a target=\"_blank\" href=https://colab.research.google.com/notebooks/data_table.ipynb>data table notebook</a>'\n",
              "          + ' to learn more about interactive tables.';\n",
              "        element.innerHTML = '';\n",
              "        dataTable['output_type'] = 'display_data';\n",
              "        await google.colab.output.renderOutput(dataTable, element);\n",
              "        const docLink = document.createElement('div');\n",
              "        docLink.innerHTML = docLinkHtml;\n",
              "        element.appendChild(docLink);\n",
              "      }\n",
              "    </script>\n",
              "  </div>\n",
              "\n",
              "\n",
              "<div id=\"df-03e11662-b138-45ae-861b-2aba3db67ff4\">\n",
              "  <button class=\"colab-df-quickchart\" onclick=\"quickchart('df-03e11662-b138-45ae-861b-2aba3db67ff4')\"\n",
              "            title=\"Suggest charts\"\n",
              "            style=\"display:none;\">\n",
              "\n",
              "<svg xmlns=\"http://www.w3.org/2000/svg\" height=\"24px\"viewBox=\"0 0 24 24\"\n",
              "     width=\"24px\">\n",
              "    <g>\n",
              "        <path d=\"M19 3H5c-1.1 0-2 .9-2 2v14c0 1.1.9 2 2 2h14c1.1 0 2-.9 2-2V5c0-1.1-.9-2-2-2zM9 17H7v-7h2v7zm4 0h-2V7h2v10zm4 0h-2v-4h2v4z\"/>\n",
              "    </g>\n",
              "</svg>\n",
              "  </button>\n",
              "\n",
              "<style>\n",
              "  .colab-df-quickchart {\n",
              "      --bg-color: #E8F0FE;\n",
              "      --fill-color: #1967D2;\n",
              "      --hover-bg-color: #E2EBFA;\n",
              "      --hover-fill-color: #174EA6;\n",
              "      --disabled-fill-color: #AAA;\n",
              "      --disabled-bg-color: #DDD;\n",
              "  }\n",
              "\n",
              "  [theme=dark] .colab-df-quickchart {\n",
              "      --bg-color: #3B4455;\n",
              "      --fill-color: #D2E3FC;\n",
              "      --hover-bg-color: #434B5C;\n",
              "      --hover-fill-color: #FFFFFF;\n",
              "      --disabled-bg-color: #3B4455;\n",
              "      --disabled-fill-color: #666;\n",
              "  }\n",
              "\n",
              "  .colab-df-quickchart {\n",
              "    background-color: var(--bg-color);\n",
              "    border: none;\n",
              "    border-radius: 50%;\n",
              "    cursor: pointer;\n",
              "    display: none;\n",
              "    fill: var(--fill-color);\n",
              "    height: 32px;\n",
              "    padding: 0;\n",
              "    width: 32px;\n",
              "  }\n",
              "\n",
              "  .colab-df-quickchart:hover {\n",
              "    background-color: var(--hover-bg-color);\n",
              "    box-shadow: 0 1px 2px rgba(60, 64, 67, 0.3), 0 1px 3px 1px rgba(60, 64, 67, 0.15);\n",
              "    fill: var(--button-hover-fill-color);\n",
              "  }\n",
              "\n",
              "  .colab-df-quickchart-complete:disabled,\n",
              "  .colab-df-quickchart-complete:disabled:hover {\n",
              "    background-color: var(--disabled-bg-color);\n",
              "    fill: var(--disabled-fill-color);\n",
              "    box-shadow: none;\n",
              "  }\n",
              "\n",
              "  .colab-df-spinner {\n",
              "    border: 2px solid var(--fill-color);\n",
              "    border-color: transparent;\n",
              "    border-bottom-color: var(--fill-color);\n",
              "    animation:\n",
              "      spin 1s steps(1) infinite;\n",
              "  }\n",
              "\n",
              "  @keyframes spin {\n",
              "    0% {\n",
              "      border-color: transparent;\n",
              "      border-bottom-color: var(--fill-color);\n",
              "      border-left-color: var(--fill-color);\n",
              "    }\n",
              "    20% {\n",
              "      border-color: transparent;\n",
              "      border-left-color: var(--fill-color);\n",
              "      border-top-color: var(--fill-color);\n",
              "    }\n",
              "    30% {\n",
              "      border-color: transparent;\n",
              "      border-left-color: var(--fill-color);\n",
              "      border-top-color: var(--fill-color);\n",
              "      border-right-color: var(--fill-color);\n",
              "    }\n",
              "    40% {\n",
              "      border-color: transparent;\n",
              "      border-right-color: var(--fill-color);\n",
              "      border-top-color: var(--fill-color);\n",
              "    }\n",
              "    60% {\n",
              "      border-color: transparent;\n",
              "      border-right-color: var(--fill-color);\n",
              "    }\n",
              "    80% {\n",
              "      border-color: transparent;\n",
              "      border-right-color: var(--fill-color);\n",
              "      border-bottom-color: var(--fill-color);\n",
              "    }\n",
              "    90% {\n",
              "      border-color: transparent;\n",
              "      border-bottom-color: var(--fill-color);\n",
              "    }\n",
              "  }\n",
              "</style>\n",
              "\n",
              "  <script>\n",
              "    async function quickchart(key) {\n",
              "      const quickchartButtonEl =\n",
              "        document.querySelector('#' + key + ' button');\n",
              "      quickchartButtonEl.disabled = true;  // To prevent multiple clicks.\n",
              "      quickchartButtonEl.classList.add('colab-df-spinner');\n",
              "      try {\n",
              "        const charts = await google.colab.kernel.invokeFunction(\n",
              "            'suggestCharts', [key], {});\n",
              "      } catch (error) {\n",
              "        console.error('Error during call to suggestCharts:', error);\n",
              "      }\n",
              "      quickchartButtonEl.classList.remove('colab-df-spinner');\n",
              "      quickchartButtonEl.classList.add('colab-df-quickchart-complete');\n",
              "    }\n",
              "    (() => {\n",
              "      let quickchartButtonEl =\n",
              "        document.querySelector('#df-03e11662-b138-45ae-861b-2aba3db67ff4 button');\n",
              "      quickchartButtonEl.style.display =\n",
              "        google.colab.kernel.accessAllowed ? 'block' : 'none';\n",
              "    })();\n",
              "  </script>\n",
              "</div>\n",
              "\n",
              "    </div>\n",
              "  </div>\n"
            ],
            "application/vnd.google.colaboratory.intrinsic+json": {
              "type": "dataframe",
              "variable_name": "true_news",
              "summary": "{\n  \"name\": \"true_news\",\n  \"rows\": 21417,\n  \"fields\": [\n    {\n      \"column\": \"title\",\n      \"properties\": {\n        \"dtype\": \"string\",\n        \"num_unique_values\": 20826,\n        \"samples\": [\n          \"German, Turkish foreign ministers meet after detainee released\",\n          \"Kremlin calls North Korea's latest missile launch another 'provocation'\",\n          \"Transgender soldiers, veterans shaken by Trump's ban on their service\"\n        ],\n        \"semantic_type\": \"\",\n        \"description\": \"\"\n      }\n    },\n    {\n      \"column\": \"text\",\n      \"properties\": {\n        \"dtype\": \"string\",\n        \"num_unique_values\": 21192,\n        \"samples\": [\n          \"WASHINGTON (Reuters) - A majority of the U.S. Senate on Tuesday backed a new round of disaster aid to help Puerto Rico and several states recover from damage from hurricanes and wildfires. The legislation would provide $36.5 billion in emergency relief as Puerto Rico in particular struggles to regain electricity and other basic services following destructive hurricanes. The House of Representatives approved the bill earlier this month. The Trump administration already has indicated it will seek another round of emergency relief from Congress. \",\n          \"BUDAPEST (Reuters) - About a thousand Hungarians protested on Friday against a crackdown on the main opposition party Jobbik which has been  threatened by a record political campaign fine that the party leader describes as a  death sentence  for democracy. Despite the gloomy rhetoric and Jobbik saying it was fighting for survival, support for the demonstration was well down on other similar rallies over the past year. Hungarians will vote for a new parliament in April and Prime Minister Viktor Orban s conservative, anti-migrant Fidesz party is far ahead in the polls, with Jobbik its nearest rival. Jobbik, once on the far right, has turned toward the center in a bid to attract more support and is now campaigning nationwide against Orban, depicting him as the leader of a criminal gang. Orban, rejecting the charges, says his financial standing is  an open book . Last week the state audit office (ASZ) ruled Jobbik had bought political posters far below market prices, breaching rules on political funding, then it slapped a 663 million forint ($2.5 million) penalty on the party. The protesters, waving Jobbik flags and posters deriding the ruling elite, gathered outside the headquarters of Orban s Fidesz party.  What we see unfolding is not an audit office investigation. It is not an official penalty. This is a death sentence with Jobbik s name on it. But in reality, it is a death sentence for Hungarian democracy,  Jobbiik leader Gabor Vona told the crowd. A government spokesman could not comment immediately on his remarks. ASZ chairman Laszlo Domokos is a former Fidesz lawmaker, whom Jobbik and other critics accuse of making decisions in favor of Orban. The audit office denies that. On Friday, ASZ again called on Jobbik to submit information that would challenge its findings, saying it acted fully within its rights throughout the probe. The ruling Fidesz party and the government have denied any involvement in the ASZ probe.  This case has nothing to do with the election campaign,  Orban aide Janos Lazar said on Thursday. For over a year Fidesz has targeted Jobbik, whose move to the center could upend the longstanding status quo of a dominant Fidesz with weaker opponents to its left and its right, said analyst Zoltan Novak at the Centre for Fair Political Analysis. Gyorgy Illes, a 67-year-old pensioner attending the rally, said he used to be a Socialist supporter but got disillusioned as the party struggled to overcome its internal divisions.  This ASZ probe is a clear sign that Orban is way past any remedy. It is a ruthless attack on everything we hold dear. Democracy, the rule of law, equality, you name it,  he said. \",\n          \"BEIJING/TAIPEI (Reuters) - China accused the United States on Thursday of interfering in its internal affairs and said it had lodged a complaint after U.S. President Donald Trump signed into law an act laying the groundwork for possible U.S. navy visits to self-ruled Taiwan. Tensions have risen in recent days after a senior Chinese diplomat threatened China would invade Taiwan if any U.S. warships made port visits to the island which China claims as its own territory. On Monday, Chinese jets carried out  island encirclement patrols  around Taiwan, with state media showing pictures of bombers with cruise missiles slung under their wings as they carried out the exercise. On Tuesday, Trump signed into law the National Defense Authorization Act for the 2018 fiscal year, which authorizes the possibility of mutual visits by navy vessels between Taiwan and the United States. Such visits would be the first since the United States ended formal diplomatic relations with Taiwan in 1979 and established ties with Beijing. Chinese Foreign Ministry spokesman Lu Kang said while the Taiwan sections of the law were not legally binding, they seriously violate the  One China  policy and  constitute an interference in China s internal affairs .   China is resolutely opposed to this, and we have already lodged stern representations with the U.S. government,  Lu told a daily news briefing. China is firmly opposed to any official exchanges, military contact, or arms sales between Taiwan and the United States, he added.  Proudly democratic Taiwan has become increasingly concerned with the ramped up Chinese military presence, that has included several rounds of Chinese air force drills around the island in recent months.  Taiwan is confident of its defenses and responded quickly to the Chinese air force drills this week, its government said, denouncing the rise in China s military deployments as irresponsible. Taiwan presidential spokesman Alex Huang, speaking to Taiwan media in comments reported late on Wednesday, said the defense ministry had kept a close watch on the patrols and responded immediately and properly. Taiwan  can ensure there are no concerns at all about national security, and people can rest assured , Huang said. Both sides of the narrow Taiwan Strait, which separates Taiwan from its giant neighbor, have a responsibility to protect peace and stability, he added.  Such a raised military posture that may impact upon and harm regional peace and stability and cross-strait ties does not give a feeling of responsibility, and the international community does not look favorably upon this,  Huang was quoted as saying. Relations have soured considerably since Tsai Ing-wen, who leads Taiwan s independence-leaning Democratic Progressive Party, won presidential elections last year. China suspects Tsai wants to declare the island s formal independence, a red line for Beijing. Tsai says she wants to maintain peace with China but will defend Taiwan s security. Taiwan is well equipped with mostly U.S. weapons but has been pressing for more advanced equipment to deal with what it sees as a rising threat from China. The United States is bound by law to provide the island with the means to defend itself. China has never renounced the use of force to bring Taiwan under its control. \"\n        ],\n        \"semantic_type\": \"\",\n        \"description\": \"\"\n      }\n    },\n    {\n      \"column\": \"subject\",\n      \"properties\": {\n        \"dtype\": \"category\",\n        \"num_unique_values\": 2,\n        \"samples\": [\n          \"worldnews\",\n          \"politicsNews\"\n        ],\n        \"semantic_type\": \"\",\n        \"description\": \"\"\n      }\n    },\n    {\n      \"column\": \"date\",\n      \"properties\": {\n        \"dtype\": \"object\",\n        \"num_unique_values\": 716,\n        \"samples\": [\n          \"September 2, 2017 \",\n          \"February 2, 2017 \"\n        ],\n        \"semantic_type\": \"\",\n        \"description\": \"\"\n      }\n    },\n    {\n      \"column\": \"clean_text\",\n      \"properties\": {\n        \"dtype\": \"string\",\n        \"num_unique_values\": 21191,\n        \"samples\": [\n          \" A majority of the U.S. Senate on Tuesday backed a new round of disaster aid to help Puerto Rico and several states recover from damage from hurricanes and wildfires. The legislation would provide $36.5 billion in emergency relief as Puerto Rico in particular struggles to regain electricity and other basic services following destructive hurricanes. The House of Representatives approved the bill earlier this month. The Trump administration already has indicated it will seek another round of emergency relief from Congress. \",\n          \" About a thousand Hungarians protested on Friday against a crackdown on the main opposition party Jobbik which has been  threatened by a record political campaign fine that the party leader describes as a  death sentence  for democracy. Despite the gloomy rhetoric and Jobbik saying it was fighting for survival, support for the demonstration was well down on other similar rallies over the past year. Hungarians will vote for a new parliament in April and Prime Minister Viktor Orban s conservative, anti-migrant Fidesz party is far ahead in the polls, with Jobbik its nearest rival. Jobbik, once on the far right, has turned toward the center in a bid to attract more support and is now campaigning nationwide against Orban, depicting him as the leader of a criminal gang. Orban, rejecting the charges, says his financial standing is  an open book . Last week the state audit office (ASZ) ruled Jobbik had bought political posters far below market prices, breaching rules on political funding, then it slapped a 663 million forint ($2.5 million) penalty on the party. The protesters, waving Jobbik flags and posters deriding the ruling elite, gathered outside the headquarters of Orban s Fidesz party.  What we see unfolding is not an audit office investigation. It is not an official penalty. This is a death sentence with Jobbik s name on it. But in reality, it is a death sentence for Hungarian democracy,  Jobbiik leader Gabor Vona told the crowd. A government spokesman could not comment immediately on his remarks. ASZ chairman Laszlo Domokos is a former Fidesz lawmaker, whom Jobbik and other critics accuse of making decisions in favor of Orban. The audit office denies that. On Friday, ASZ again called on Jobbik to submit information that would challenge its findings, saying it acted fully within its rights throughout the probe. The ruling Fidesz party and the government have denied any involvement in the ASZ probe.  This case has nothing to do with the election campaign,  Orban aide Janos Lazar said on Thursday. For over a year Fidesz has targeted Jobbik, whose move to the center could upend the longstanding status quo of a dominant Fidesz with weaker opponents to its left and its right, said analyst Zoltan Novak at the Centre for Fair Political Analysis. Gyorgy Illes, a 67-year-old pensioner attending the rally, said he used to be a Socialist supporter but got disillusioned as the party struggled to overcome its internal divisions.  This ASZ probe is a clear sign that Orban is way past any remedy. It is a ruthless attack on everything we hold dear. Democracy, the rule of law, equality, you name it,  he said. \"\n        ],\n        \"semantic_type\": \"\",\n        \"description\": \"\"\n      }\n    }\n  ]\n}"
            }
          },
          "metadata": {},
          "execution_count": 22
        }
      ]
    },
    {
      "cell_type": "code",
      "source": [
        "true_news.notna().sum()"
      ],
      "metadata": {
        "colab": {
          "base_uri": "https://localhost:8080/"
        },
        "id": "2DvhZEm7-NOP",
        "outputId": "749c3c65-7ab7-4098-9b15-61f5083b19a4"
      },
      "execution_count": null,
      "outputs": [
        {
          "output_type": "execute_result",
          "data": {
            "text/plain": [
              "title         21417\n",
              "text          21417\n",
              "subject       21417\n",
              "date          21417\n",
              "clean_text    21417\n",
              "dtype: int64"
            ]
          },
          "metadata": {},
          "execution_count": 23
        }
      ]
    },
    {
      "cell_type": "code",
      "source": [
        "true_news.drop(['text'],inplace=True,axis=1)"
      ],
      "metadata": {
        "id": "5mwIQQ07A4Z-"
      },
      "execution_count": null,
      "outputs": []
    },
    {
      "cell_type": "code",
      "source": [
        "# There is a text row with space as values in test data\n",
        "\n",
        "null_index = [index for index, clean_text in enumerate(true_news.clean_text.tolist()) if str(clean_text).strip()==\"\"]"
      ],
      "metadata": {
        "id": "HDqNWenKCnXf"
      },
      "execution_count": null,
      "outputs": []
    },
    {
      "cell_type": "code",
      "source": [
        "len(true_news.iloc[null_index])"
      ],
      "metadata": {
        "colab": {
          "base_uri": "https://localhost:8080/"
        },
        "id": "lK9L80d5C_4W",
        "outputId": "aefe87b8-3a8e-4476-b08d-ded83c936b02"
      },
      "execution_count": null,
      "outputs": [
        {
          "output_type": "execute_result",
          "data": {
            "text/plain": [
              "1"
            ]
          },
          "metadata": {},
          "execution_count": 26
        }
      ]
    },
    {
      "cell_type": "code",
      "source": [
        "true_news.iloc[null_index]"
      ],
      "metadata": {
        "colab": {
          "base_uri": "https://localhost:8080/",
          "height": 81
        },
        "id": "5hKvzEUhCvNi",
        "outputId": "fc8dea70-25a2-4d6e-f27e-9f47095d01dc"
      },
      "execution_count": null,
      "outputs": [
        {
          "output_type": "execute_result",
          "data": {
            "text/plain": [
              "                               title       subject            date clean_text\n",
              "8970  Graphic: Supreme Court roundup  politicsNews  June 16, 2016            "
            ],
            "text/html": [
              "\n",
              "  <div id=\"df-b47d96ca-ad67-4261-8d14-da926387ba0b\" class=\"colab-df-container\">\n",
              "    <div>\n",
              "<style scoped>\n",
              "    .dataframe tbody tr th:only-of-type {\n",
              "        vertical-align: middle;\n",
              "    }\n",
              "\n",
              "    .dataframe tbody tr th {\n",
              "        vertical-align: top;\n",
              "    }\n",
              "\n",
              "    .dataframe thead th {\n",
              "        text-align: right;\n",
              "    }\n",
              "</style>\n",
              "<table border=\"1\" class=\"dataframe\">\n",
              "  <thead>\n",
              "    <tr style=\"text-align: right;\">\n",
              "      <th></th>\n",
              "      <th>title</th>\n",
              "      <th>subject</th>\n",
              "      <th>date</th>\n",
              "      <th>clean_text</th>\n",
              "    </tr>\n",
              "  </thead>\n",
              "  <tbody>\n",
              "    <tr>\n",
              "      <th>8970</th>\n",
              "      <td>Graphic: Supreme Court roundup</td>\n",
              "      <td>politicsNews</td>\n",
              "      <td>June 16, 2016</td>\n",
              "      <td></td>\n",
              "    </tr>\n",
              "  </tbody>\n",
              "</table>\n",
              "</div>\n",
              "    <div class=\"colab-df-buttons\">\n",
              "\n",
              "  <div class=\"colab-df-container\">\n",
              "    <button class=\"colab-df-convert\" onclick=\"convertToInteractive('df-b47d96ca-ad67-4261-8d14-da926387ba0b')\"\n",
              "            title=\"Convert this dataframe to an interactive table.\"\n",
              "            style=\"display:none;\">\n",
              "\n",
              "  <svg xmlns=\"http://www.w3.org/2000/svg\" height=\"24px\" viewBox=\"0 -960 960 960\">\n",
              "    <path d=\"M120-120v-720h720v720H120Zm60-500h600v-160H180v160Zm220 220h160v-160H400v160Zm0 220h160v-160H400v160ZM180-400h160v-160H180v160Zm440 0h160v-160H620v160ZM180-180h160v-160H180v160Zm440 0h160v-160H620v160Z\"/>\n",
              "  </svg>\n",
              "    </button>\n",
              "\n",
              "  <style>\n",
              "    .colab-df-container {\n",
              "      display:flex;\n",
              "      gap: 12px;\n",
              "    }\n",
              "\n",
              "    .colab-df-convert {\n",
              "      background-color: #E8F0FE;\n",
              "      border: none;\n",
              "      border-radius: 50%;\n",
              "      cursor: pointer;\n",
              "      display: none;\n",
              "      fill: #1967D2;\n",
              "      height: 32px;\n",
              "      padding: 0 0 0 0;\n",
              "      width: 32px;\n",
              "    }\n",
              "\n",
              "    .colab-df-convert:hover {\n",
              "      background-color: #E2EBFA;\n",
              "      box-shadow: 0px 1px 2px rgba(60, 64, 67, 0.3), 0px 1px 3px 1px rgba(60, 64, 67, 0.15);\n",
              "      fill: #174EA6;\n",
              "    }\n",
              "\n",
              "    .colab-df-buttons div {\n",
              "      margin-bottom: 4px;\n",
              "    }\n",
              "\n",
              "    [theme=dark] .colab-df-convert {\n",
              "      background-color: #3B4455;\n",
              "      fill: #D2E3FC;\n",
              "    }\n",
              "\n",
              "    [theme=dark] .colab-df-convert:hover {\n",
              "      background-color: #434B5C;\n",
              "      box-shadow: 0px 1px 3px 1px rgba(0, 0, 0, 0.15);\n",
              "      filter: drop-shadow(0px 1px 2px rgba(0, 0, 0, 0.3));\n",
              "      fill: #FFFFFF;\n",
              "    }\n",
              "  </style>\n",
              "\n",
              "    <script>\n",
              "      const buttonEl =\n",
              "        document.querySelector('#df-b47d96ca-ad67-4261-8d14-da926387ba0b button.colab-df-convert');\n",
              "      buttonEl.style.display =\n",
              "        google.colab.kernel.accessAllowed ? 'block' : 'none';\n",
              "\n",
              "      async function convertToInteractive(key) {\n",
              "        const element = document.querySelector('#df-b47d96ca-ad67-4261-8d14-da926387ba0b');\n",
              "        const dataTable =\n",
              "          await google.colab.kernel.invokeFunction('convertToInteractive',\n",
              "                                                    [key], {});\n",
              "        if (!dataTable) return;\n",
              "\n",
              "        const docLinkHtml = 'Like what you see? Visit the ' +\n",
              "          '<a target=\"_blank\" href=https://colab.research.google.com/notebooks/data_table.ipynb>data table notebook</a>'\n",
              "          + ' to learn more about interactive tables.';\n",
              "        element.innerHTML = '';\n",
              "        dataTable['output_type'] = 'display_data';\n",
              "        await google.colab.output.renderOutput(dataTable, element);\n",
              "        const docLink = document.createElement('div');\n",
              "        docLink.innerHTML = docLinkHtml;\n",
              "        element.appendChild(docLink);\n",
              "      }\n",
              "    </script>\n",
              "  </div>\n",
              "\n",
              "\n",
              "    </div>\n",
              "  </div>\n"
            ],
            "application/vnd.google.colaboratory.intrinsic+json": {
              "type": "dataframe",
              "repr_error": "0"
            }
          },
          "metadata": {},
          "execution_count": 27
        }
      ]
    },
    {
      "cell_type": "code",
      "source": [
        "true_news.drop(index=8970, inplace=True)"
      ],
      "metadata": {
        "id": "aAmdO8dLDTMN"
      },
      "execution_count": null,
      "outputs": []
    },
    {
      "cell_type": "code",
      "source": [
        "# There are some text rows with space and commas as values in test data\n",
        "empty_fake_index = [index for index, text in enumerate(fake_news.text.tolist()) if str(text).strip()==\"\"]"
      ],
      "metadata": {
        "id": "7kfK27mQdyg8"
      },
      "execution_count": null,
      "outputs": []
    },
    {
      "cell_type": "code",
      "source": [
        "len(empty_fake_index)"
      ],
      "metadata": {
        "colab": {
          "base_uri": "https://localhost:8080/"
        },
        "id": "1L79MP3gCMKE",
        "outputId": "0ceefcd1-d9ca-4625-b6e7-9f67378e0f6d"
      },
      "execution_count": null,
      "outputs": [
        {
          "output_type": "execute_result",
          "data": {
            "text/plain": [
              "630"
            ]
          },
          "metadata": {},
          "execution_count": 30
        }
      ]
    },
    {
      "cell_type": "code",
      "source": [
        "fake_news.iloc[empty_fake_index]"
      ],
      "metadata": {
        "colab": {
          "base_uri": "https://localhost:8080/",
          "height": 424
        },
        "id": "WUsnQf9kdyj6",
        "outputId": "2bf011ab-c190-47d4-e2f7-dc800395463e"
      },
      "execution_count": null,
      "outputs": [
        {
          "output_type": "execute_result",
          "data": {
            "text/plain": [
              "                                                   title text    subject  \\\n",
              "10923  TAKE OUR POLL: Who Do You Think President Trum...        politics   \n",
              "11041  Joe Scarborough BERATES Mika Brzezinski Over “...        politics   \n",
              "11190  WATCH TUCKER CARLSON Scorch Sanctuary City May...        politics   \n",
              "11225  MAYOR OF SANCTUARY CITY: Trump Trying To Make ...        politics   \n",
              "11236  SHOCKER: Public School Turns Computer Lab Into...        politics   \n",
              "...                                                  ...  ...        ...   \n",
              "21816  BALTIMORE BURNS: MARYLAND GOVERNOR BRINGS IN N...       left-news   \n",
              "21826  FULL VIDEO: THE BLOCKBUSTER INVESTIGATION INTO...       left-news   \n",
              "21827  (VIDEO) HILLARY CLINTON: RELIGIOUS BELIEFS MUS...       left-news   \n",
              "21857  (VIDEO)ICE PROTECTING OBAMA: WON’T RELEASE NAM...       left-news   \n",
              "21873  (VIDEO) HYSTERICAL SNL TAKE ON HILLARY’S ANNOU...       left-news   \n",
              "\n",
              "               date  \n",
              "10923  May 10, 2017  \n",
              "11041  Apr 26, 2017  \n",
              "11190   Apr 6, 2017  \n",
              "11225   Apr 2, 2017  \n",
              "11236   Apr 1, 2017  \n",
              "...             ...  \n",
              "21816  Apr 27, 2015  \n",
              "21826  Apr 25, 2015  \n",
              "21827  Apr 25, 2015  \n",
              "21857  Apr 14, 2015  \n",
              "21873  Apr 12, 2015  \n",
              "\n",
              "[630 rows x 4 columns]"
            ],
            "text/html": [
              "\n",
              "  <div id=\"df-c9ffb427-10f2-4aa6-b540-f5e2d9969334\" class=\"colab-df-container\">\n",
              "    <div>\n",
              "<style scoped>\n",
              "    .dataframe tbody tr th:only-of-type {\n",
              "        vertical-align: middle;\n",
              "    }\n",
              "\n",
              "    .dataframe tbody tr th {\n",
              "        vertical-align: top;\n",
              "    }\n",
              "\n",
              "    .dataframe thead th {\n",
              "        text-align: right;\n",
              "    }\n",
              "</style>\n",
              "<table border=\"1\" class=\"dataframe\">\n",
              "  <thead>\n",
              "    <tr style=\"text-align: right;\">\n",
              "      <th></th>\n",
              "      <th>title</th>\n",
              "      <th>text</th>\n",
              "      <th>subject</th>\n",
              "      <th>date</th>\n",
              "    </tr>\n",
              "  </thead>\n",
              "  <tbody>\n",
              "    <tr>\n",
              "      <th>10923</th>\n",
              "      <td>TAKE OUR POLL: Who Do You Think President Trum...</td>\n",
              "      <td></td>\n",
              "      <td>politics</td>\n",
              "      <td>May 10, 2017</td>\n",
              "    </tr>\n",
              "    <tr>\n",
              "      <th>11041</th>\n",
              "      <td>Joe Scarborough BERATES Mika Brzezinski Over “...</td>\n",
              "      <td></td>\n",
              "      <td>politics</td>\n",
              "      <td>Apr 26, 2017</td>\n",
              "    </tr>\n",
              "    <tr>\n",
              "      <th>11190</th>\n",
              "      <td>WATCH TUCKER CARLSON Scorch Sanctuary City May...</td>\n",
              "      <td></td>\n",
              "      <td>politics</td>\n",
              "      <td>Apr 6, 2017</td>\n",
              "    </tr>\n",
              "    <tr>\n",
              "      <th>11225</th>\n",
              "      <td>MAYOR OF SANCTUARY CITY: Trump Trying To Make ...</td>\n",
              "      <td></td>\n",
              "      <td>politics</td>\n",
              "      <td>Apr 2, 2017</td>\n",
              "    </tr>\n",
              "    <tr>\n",
              "      <th>11236</th>\n",
              "      <td>SHOCKER: Public School Turns Computer Lab Into...</td>\n",
              "      <td></td>\n",
              "      <td>politics</td>\n",
              "      <td>Apr 1, 2017</td>\n",
              "    </tr>\n",
              "    <tr>\n",
              "      <th>...</th>\n",
              "      <td>...</td>\n",
              "      <td>...</td>\n",
              "      <td>...</td>\n",
              "      <td>...</td>\n",
              "    </tr>\n",
              "    <tr>\n",
              "      <th>21816</th>\n",
              "      <td>BALTIMORE BURNS: MARYLAND GOVERNOR BRINGS IN N...</td>\n",
              "      <td></td>\n",
              "      <td>left-news</td>\n",
              "      <td>Apr 27, 2015</td>\n",
              "    </tr>\n",
              "    <tr>\n",
              "      <th>21826</th>\n",
              "      <td>FULL VIDEO: THE BLOCKBUSTER INVESTIGATION INTO...</td>\n",
              "      <td></td>\n",
              "      <td>left-news</td>\n",
              "      <td>Apr 25, 2015</td>\n",
              "    </tr>\n",
              "    <tr>\n",
              "      <th>21827</th>\n",
              "      <td>(VIDEO) HILLARY CLINTON: RELIGIOUS BELIEFS MUS...</td>\n",
              "      <td></td>\n",
              "      <td>left-news</td>\n",
              "      <td>Apr 25, 2015</td>\n",
              "    </tr>\n",
              "    <tr>\n",
              "      <th>21857</th>\n",
              "      <td>(VIDEO)ICE PROTECTING OBAMA: WON’T RELEASE NAM...</td>\n",
              "      <td></td>\n",
              "      <td>left-news</td>\n",
              "      <td>Apr 14, 2015</td>\n",
              "    </tr>\n",
              "    <tr>\n",
              "      <th>21873</th>\n",
              "      <td>(VIDEO) HYSTERICAL SNL TAKE ON HILLARY’S ANNOU...</td>\n",
              "      <td></td>\n",
              "      <td>left-news</td>\n",
              "      <td>Apr 12, 2015</td>\n",
              "    </tr>\n",
              "  </tbody>\n",
              "</table>\n",
              "<p>630 rows × 4 columns</p>\n",
              "</div>\n",
              "    <div class=\"colab-df-buttons\">\n",
              "\n",
              "  <div class=\"colab-df-container\">\n",
              "    <button class=\"colab-df-convert\" onclick=\"convertToInteractive('df-c9ffb427-10f2-4aa6-b540-f5e2d9969334')\"\n",
              "            title=\"Convert this dataframe to an interactive table.\"\n",
              "            style=\"display:none;\">\n",
              "\n",
              "  <svg xmlns=\"http://www.w3.org/2000/svg\" height=\"24px\" viewBox=\"0 -960 960 960\">\n",
              "    <path d=\"M120-120v-720h720v720H120Zm60-500h600v-160H180v160Zm220 220h160v-160H400v160Zm0 220h160v-160H400v160ZM180-400h160v-160H180v160Zm440 0h160v-160H620v160ZM180-180h160v-160H180v160Zm440 0h160v-160H620v160Z\"/>\n",
              "  </svg>\n",
              "    </button>\n",
              "\n",
              "  <style>\n",
              "    .colab-df-container {\n",
              "      display:flex;\n",
              "      gap: 12px;\n",
              "    }\n",
              "\n",
              "    .colab-df-convert {\n",
              "      background-color: #E8F0FE;\n",
              "      border: none;\n",
              "      border-radius: 50%;\n",
              "      cursor: pointer;\n",
              "      display: none;\n",
              "      fill: #1967D2;\n",
              "      height: 32px;\n",
              "      padding: 0 0 0 0;\n",
              "      width: 32px;\n",
              "    }\n",
              "\n",
              "    .colab-df-convert:hover {\n",
              "      background-color: #E2EBFA;\n",
              "      box-shadow: 0px 1px 2px rgba(60, 64, 67, 0.3), 0px 1px 3px 1px rgba(60, 64, 67, 0.15);\n",
              "      fill: #174EA6;\n",
              "    }\n",
              "\n",
              "    .colab-df-buttons div {\n",
              "      margin-bottom: 4px;\n",
              "    }\n",
              "\n",
              "    [theme=dark] .colab-df-convert {\n",
              "      background-color: #3B4455;\n",
              "      fill: #D2E3FC;\n",
              "    }\n",
              "\n",
              "    [theme=dark] .colab-df-convert:hover {\n",
              "      background-color: #434B5C;\n",
              "      box-shadow: 0px 1px 3px 1px rgba(0, 0, 0, 0.15);\n",
              "      filter: drop-shadow(0px 1px 2px rgba(0, 0, 0, 0.3));\n",
              "      fill: #FFFFFF;\n",
              "    }\n",
              "  </style>\n",
              "\n",
              "    <script>\n",
              "      const buttonEl =\n",
              "        document.querySelector('#df-c9ffb427-10f2-4aa6-b540-f5e2d9969334 button.colab-df-convert');\n",
              "      buttonEl.style.display =\n",
              "        google.colab.kernel.accessAllowed ? 'block' : 'none';\n",
              "\n",
              "      async function convertToInteractive(key) {\n",
              "        const element = document.querySelector('#df-c9ffb427-10f2-4aa6-b540-f5e2d9969334');\n",
              "        const dataTable =\n",
              "          await google.colab.kernel.invokeFunction('convertToInteractive',\n",
              "                                                    [key], {});\n",
              "        if (!dataTable) return;\n",
              "\n",
              "        const docLinkHtml = 'Like what you see? Visit the ' +\n",
              "          '<a target=\"_blank\" href=https://colab.research.google.com/notebooks/data_table.ipynb>data table notebook</a>'\n",
              "          + ' to learn more about interactive tables.';\n",
              "        element.innerHTML = '';\n",
              "        dataTable['output_type'] = 'display_data';\n",
              "        await google.colab.output.renderOutput(dataTable, element);\n",
              "        const docLink = document.createElement('div');\n",
              "        docLink.innerHTML = docLinkHtml;\n",
              "        element.appendChild(docLink);\n",
              "      }\n",
              "    </script>\n",
              "  </div>\n",
              "\n",
              "\n",
              "<div id=\"df-1240a26b-1fd0-4fcf-bce3-69ac9c03b246\">\n",
              "  <button class=\"colab-df-quickchart\" onclick=\"quickchart('df-1240a26b-1fd0-4fcf-bce3-69ac9c03b246')\"\n",
              "            title=\"Suggest charts\"\n",
              "            style=\"display:none;\">\n",
              "\n",
              "<svg xmlns=\"http://www.w3.org/2000/svg\" height=\"24px\"viewBox=\"0 0 24 24\"\n",
              "     width=\"24px\">\n",
              "    <g>\n",
              "        <path d=\"M19 3H5c-1.1 0-2 .9-2 2v14c0 1.1.9 2 2 2h14c1.1 0 2-.9 2-2V5c0-1.1-.9-2-2-2zM9 17H7v-7h2v7zm4 0h-2V7h2v10zm4 0h-2v-4h2v4z\"/>\n",
              "    </g>\n",
              "</svg>\n",
              "  </button>\n",
              "\n",
              "<style>\n",
              "  .colab-df-quickchart {\n",
              "      --bg-color: #E8F0FE;\n",
              "      --fill-color: #1967D2;\n",
              "      --hover-bg-color: #E2EBFA;\n",
              "      --hover-fill-color: #174EA6;\n",
              "      --disabled-fill-color: #AAA;\n",
              "      --disabled-bg-color: #DDD;\n",
              "  }\n",
              "\n",
              "  [theme=dark] .colab-df-quickchart {\n",
              "      --bg-color: #3B4455;\n",
              "      --fill-color: #D2E3FC;\n",
              "      --hover-bg-color: #434B5C;\n",
              "      --hover-fill-color: #FFFFFF;\n",
              "      --disabled-bg-color: #3B4455;\n",
              "      --disabled-fill-color: #666;\n",
              "  }\n",
              "\n",
              "  .colab-df-quickchart {\n",
              "    background-color: var(--bg-color);\n",
              "    border: none;\n",
              "    border-radius: 50%;\n",
              "    cursor: pointer;\n",
              "    display: none;\n",
              "    fill: var(--fill-color);\n",
              "    height: 32px;\n",
              "    padding: 0;\n",
              "    width: 32px;\n",
              "  }\n",
              "\n",
              "  .colab-df-quickchart:hover {\n",
              "    background-color: var(--hover-bg-color);\n",
              "    box-shadow: 0 1px 2px rgba(60, 64, 67, 0.3), 0 1px 3px 1px rgba(60, 64, 67, 0.15);\n",
              "    fill: var(--button-hover-fill-color);\n",
              "  }\n",
              "\n",
              "  .colab-df-quickchart-complete:disabled,\n",
              "  .colab-df-quickchart-complete:disabled:hover {\n",
              "    background-color: var(--disabled-bg-color);\n",
              "    fill: var(--disabled-fill-color);\n",
              "    box-shadow: none;\n",
              "  }\n",
              "\n",
              "  .colab-df-spinner {\n",
              "    border: 2px solid var(--fill-color);\n",
              "    border-color: transparent;\n",
              "    border-bottom-color: var(--fill-color);\n",
              "    animation:\n",
              "      spin 1s steps(1) infinite;\n",
              "  }\n",
              "\n",
              "  @keyframes spin {\n",
              "    0% {\n",
              "      border-color: transparent;\n",
              "      border-bottom-color: var(--fill-color);\n",
              "      border-left-color: var(--fill-color);\n",
              "    }\n",
              "    20% {\n",
              "      border-color: transparent;\n",
              "      border-left-color: var(--fill-color);\n",
              "      border-top-color: var(--fill-color);\n",
              "    }\n",
              "    30% {\n",
              "      border-color: transparent;\n",
              "      border-left-color: var(--fill-color);\n",
              "      border-top-color: var(--fill-color);\n",
              "      border-right-color: var(--fill-color);\n",
              "    }\n",
              "    40% {\n",
              "      border-color: transparent;\n",
              "      border-right-color: var(--fill-color);\n",
              "      border-top-color: var(--fill-color);\n",
              "    }\n",
              "    60% {\n",
              "      border-color: transparent;\n",
              "      border-right-color: var(--fill-color);\n",
              "    }\n",
              "    80% {\n",
              "      border-color: transparent;\n",
              "      border-right-color: var(--fill-color);\n",
              "      border-bottom-color: var(--fill-color);\n",
              "    }\n",
              "    90% {\n",
              "      border-color: transparent;\n",
              "      border-bottom-color: var(--fill-color);\n",
              "    }\n",
              "  }\n",
              "</style>\n",
              "\n",
              "  <script>\n",
              "    async function quickchart(key) {\n",
              "      const quickchartButtonEl =\n",
              "        document.querySelector('#' + key + ' button');\n",
              "      quickchartButtonEl.disabled = true;  // To prevent multiple clicks.\n",
              "      quickchartButtonEl.classList.add('colab-df-spinner');\n",
              "      try {\n",
              "        const charts = await google.colab.kernel.invokeFunction(\n",
              "            'suggestCharts', [key], {});\n",
              "      } catch (error) {\n",
              "        console.error('Error during call to suggestCharts:', error);\n",
              "      }\n",
              "      quickchartButtonEl.classList.remove('colab-df-spinner');\n",
              "      quickchartButtonEl.classList.add('colab-df-quickchart-complete');\n",
              "    }\n",
              "    (() => {\n",
              "      let quickchartButtonEl =\n",
              "        document.querySelector('#df-1240a26b-1fd0-4fcf-bce3-69ac9c03b246 button');\n",
              "      quickchartButtonEl.style.display =\n",
              "        google.colab.kernel.accessAllowed ? 'block' : 'none';\n",
              "    })();\n",
              "  </script>\n",
              "</div>\n",
              "\n",
              "    </div>\n",
              "  </div>\n"
            ],
            "application/vnd.google.colaboratory.intrinsic+json": {
              "type": "dataframe",
              "repr_error": "0"
            }
          },
          "metadata": {},
          "execution_count": 31
        }
      ]
    },
    {
      "cell_type": "code",
      "source": [
        "import re\n",
        "\n",
        "# Assuming 'fake_news' is your DataFrame and 'title' is the column containing titles\n",
        "fake_news['clean_title'] = fake_news['title'].str.replace(r'\\s*\\(VIDEO\\)\\s*', '', regex=True)"
      ],
      "metadata": {
        "id": "nlfGoZFDFMV1"
      },
      "execution_count": null,
      "outputs": []
    },
    {
      "cell_type": "code",
      "source": [
        "fake_news['clean_title'].iloc[21857]"
      ],
      "metadata": {
        "colab": {
          "base_uri": "https://localhost:8080/",
          "height": 35
        },
        "id": "NLHXF6XFBswQ",
        "outputId": "915a26f1-f3c8-4084-b436-50c173441962"
      },
      "execution_count": null,
      "outputs": [
        {
          "output_type": "execute_result",
          "data": {
            "text/plain": [
              "'ICE PROTECTING OBAMA: WON’T RELEASE NAMES OF CRIMINAL ILLEGALS RELEASED INTO AMERICA'"
            ],
            "application/vnd.google.colaboratory.intrinsic+json": {
              "type": "string"
            }
          },
          "metadata": {},
          "execution_count": 33
        }
      ]
    },
    {
      "cell_type": "code",
      "source": [
        "# Merging the title and text fields\n",
        "true_news['updated_text'] = true_news['title'] + \" \" + true_news['clean_text']\n",
        "fake_news['updated_text'] = fake_news['clean_title'] + \" \" + fake_news['text']"
      ],
      "metadata": {
        "id": "vojcRsDBlPem"
      },
      "execution_count": null,
      "outputs": []
    },
    {
      "cell_type": "code",
      "source": [
        "true_news.head(1)"
      ],
      "metadata": {
        "colab": {
          "base_uri": "https://localhost:8080/",
          "height": 81
        },
        "id": "P2Iyf7w7H_cW",
        "outputId": "a6f93cef-e27a-42f8-a12d-dbe1029f2ac1"
      },
      "execution_count": null,
      "outputs": [
        {
          "output_type": "execute_result",
          "data": {
            "text/plain": [
              "                                               title       subject  \\\n",
              "0  As U.S. budget fight looms, Republicans flip t...  politicsNews   \n",
              "\n",
              "                 date                                         clean_text  \\\n",
              "0  December 31, 2017    The head of a conservative Republican faction...   \n",
              "\n",
              "                                        updated_text  \n",
              "0  As U.S. budget fight looms, Republicans flip t...  "
            ],
            "text/html": [
              "\n",
              "  <div id=\"df-270239bd-65a0-4ea4-9197-1d2b424fca2d\" class=\"colab-df-container\">\n",
              "    <div>\n",
              "<style scoped>\n",
              "    .dataframe tbody tr th:only-of-type {\n",
              "        vertical-align: middle;\n",
              "    }\n",
              "\n",
              "    .dataframe tbody tr th {\n",
              "        vertical-align: top;\n",
              "    }\n",
              "\n",
              "    .dataframe thead th {\n",
              "        text-align: right;\n",
              "    }\n",
              "</style>\n",
              "<table border=\"1\" class=\"dataframe\">\n",
              "  <thead>\n",
              "    <tr style=\"text-align: right;\">\n",
              "      <th></th>\n",
              "      <th>title</th>\n",
              "      <th>subject</th>\n",
              "      <th>date</th>\n",
              "      <th>clean_text</th>\n",
              "      <th>updated_text</th>\n",
              "    </tr>\n",
              "  </thead>\n",
              "  <tbody>\n",
              "    <tr>\n",
              "      <th>0</th>\n",
              "      <td>As U.S. budget fight looms, Republicans flip t...</td>\n",
              "      <td>politicsNews</td>\n",
              "      <td>December 31, 2017</td>\n",
              "      <td>The head of a conservative Republican faction...</td>\n",
              "      <td>As U.S. budget fight looms, Republicans flip t...</td>\n",
              "    </tr>\n",
              "  </tbody>\n",
              "</table>\n",
              "</div>\n",
              "    <div class=\"colab-df-buttons\">\n",
              "\n",
              "  <div class=\"colab-df-container\">\n",
              "    <button class=\"colab-df-convert\" onclick=\"convertToInteractive('df-270239bd-65a0-4ea4-9197-1d2b424fca2d')\"\n",
              "            title=\"Convert this dataframe to an interactive table.\"\n",
              "            style=\"display:none;\">\n",
              "\n",
              "  <svg xmlns=\"http://www.w3.org/2000/svg\" height=\"24px\" viewBox=\"0 -960 960 960\">\n",
              "    <path d=\"M120-120v-720h720v720H120Zm60-500h600v-160H180v160Zm220 220h160v-160H400v160Zm0 220h160v-160H400v160ZM180-400h160v-160H180v160Zm440 0h160v-160H620v160ZM180-180h160v-160H180v160Zm440 0h160v-160H620v160Z\"/>\n",
              "  </svg>\n",
              "    </button>\n",
              "\n",
              "  <style>\n",
              "    .colab-df-container {\n",
              "      display:flex;\n",
              "      gap: 12px;\n",
              "    }\n",
              "\n",
              "    .colab-df-convert {\n",
              "      background-color: #E8F0FE;\n",
              "      border: none;\n",
              "      border-radius: 50%;\n",
              "      cursor: pointer;\n",
              "      display: none;\n",
              "      fill: #1967D2;\n",
              "      height: 32px;\n",
              "      padding: 0 0 0 0;\n",
              "      width: 32px;\n",
              "    }\n",
              "\n",
              "    .colab-df-convert:hover {\n",
              "      background-color: #E2EBFA;\n",
              "      box-shadow: 0px 1px 2px rgba(60, 64, 67, 0.3), 0px 1px 3px 1px rgba(60, 64, 67, 0.15);\n",
              "      fill: #174EA6;\n",
              "    }\n",
              "\n",
              "    .colab-df-buttons div {\n",
              "      margin-bottom: 4px;\n",
              "    }\n",
              "\n",
              "    [theme=dark] .colab-df-convert {\n",
              "      background-color: #3B4455;\n",
              "      fill: #D2E3FC;\n",
              "    }\n",
              "\n",
              "    [theme=dark] .colab-df-convert:hover {\n",
              "      background-color: #434B5C;\n",
              "      box-shadow: 0px 1px 3px 1px rgba(0, 0, 0, 0.15);\n",
              "      filter: drop-shadow(0px 1px 2px rgba(0, 0, 0, 0.3));\n",
              "      fill: #FFFFFF;\n",
              "    }\n",
              "  </style>\n",
              "\n",
              "    <script>\n",
              "      const buttonEl =\n",
              "        document.querySelector('#df-270239bd-65a0-4ea4-9197-1d2b424fca2d button.colab-df-convert');\n",
              "      buttonEl.style.display =\n",
              "        google.colab.kernel.accessAllowed ? 'block' : 'none';\n",
              "\n",
              "      async function convertToInteractive(key) {\n",
              "        const element = document.querySelector('#df-270239bd-65a0-4ea4-9197-1d2b424fca2d');\n",
              "        const dataTable =\n",
              "          await google.colab.kernel.invokeFunction('convertToInteractive',\n",
              "                                                    [key], {});\n",
              "        if (!dataTable) return;\n",
              "\n",
              "        const docLinkHtml = 'Like what you see? Visit the ' +\n",
              "          '<a target=\"_blank\" href=https://colab.research.google.com/notebooks/data_table.ipynb>data table notebook</a>'\n",
              "          + ' to learn more about interactive tables.';\n",
              "        element.innerHTML = '';\n",
              "        dataTable['output_type'] = 'display_data';\n",
              "        await google.colab.output.renderOutput(dataTable, element);\n",
              "        const docLink = document.createElement('div');\n",
              "        docLink.innerHTML = docLinkHtml;\n",
              "        element.appendChild(docLink);\n",
              "      }\n",
              "    </script>\n",
              "  </div>\n",
              "\n",
              "\n",
              "    </div>\n",
              "  </div>\n"
            ],
            "application/vnd.google.colaboratory.intrinsic+json": {
              "type": "dataframe",
              "variable_name": "true_news",
              "summary": "{\n  \"name\": \"true_news\",\n  \"rows\": 21416,\n  \"fields\": [\n    {\n      \"column\": \"title\",\n      \"properties\": {\n        \"dtype\": \"string\",\n        \"num_unique_values\": 20825,\n        \"samples\": [\n          \"Moscow warns new U.S. sanctions take ties into uncharted waters\",\n          \"U.S. urges dialogue on Northern Ireland power sharing: State Department\",\n          \"Former Trump adviser Flynn likely broke law with Russia trip: lawmakers\"\n        ],\n        \"semantic_type\": \"\",\n        \"description\": \"\"\n      }\n    },\n    {\n      \"column\": \"subject\",\n      \"properties\": {\n        \"dtype\": \"category\",\n        \"num_unique_values\": 2,\n        \"samples\": [\n          \"worldnews\",\n          \"politicsNews\"\n        ],\n        \"semantic_type\": \"\",\n        \"description\": \"\"\n      }\n    },\n    {\n      \"column\": \"date\",\n      \"properties\": {\n        \"dtype\": \"object\",\n        \"num_unique_values\": 716,\n        \"samples\": [\n          \"September 2, 2017 \",\n          \"February 2, 2017 \"\n        ],\n        \"semantic_type\": \"\",\n        \"description\": \"\"\n      }\n    },\n    {\n      \"column\": \"clean_text\",\n      \"properties\": {\n        \"dtype\": \"string\",\n        \"num_unique_values\": 21190,\n        \"samples\": [\n          \" A majority of the U.S. Senate on Tuesday backed a new round of disaster aid to help Puerto Rico and several states recover from damage from hurricanes and wildfires. The legislation would provide $36.5 billion in emergency relief as Puerto Rico in particular struggles to regain electricity and other basic services following destructive hurricanes. The House of Representatives approved the bill earlier this month. The Trump administration already has indicated it will seek another round of emergency relief from Congress. \",\n          \" Republican presidential candidate Donald Trump, who has called for a temporary ban on Muslims entering the United States, suggested he would make an exception for London\\u2019s newly elected Muslim mayor, the New York Times reported. However, Sadiq Khan who was sworn in as mayor of the British capital on Saturday, dismissed Trump\\u2019s response, saying the real estate billionaire and presumptive Republican nominee had an \\u201cignorant view of Islam\\u201d. \\u201cThere will always be exceptions,\\u201d the Times on Monday quoted Trump as saying when asked how his controversial proposal would apply to Khan, the son of a Pakistani immigrant bus driver and a seamstress. Trump said he was happy to see Khan elected, the Times reported, adding: \\u201cYou lead by example, always lead by example. If he does a good job ... that would be a terrific thing.\\u201d Trump put forth the idea of the ban after deadly attacks by Islamist militants in Paris and California last year. Muslim and human rights groups, Trump\\u2019s Democratic rivals and many of his Republican presidential opponents condemned the proposal as divisive, counter-productive and contrary to American values. Khan said Trump\\u2019s view risked alienating mainstream Muslims and played into the hands of extremists, making both Britain and the United States less secure. \\u201cThis isn\\u2019t just about me - it\\u2019s about my friends, my family and everyone who comes from a background similar to mine, anywhere in the world,\\u201d he said in a statement on Tuesday. \\u201cDonald Trump and those around him think that Western liberal values are incompatible with mainstream Islam - London has proved him wrong.\\u201d Khan, 45, a candidate from the opposition Labour Party, defeated his Conservative rival by a record margin last week to secure the biggest individual mandate in British political history after an acrimonious campaign. After his victory, he accused his opponents of using fear and innuendo about his alleged links to extremists to turn ethnic and religious groups against each other, which he described as \\u201csomething straight out of the Donald Trump playbook\\u201d. In an interview with Time magazine, Khan said he wanted to go to the United States to see the interesting programmes the mayors of New York and Chicago were implementing, but that he would have to visit before January in case Trump won the Nov. 8 election. \"\n        ],\n        \"semantic_type\": \"\",\n        \"description\": \"\"\n      }\n    },\n    {\n      \"column\": \"updated_text\",\n      \"properties\": {\n        \"dtype\": \"string\",\n        \"num_unique_values\": 21195,\n        \"samples\": [\n          \"Illinois governor enlists counterparts to attack Democrats in election ad  Illinois\\u2019 Republican governor has launched an unusual attack ad in his re-election campaign that features three neighboring governors crediting their states\\u2019 job gains to Illinois taxes crafted by a state House Democratic leader. Illinois Republican Governor Bruce Rauner, who kicked off his 2018 re-election campaign this week, saw his first term marred by a political impasse that left Illinois without a budget for two years before lawmakers overrode his veto this summer to raise taxes.     Governors in the new ad include Missouri\\u2019s Eric Greitens, Wisconsin\\u2019s Scott Walker and Indiana\\u2019s Eric Holcomb - all Republicans like Rauner - thanking Rauner\\u2019s political foil, Illinois House Speaker Michael Madigan, for blocking reforms, raising taxes and sending jobs to their states. \\u201cHoosiers love you, Mike Madigan,\\u201d Holcomb said in the ad. Among the Democrats whom Rauner, a wealthy businessman, could face after a March primary are J.B. Pritzker, an heir to the Hyatt Hotels Corp fortune, and Chris Kennedy, son of the late U.S. Senator Robert Kennedy.        The governor\\u2019s race in the fifth-largest state is expected to rank among the most expensive in the country. Experts who follow elections said the ad was unusual. \\u201cThis is creative since it uses GOP governors from surrounding states to shift the blame for Illinois\\u2019 woes from Rauner to a Democratic leader,\\u201d University of Virginia political science professor Larry Sabato said.  \\u201cVoters usually hold their governor responsible for the state of the state,\\u201d he added.  While it is not unusual for governors to make appearances for other campaigns, they tend to take a more positive approach, highlighting an incumbent\\u2019s achievements, said Dick Simpson, a political science professor at the University of Illinois at Chicago.     While the ad may resonate with rural, conservative voters, it also comes as Illinois and other states seek to attract Amazon.com\\u2019s $5 billion second headquarters. Simpson said highlighting how Illinois policies hurt the state is \\u201cprobably not helpful.\\u201d     Madigan dismissed the ad in a statement, calling it a \\u201crace to the bottom being led by his role models from states where middle-class wages are a fraction of what they are in Illinois.\\u201d     Rauner has feuded with Democrats, who control the state legislature, over his insistence a state budget be tied to policy demands that would weaken unions, impose legislative term limits and freeze property taxes.     He also has angered conservatives by signing a bill to expand state-funded coverage of abortions. Political scientists said he faces a tough re-election bid in a state often carried by the Democratic candidate in presidential elections. Spending on the race could top $150 million, a rarity, said Sarah Brune, executive director of the Illinois Campaign for Political Reform. \",\n          \"U.S. Senate Democratic leader attacks Trump's health pick on ethics charge  U.S. President-elect Donald Trump\\u2019s choice to run the Department of Health and Human Services may have broken the law by making a stock purchase just before he introduced legislation that would have benefited the firm, the Senate\\u2019s leading Democrat charged on Tuesday. A confirmation hearing for Tom Price, a Republican congressman and orthopedic surgeon from Georgia, was scheduled for Wednesday before the Senate Health Committee. If confirmed, he would be a key player in carrying out Trump\\u2019s plans to overhaul Democratic President Barack Obama\\u2019s signature healthcare law. CNN reported on Sunday that Price bought between $1,001 and $15,000 worth of shares last March in Zimmer Biomet Holdings Inc (ZBH.N), a medical device manufacturer. Days later, he introduced legislation in the House of Representatives that would have delayed a regulation that could have ultimately damaged the company, CNN said. Senator Chuck Schumer of New York, the leader of the Democratic minority in the Senate, called on the Office of Congressional Ethics to investigate whether Price had violated the 2012 Stock Act, a law designed to combat insider trading. Schumer said Price\\u2019s Zimmer Biomet purchase may have been in violation of that law. \\u201cIt may be that this trade was illegal,\\u201d Schumer said on the Senate floor on Tuesday afternoon. The Trump transition team said late on Monday that the stock purchase was directed not by Price but by a broker and that the congressman himself did not become aware of the stock buy until well after the legislation was introduced. The transition team urged CNN to retract the story. \\u201cAny effort to connect the introduction of bipartisan legislation by Dr. Price to any campaign contribution is demonstrably false,\\u201d said transition spokesman Phil Blando. Schumer did not sound convinced. \\u201cNow they say there\\u2019s a broker, it\\u2019s kind of strange that this broker would pick this stock totally independently of him introducing legislation that\\u2019s so narrow and specific to this company,\\u201d Schumer told CNN on Tuesday. Sean Spicer, who will serve as Trump\\u2019s White House spokesman, defended Price. \\u201cRegarding dem attacks on @RepTomPrice: this is a stock trade worth $300.  You couldn\\u2019t get into a @SenSchumer fundraiser for that amount,\\u201d Spicer said in a tweet. Another sign of trouble for Republicans in the healthcare arena emerged on Tuesday when the nonpartisan Congressional Budget Office said a repeal of Obamacare - a top priority of both Trump and congressional Republicans - would increase the number of people without health insurance by 18 million in the first year. That number would grow to 32 million by the year 2026 and premiums would double in that time, the CBO said. The report based its analysis on a Republican repeal bill that was passed a year ago but vetoed by Obama. Republicans say the same bill is the blueprint for the repeal effort now under way in Congress. But House Speaker Paul Ryan, a Republican, characterized the CBO projection as \\u201cmeaningless.\\u201d He said it did not take into account measures under consideration to replace the law or \\u201cactions that the incoming administration will take to revitalize the individual (insurance) market that has been decimated by Obamacare.\\u201d   Price, an ardent advocate of Obamacare repeal, is one of eight Trump Cabinet nominees who will face Senate confirmation hearings this week. The hearings started on Tuesday with Ryan Zinke, a Republican congressman from Montana tapped for interior secretary, and Republican philanthropist Betsy DeVos, the nominee for education secretary. Trump\\u2019s presidential inauguration is on Friday and his team is hoping to have as many of his nominees as possible, perhaps as many as seven, confirmed by then.  Price, however, will not be one of them. A second Senate panel, the Finance Committee, must also hold a hearing and a vote on Price\\u2019s nomination, and it has not yet scheduled its hearing.  \"\n        ],\n        \"semantic_type\": \"\",\n        \"description\": \"\"\n      }\n    }\n  ]\n}"
            }
          },
          "metadata": {},
          "execution_count": 35
        }
      ]
    },
    {
      "cell_type": "code",
      "source": [
        "true_news.columns, fake_news.columns"
      ],
      "metadata": {
        "colab": {
          "base_uri": "https://localhost:8080/"
        },
        "id": "Qjkaz-wRI3_4",
        "outputId": "c8f82f5f-6a28-4c50-c674-f4bd0d4f06f7"
      },
      "execution_count": null,
      "outputs": [
        {
          "output_type": "execute_result",
          "data": {
            "text/plain": [
              "(Index(['title', 'subject', 'date', 'clean_text', 'updated_text'], dtype='object'),\n",
              " Index(['title', 'text', 'subject', 'date', 'clean_title', 'updated_text'], dtype='object'))"
            ]
          },
          "metadata": {},
          "execution_count": 36
        }
      ]
    },
    {
      "cell_type": "code",
      "source": [
        "true_news.drop(['title','clean_text'], axis=1, inplace=True)\n",
        "fake_news.drop(['title','clean_title', 'text'], axis=1, inplace=True)"
      ],
      "metadata": {
        "id": "JZb2YjJzJMwG"
      },
      "execution_count": null,
      "outputs": []
    },
    {
      "cell_type": "code",
      "source": [
        "true_news['text'] = true_news['updated_text'].apply(lambda x: str(x).lower())\n",
        "fake_news['text'] = fake_news['updated_text'].apply(lambda x: str(x).lower())"
      ],
      "metadata": {
        "id": "dD4h2MNwlPhG"
      },
      "execution_count": null,
      "outputs": []
    },
    {
      "cell_type": "code",
      "source": [
        "true_news.columns, fake_news.columns"
      ],
      "metadata": {
        "colab": {
          "base_uri": "https://localhost:8080/"
        },
        "id": "U4NNW75kJ2Qc",
        "outputId": "b93d25fa-22b6-4503-bb78-082d3e18ccdf"
      },
      "execution_count": null,
      "outputs": [
        {
          "output_type": "execute_result",
          "data": {
            "text/plain": [
              "(Index(['subject', 'date', 'updated_text', 'text'], dtype='object'),\n",
              " Index(['subject', 'date', 'updated_text', 'text'], dtype='object'))"
            ]
          },
          "metadata": {},
          "execution_count": 39
        }
      ]
    },
    {
      "cell_type": "code",
      "source": [
        "# Anmoting the classes as True and False class\n",
        "true_news['class'] = 1\n",
        "fake_news['class'] = 0"
      ],
      "metadata": {
        "id": "nbbYRjROlPj1"
      },
      "execution_count": null,
      "outputs": []
    },
    {
      "cell_type": "code",
      "source": [
        "df = true_news.append(fake_news)"
      ],
      "metadata": {
        "colab": {
          "base_uri": "https://localhost:8080/"
        },
        "id": "Ht2bOTp8lPre",
        "outputId": "55036547-d40e-4e13-e863-24640be4a558"
      },
      "execution_count": null,
      "outputs": [
        {
          "output_type": "stream",
          "name": "stderr",
          "text": [
            "<ipython-input-41-dc938593ea03>:1: FutureWarning: The frame.append method is deprecated and will be removed from pandas in a future version. Use pandas.concat instead.\n",
            "  df = true_news.append(fake_news)\n"
          ]
        }
      ]
    },
    {
      "cell_type": "code",
      "source": [
        "# 0 : False\n",
        "# 1 : True\n",
        "df.head()"
      ],
      "metadata": {
        "colab": {
          "base_uri": "https://localhost:8080/",
          "height": 206
        },
        "id": "9SwTVuS_nRuJ",
        "outputId": "d067f318-49aa-4a86-f86b-113d50216d16"
      },
      "execution_count": null,
      "outputs": [
        {
          "output_type": "execute_result",
          "data": {
            "text/plain": [
              "        subject                date  \\\n",
              "0  politicsNews  December 31, 2017    \n",
              "1  politicsNews  December 29, 2017    \n",
              "2  politicsNews  December 31, 2017    \n",
              "3  politicsNews  December 30, 2017    \n",
              "4  politicsNews  December 29, 2017    \n",
              "\n",
              "                                        updated_text  \\\n",
              "0  As U.S. budget fight looms, Republicans flip t...   \n",
              "1  U.S. military to accept transgender recruits o...   \n",
              "2  Senior U.S. Republican senator: 'Let Mr. Muell...   \n",
              "3  FBI Russia probe helped by Australian diplomat...   \n",
              "4  Trump wants Postal Service to charge 'much mor...   \n",
              "\n",
              "                                                text  class  \n",
              "0  as u.s. budget fight looms, republicans flip t...      1  \n",
              "1  u.s. military to accept transgender recruits o...      1  \n",
              "2  senior u.s. republican senator: 'let mr. muell...      1  \n",
              "3  fbi russia probe helped by australian diplomat...      1  \n",
              "4  trump wants postal service to charge 'much mor...      1  "
            ],
            "text/html": [
              "\n",
              "  <div id=\"df-4d3da431-243a-4908-ae06-e3abe006a21d\" class=\"colab-df-container\">\n",
              "    <div>\n",
              "<style scoped>\n",
              "    .dataframe tbody tr th:only-of-type {\n",
              "        vertical-align: middle;\n",
              "    }\n",
              "\n",
              "    .dataframe tbody tr th {\n",
              "        vertical-align: top;\n",
              "    }\n",
              "\n",
              "    .dataframe thead th {\n",
              "        text-align: right;\n",
              "    }\n",
              "</style>\n",
              "<table border=\"1\" class=\"dataframe\">\n",
              "  <thead>\n",
              "    <tr style=\"text-align: right;\">\n",
              "      <th></th>\n",
              "      <th>subject</th>\n",
              "      <th>date</th>\n",
              "      <th>updated_text</th>\n",
              "      <th>text</th>\n",
              "      <th>class</th>\n",
              "    </tr>\n",
              "  </thead>\n",
              "  <tbody>\n",
              "    <tr>\n",
              "      <th>0</th>\n",
              "      <td>politicsNews</td>\n",
              "      <td>December 31, 2017</td>\n",
              "      <td>As U.S. budget fight looms, Republicans flip t...</td>\n",
              "      <td>as u.s. budget fight looms, republicans flip t...</td>\n",
              "      <td>1</td>\n",
              "    </tr>\n",
              "    <tr>\n",
              "      <th>1</th>\n",
              "      <td>politicsNews</td>\n",
              "      <td>December 29, 2017</td>\n",
              "      <td>U.S. military to accept transgender recruits o...</td>\n",
              "      <td>u.s. military to accept transgender recruits o...</td>\n",
              "      <td>1</td>\n",
              "    </tr>\n",
              "    <tr>\n",
              "      <th>2</th>\n",
              "      <td>politicsNews</td>\n",
              "      <td>December 31, 2017</td>\n",
              "      <td>Senior U.S. Republican senator: 'Let Mr. Muell...</td>\n",
              "      <td>senior u.s. republican senator: 'let mr. muell...</td>\n",
              "      <td>1</td>\n",
              "    </tr>\n",
              "    <tr>\n",
              "      <th>3</th>\n",
              "      <td>politicsNews</td>\n",
              "      <td>December 30, 2017</td>\n",
              "      <td>FBI Russia probe helped by Australian diplomat...</td>\n",
              "      <td>fbi russia probe helped by australian diplomat...</td>\n",
              "      <td>1</td>\n",
              "    </tr>\n",
              "    <tr>\n",
              "      <th>4</th>\n",
              "      <td>politicsNews</td>\n",
              "      <td>December 29, 2017</td>\n",
              "      <td>Trump wants Postal Service to charge 'much mor...</td>\n",
              "      <td>trump wants postal service to charge 'much mor...</td>\n",
              "      <td>1</td>\n",
              "    </tr>\n",
              "  </tbody>\n",
              "</table>\n",
              "</div>\n",
              "    <div class=\"colab-df-buttons\">\n",
              "\n",
              "  <div class=\"colab-df-container\">\n",
              "    <button class=\"colab-df-convert\" onclick=\"convertToInteractive('df-4d3da431-243a-4908-ae06-e3abe006a21d')\"\n",
              "            title=\"Convert this dataframe to an interactive table.\"\n",
              "            style=\"display:none;\">\n",
              "\n",
              "  <svg xmlns=\"http://www.w3.org/2000/svg\" height=\"24px\" viewBox=\"0 -960 960 960\">\n",
              "    <path d=\"M120-120v-720h720v720H120Zm60-500h600v-160H180v160Zm220 220h160v-160H400v160Zm0 220h160v-160H400v160ZM180-400h160v-160H180v160Zm440 0h160v-160H620v160ZM180-180h160v-160H180v160Zm440 0h160v-160H620v160Z\"/>\n",
              "  </svg>\n",
              "    </button>\n",
              "\n",
              "  <style>\n",
              "    .colab-df-container {\n",
              "      display:flex;\n",
              "      gap: 12px;\n",
              "    }\n",
              "\n",
              "    .colab-df-convert {\n",
              "      background-color: #E8F0FE;\n",
              "      border: none;\n",
              "      border-radius: 50%;\n",
              "      cursor: pointer;\n",
              "      display: none;\n",
              "      fill: #1967D2;\n",
              "      height: 32px;\n",
              "      padding: 0 0 0 0;\n",
              "      width: 32px;\n",
              "    }\n",
              "\n",
              "    .colab-df-convert:hover {\n",
              "      background-color: #E2EBFA;\n",
              "      box-shadow: 0px 1px 2px rgba(60, 64, 67, 0.3), 0px 1px 3px 1px rgba(60, 64, 67, 0.15);\n",
              "      fill: #174EA6;\n",
              "    }\n",
              "\n",
              "    .colab-df-buttons div {\n",
              "      margin-bottom: 4px;\n",
              "    }\n",
              "\n",
              "    [theme=dark] .colab-df-convert {\n",
              "      background-color: #3B4455;\n",
              "      fill: #D2E3FC;\n",
              "    }\n",
              "\n",
              "    [theme=dark] .colab-df-convert:hover {\n",
              "      background-color: #434B5C;\n",
              "      box-shadow: 0px 1px 3px 1px rgba(0, 0, 0, 0.15);\n",
              "      filter: drop-shadow(0px 1px 2px rgba(0, 0, 0, 0.3));\n",
              "      fill: #FFFFFF;\n",
              "    }\n",
              "  </style>\n",
              "\n",
              "    <script>\n",
              "      const buttonEl =\n",
              "        document.querySelector('#df-4d3da431-243a-4908-ae06-e3abe006a21d button.colab-df-convert');\n",
              "      buttonEl.style.display =\n",
              "        google.colab.kernel.accessAllowed ? 'block' : 'none';\n",
              "\n",
              "      async function convertToInteractive(key) {\n",
              "        const element = document.querySelector('#df-4d3da431-243a-4908-ae06-e3abe006a21d');\n",
              "        const dataTable =\n",
              "          await google.colab.kernel.invokeFunction('convertToInteractive',\n",
              "                                                    [key], {});\n",
              "        if (!dataTable) return;\n",
              "\n",
              "        const docLinkHtml = 'Like what you see? Visit the ' +\n",
              "          '<a target=\"_blank\" href=https://colab.research.google.com/notebooks/data_table.ipynb>data table notebook</a>'\n",
              "          + ' to learn more about interactive tables.';\n",
              "        element.innerHTML = '';\n",
              "        dataTable['output_type'] = 'display_data';\n",
              "        await google.colab.output.renderOutput(dataTable, element);\n",
              "        const docLink = document.createElement('div');\n",
              "        docLink.innerHTML = docLinkHtml;\n",
              "        element.appendChild(docLink);\n",
              "      }\n",
              "    </script>\n",
              "  </div>\n",
              "\n",
              "\n",
              "<div id=\"df-0e5dc8db-f720-47f0-b616-5217697733ff\">\n",
              "  <button class=\"colab-df-quickchart\" onclick=\"quickchart('df-0e5dc8db-f720-47f0-b616-5217697733ff')\"\n",
              "            title=\"Suggest charts\"\n",
              "            style=\"display:none;\">\n",
              "\n",
              "<svg xmlns=\"http://www.w3.org/2000/svg\" height=\"24px\"viewBox=\"0 0 24 24\"\n",
              "     width=\"24px\">\n",
              "    <g>\n",
              "        <path d=\"M19 3H5c-1.1 0-2 .9-2 2v14c0 1.1.9 2 2 2h14c1.1 0 2-.9 2-2V5c0-1.1-.9-2-2-2zM9 17H7v-7h2v7zm4 0h-2V7h2v10zm4 0h-2v-4h2v4z\"/>\n",
              "    </g>\n",
              "</svg>\n",
              "  </button>\n",
              "\n",
              "<style>\n",
              "  .colab-df-quickchart {\n",
              "      --bg-color: #E8F0FE;\n",
              "      --fill-color: #1967D2;\n",
              "      --hover-bg-color: #E2EBFA;\n",
              "      --hover-fill-color: #174EA6;\n",
              "      --disabled-fill-color: #AAA;\n",
              "      --disabled-bg-color: #DDD;\n",
              "  }\n",
              "\n",
              "  [theme=dark] .colab-df-quickchart {\n",
              "      --bg-color: #3B4455;\n",
              "      --fill-color: #D2E3FC;\n",
              "      --hover-bg-color: #434B5C;\n",
              "      --hover-fill-color: #FFFFFF;\n",
              "      --disabled-bg-color: #3B4455;\n",
              "      --disabled-fill-color: #666;\n",
              "  }\n",
              "\n",
              "  .colab-df-quickchart {\n",
              "    background-color: var(--bg-color);\n",
              "    border: none;\n",
              "    border-radius: 50%;\n",
              "    cursor: pointer;\n",
              "    display: none;\n",
              "    fill: var(--fill-color);\n",
              "    height: 32px;\n",
              "    padding: 0;\n",
              "    width: 32px;\n",
              "  }\n",
              "\n",
              "  .colab-df-quickchart:hover {\n",
              "    background-color: var(--hover-bg-color);\n",
              "    box-shadow: 0 1px 2px rgba(60, 64, 67, 0.3), 0 1px 3px 1px rgba(60, 64, 67, 0.15);\n",
              "    fill: var(--button-hover-fill-color);\n",
              "  }\n",
              "\n",
              "  .colab-df-quickchart-complete:disabled,\n",
              "  .colab-df-quickchart-complete:disabled:hover {\n",
              "    background-color: var(--disabled-bg-color);\n",
              "    fill: var(--disabled-fill-color);\n",
              "    box-shadow: none;\n",
              "  }\n",
              "\n",
              "  .colab-df-spinner {\n",
              "    border: 2px solid var(--fill-color);\n",
              "    border-color: transparent;\n",
              "    border-bottom-color: var(--fill-color);\n",
              "    animation:\n",
              "      spin 1s steps(1) infinite;\n",
              "  }\n",
              "\n",
              "  @keyframes spin {\n",
              "    0% {\n",
              "      border-color: transparent;\n",
              "      border-bottom-color: var(--fill-color);\n",
              "      border-left-color: var(--fill-color);\n",
              "    }\n",
              "    20% {\n",
              "      border-color: transparent;\n",
              "      border-left-color: var(--fill-color);\n",
              "      border-top-color: var(--fill-color);\n",
              "    }\n",
              "    30% {\n",
              "      border-color: transparent;\n",
              "      border-left-color: var(--fill-color);\n",
              "      border-top-color: var(--fill-color);\n",
              "      border-right-color: var(--fill-color);\n",
              "    }\n",
              "    40% {\n",
              "      border-color: transparent;\n",
              "      border-right-color: var(--fill-color);\n",
              "      border-top-color: var(--fill-color);\n",
              "    }\n",
              "    60% {\n",
              "      border-color: transparent;\n",
              "      border-right-color: var(--fill-color);\n",
              "    }\n",
              "    80% {\n",
              "      border-color: transparent;\n",
              "      border-right-color: var(--fill-color);\n",
              "      border-bottom-color: var(--fill-color);\n",
              "    }\n",
              "    90% {\n",
              "      border-color: transparent;\n",
              "      border-bottom-color: var(--fill-color);\n",
              "    }\n",
              "  }\n",
              "</style>\n",
              "\n",
              "  <script>\n",
              "    async function quickchart(key) {\n",
              "      const quickchartButtonEl =\n",
              "        document.querySelector('#' + key + ' button');\n",
              "      quickchartButtonEl.disabled = true;  // To prevent multiple clicks.\n",
              "      quickchartButtonEl.classList.add('colab-df-spinner');\n",
              "      try {\n",
              "        const charts = await google.colab.kernel.invokeFunction(\n",
              "            'suggestCharts', [key], {});\n",
              "      } catch (error) {\n",
              "        console.error('Error during call to suggestCharts:', error);\n",
              "      }\n",
              "      quickchartButtonEl.classList.remove('colab-df-spinner');\n",
              "      quickchartButtonEl.classList.add('colab-df-quickchart-complete');\n",
              "    }\n",
              "    (() => {\n",
              "      let quickchartButtonEl =\n",
              "        document.querySelector('#df-0e5dc8db-f720-47f0-b616-5217697733ff button');\n",
              "      quickchartButtonEl.style.display =\n",
              "        google.colab.kernel.accessAllowed ? 'block' : 'none';\n",
              "    })();\n",
              "  </script>\n",
              "</div>\n",
              "\n",
              "    </div>\n",
              "  </div>\n"
            ],
            "application/vnd.google.colaboratory.intrinsic+json": {
              "type": "dataframe",
              "variable_name": "df",
              "summary": "{\n  \"name\": \"df\",\n  \"rows\": 44897,\n  \"fields\": [\n    {\n      \"column\": \"subject\",\n      \"properties\": {\n        \"dtype\": \"category\",\n        \"num_unique_values\": 8,\n        \"samples\": [\n          \"worldnews\",\n          \"left-news\",\n          \"politicsNews\"\n        ],\n        \"semantic_type\": \"\",\n        \"description\": \"\"\n      }\n    },\n    {\n      \"column\": \"date\",\n      \"properties\": {\n        \"dtype\": \"category\",\n        \"num_unique_values\": 2397,\n        \"samples\": [\n          \"October 12, 2016 \",\n          \"June 16, 2017 \",\n          \"Oct 30, 2017\"\n        ],\n        \"semantic_type\": \"\",\n        \"description\": \"\"\n      }\n    },\n    {\n      \"column\": \"updated_text\",\n      \"properties\": {\n        \"dtype\": \"string\",\n        \"num_unique_values\": 39103,\n        \"samples\": [\n          \"U.S. Supreme Court to hear Ohio's bid to revive voter purge policy  The U.S. Supreme Court on Tuesday agreed to hear Ohio\\u2019s appeal of a lower court ruling that blocked the Republican-led state\\u2019s policy of purging people from voter-registration lists if they do not regularly cast ballots because it violated federal law. Civil liberties advocates who challenged Ohio\\u2019s policy said it illegally erased voters from registration rolls and unlawfully disenfranchised minorities and poor people who tend to back Democratic candidates. The justices will review a U.S. appeals court ruling that Ohio\\u2019s policy ran afoul of a 1993 law called the National Voter Registration Act, which Congress passed to make it easier for Americans to register to vote. A Reuters analysis last year found that in Ohio\\u2019s three largest counties, which include Cleveland, Cincinnati and Columbus, voters were struck from the rolls in Democratic-leaning neighborhoods at roughly twice the rate as in Republican neighborhoods under the policy. Ohio officials argued that canceling registrations for voters deemed inactive for six years helped keep voting rolls current and accurate, clearing out those who have moved away or died. In September 2016, ahead of the U.S. presidential election, the 6th U.S. Circuit Court of Appeals in Cincinnati ruled that the policy was unlawful. Democrats have accused Republicans of taking steps at the state level, including laws imposing new requirements on voters such as presenting certain types of government-issued identification, intended to suppress the vote of minorities, the poor and others who generally favor Democratic candidates. The American Civil Liberties Union last year sued Ohio Republican Secretary of State Jon Husted, arguing that the state was violating the National Voter Registration Act, which prohibits states from striking registered voters \\u201cby reason of the person\\u2019s failure to vote.\\u201d The 6th Circuit agreed. Under Ohio\\u2019s policy, if registered voters miss voting for two years, they are sent registration confirmation notices. If they do not respond and do not vote over the following four years, they are removed from the rolls. Husted has said Ohio\\u2019s policy has been in place since the 1990s under both Republican and Democratic secretaries of state. The suit said the policy led to the removal of tens of thousands of people from the voter rolls in 2015, including one of the lead plaintiffs, Larry Harmon, a software engineer and U.S. Navy veteran who was blocked from voting in a state marijuana initiative in 2015.  Republican Donald Trump won Ohio in last November\\u2019s presidential election. The National Voter Registration Act, dubbed the \\u201cMotor-Voter\\u201d law when it was enacted, required states to permit registration by mail or when eligible people apply for or renew a driver\\u2019s license, or visiting certain government agencies or military recruiting offices. (Corrects spelling of first name of Ohio secretary of state Husted in 6th paragraph, Jon instead of John.) \",\n          \"EU questions Russia's 2018 vote after Navalny decision  The Russian authorities  decision to bar opposition leader Alexei Navalny from running in next year s presidential election raises questions about the vote, the European Union s foreign service said in a statement on Tuesday. The central election commission said on Monday Navalny was not eligible to run in the March 18 election due to a suspended prison sentence. He has repeatedly denied any wrongdoing and says the case is politically motivated. The decision  casts a serious doubt on political pluralism in Russia and the prospect of democratic elections next year,  the EU s External Action Service, or EEAS, said in a statement.  Politically-motivated charges should not be used against political participation,  the EEAS said. It urged the Russian authorities  to ensure that there is a level playing field  in the presidential vote in March and in all other votes.    The EEAS said that Navalny was denied the right to a fair trial in his prosecution in 2013, according to the European Court of Human Rights, to which Russia is a signatory. Polls show President Vladimir Putin is on course to be comfortably re-elected, meaning he could remain in power until2024. Navalny has been jailed three times this year and charged with breaking the law by organizing public meetings and rallies. The European External Action Service (EEAS), set up in 2009, runs a network of diplomats around the globe, drafts policy papers for EU foreign ministers and is led by the EU s top diplomat Federica Mogherini, who visited Moscow in April this year.      \",\n          \"U.S. secretary of state to make first trip to Asia  U.S. Secretary of State Rex Tillerson will make his first trip to Asia next week and meet with senior officials to discuss North Korea\\u2019s recent missile tests and U.S. economic and security interests in the region. He will arrive in Japan on March 15, continue on to South Korea on March 17 and visit China from March 18-19. The trip comes after Pyongyang\\u2019s latest missile launches and the assassination in Malaysia of North Korean leader Kim Jong Un\\u2019s estranged half-brother have added urgency to the region\\u2019s security situation. U.S. President Donald Trump faces a growing test of resolve after vowing while campaigning to get tough on North Korea. Trump\\u2019s aides are pressing to complete a strategy review on how to counter Pyongyang\\u2019s missile and nuclear threats. Trump has attacked China on issues ranging from trade to the South China Sea and what he perceives as China\\u2019s lack of interest in reining in nuclear-armed North Korea. Last month, Trump held his first face-to-face talks with a member of the Chinese leadership, top diplomat Yang Jiechi who outranks Foreign Minister Wang Yi, and the White House said it was a chance to discuss shared security interests and a possible meeting with President Xi Jinping. Wang and Tillerson met last month in Germany on the sidelines of a meeting of foreign ministers of the G20 top economies. \\u201cI think that Secretary of State Tillerson is a person who is willing to listen and is a deep communicator,\\u201d Wang said at his annual news conference in Beijing on Wednesday, on the sidelines of China\\u2019s parliament.  \\u201cI believe we can establish a good working relationship,\\u201d he added. \"\n        ],\n        \"semantic_type\": \"\",\n        \"description\": \"\"\n      }\n    },\n    {\n      \"column\": \"text\",\n      \"properties\": {\n        \"dtype\": \"string\",\n        \"num_unique_values\": 39103,\n        \"samples\": [\n          \"u.s. supreme court to hear ohio's bid to revive voter purge policy  the u.s. supreme court on tuesday agreed to hear ohio\\u2019s appeal of a lower court ruling that blocked the republican-led state\\u2019s policy of purging people from voter-registration lists if they do not regularly cast ballots because it violated federal law. civil liberties advocates who challenged ohio\\u2019s policy said it illegally erased voters from registration rolls and unlawfully disenfranchised minorities and poor people who tend to back democratic candidates. the justices will review a u.s. appeals court ruling that ohio\\u2019s policy ran afoul of a 1993 law called the national voter registration act, which congress passed to make it easier for americans to register to vote. a reuters analysis last year found that in ohio\\u2019s three largest counties, which include cleveland, cincinnati and columbus, voters were struck from the rolls in democratic-leaning neighborhoods at roughly twice the rate as in republican neighborhoods under the policy. ohio officials argued that canceling registrations for voters deemed inactive for six years helped keep voting rolls current and accurate, clearing out those who have moved away or died. in september 2016, ahead of the u.s. presidential election, the 6th u.s. circuit court of appeals in cincinnati ruled that the policy was unlawful. democrats have accused republicans of taking steps at the state level, including laws imposing new requirements on voters such as presenting certain types of government-issued identification, intended to suppress the vote of minorities, the poor and others who generally favor democratic candidates. the american civil liberties union last year sued ohio republican secretary of state jon husted, arguing that the state was violating the national voter registration act, which prohibits states from striking registered voters \\u201cby reason of the person\\u2019s failure to vote.\\u201d the 6th circuit agreed. under ohio\\u2019s policy, if registered voters miss voting for two years, they are sent registration confirmation notices. if they do not respond and do not vote over the following four years, they are removed from the rolls. husted has said ohio\\u2019s policy has been in place since the 1990s under both republican and democratic secretaries of state. the suit said the policy led to the removal of tens of thousands of people from the voter rolls in 2015, including one of the lead plaintiffs, larry harmon, a software engineer and u.s. navy veteran who was blocked from voting in a state marijuana initiative in 2015.  republican donald trump won ohio in last november\\u2019s presidential election. the national voter registration act, dubbed the \\u201cmotor-voter\\u201d law when it was enacted, required states to permit registration by mail or when eligible people apply for or renew a driver\\u2019s license, or visiting certain government agencies or military recruiting offices. (corrects spelling of first name of ohio secretary of state husted in 6th paragraph, jon instead of john.) \",\n          \"eu questions russia's 2018 vote after navalny decision  the russian authorities  decision to bar opposition leader alexei navalny from running in next year s presidential election raises questions about the vote, the european union s foreign service said in a statement on tuesday. the central election commission said on monday navalny was not eligible to run in the march 18 election due to a suspended prison sentence. he has repeatedly denied any wrongdoing and says the case is politically motivated. the decision  casts a serious doubt on political pluralism in russia and the prospect of democratic elections next year,  the eu s external action service, or eeas, said in a statement.  politically-motivated charges should not be used against political participation,  the eeas said. it urged the russian authorities  to ensure that there is a level playing field  in the presidential vote in march and in all other votes.    the eeas said that navalny was denied the right to a fair trial in his prosecution in 2013, according to the european court of human rights, to which russia is a signatory. polls show president vladimir putin is on course to be comfortably re-elected, meaning he could remain in power until2024. navalny has been jailed three times this year and charged with breaking the law by organizing public meetings and rallies. the european external action service (eeas), set up in 2009, runs a network of diplomats around the globe, drafts policy papers for eu foreign ministers and is led by the eu s top diplomat federica mogherini, who visited moscow in april this year.      \",\n          \"u.s. secretary of state to make first trip to asia  u.s. secretary of state rex tillerson will make his first trip to asia next week and meet with senior officials to discuss north korea\\u2019s recent missile tests and u.s. economic and security interests in the region. he will arrive in japan on march 15, continue on to south korea on march 17 and visit china from march 18-19. the trip comes after pyongyang\\u2019s latest missile launches and the assassination in malaysia of north korean leader kim jong un\\u2019s estranged half-brother have added urgency to the region\\u2019s security situation. u.s. president donald trump faces a growing test of resolve after vowing while campaigning to get tough on north korea. trump\\u2019s aides are pressing to complete a strategy review on how to counter pyongyang\\u2019s missile and nuclear threats. trump has attacked china on issues ranging from trade to the south china sea and what he perceives as china\\u2019s lack of interest in reining in nuclear-armed north korea. last month, trump held his first face-to-face talks with a member of the chinese leadership, top diplomat yang jiechi who outranks foreign minister wang yi, and the white house said it was a chance to discuss shared security interests and a possible meeting with president xi jinping. wang and tillerson met last month in germany on the sidelines of a meeting of foreign ministers of the g20 top economies. \\u201ci think that secretary of state tillerson is a person who is willing to listen and is a deep communicator,\\u201d wang said at his annual news conference in beijing on wednesday, on the sidelines of china\\u2019s parliament.  \\u201ci believe we can establish a good working relationship,\\u201d he added. \"\n        ],\n        \"semantic_type\": \"\",\n        \"description\": \"\"\n      }\n    },\n    {\n      \"column\": \"class\",\n      \"properties\": {\n        \"dtype\": \"number\",\n        \"std\": 0,\n        \"min\": 0,\n        \"max\": 1,\n        \"num_unique_values\": 2,\n        \"samples\": [\n          0,\n          1\n        ],\n        \"semantic_type\": \"\",\n        \"description\": \"\"\n      }\n    }\n  ]\n}"
            }
          },
          "metadata": {},
          "execution_count": 42
        }
      ]
    },
    {
      "cell_type": "code",
      "source": [
        "df['class'].value_counts(normalize=True)"
      ],
      "metadata": {
        "colab": {
          "base_uri": "https://localhost:8080/"
        },
        "id": "mwvGc1rElPt-",
        "outputId": "970a9362-2cfd-4d71-91ee-43ca673d2e32"
      },
      "execution_count": null,
      "outputs": [
        {
          "output_type": "execute_result",
          "data": {
            "text/plain": [
              "0    0.522997\n",
              "1    0.477003\n",
              "Name: class, dtype: float64"
            ]
          },
          "metadata": {},
          "execution_count": 43
        }
      ]
    },
    {
      "cell_type": "code",
      "source": [
        "# applying the word correction to the text feature\n",
        "\n",
        "from bs4 import BeautifulSoup\n",
        "def preprocess(q):\n",
        "\n",
        "    q = str(q).lower().strip()\n",
        "\n",
        "    # Replace certain special characters with their string equivalents\n",
        "    q = q.replace('%', ' percent')\n",
        "    q = q.replace('$', ' dollar ')\n",
        "    q = q.replace('₹', ' rupee ')\n",
        "    q = q.replace('€', ' euro ')\n",
        "    q = q.replace('@', ' at ')\n",
        "\n",
        "    # Replacing some numbers with string equivalents (not perfect, can be done better to account for more cases)\n",
        "    q = q.replace(',000,000,000 ', 'b ')\n",
        "    q = q.replace(',000,000 ', 'm ')\n",
        "    q = q.replace(',000 ', 'k ')\n",
        "    q = re.sub(r'([0-9]+)000000000', r'\\1b', q)\n",
        "    q = re.sub(r'([0-9]+)000000', r'\\1m', q)\n",
        "    q = re.sub(r'([0-9]+)000', r'\\1k', q)\n",
        "\n",
        "    # Decontracting words\n",
        "    # https://en.wikipedia.org/wiki/Wikipedia%3aList_of_English_contractions\n",
        "    # https://stackoverflow.com/a/19794953\n",
        "    contractions = {\n",
        "    \"ain't\": \"am not\",\n",
        "    \"aren't\": \"are not\",\n",
        "    \"can't\": \"can not\",\n",
        "    \"can't've\": \"can not have\",\n",
        "    \"'cause\": \"because\",\n",
        "    \"could've\": \"could have\",\n",
        "    \"couldn't\": \"could not\",\n",
        "    \"couldn't've\": \"could not have\",\n",
        "    \"didn't\": \"did not\",\n",
        "    \"doesn't\": \"does not\",\n",
        "    \"don't\": \"do not\",\n",
        "    \"hadn't\": \"had not\",\n",
        "    \"hadn't've\": \"had not have\",\n",
        "    \"hasn't\": \"has not\",\n",
        "    \"haven't\": \"have not\",\n",
        "    \"he'd\": \"he would\",\n",
        "    \"he'd've\": \"he would have\",\n",
        "    \"he'll\": \"he will\",\n",
        "    \"he'll've\": \"he will have\",\n",
        "    \"he's\": \"he is\",\n",
        "    \"how'd\": \"how did\",\n",
        "    \"how'd'y\": \"how do you\",\n",
        "    \"how'll\": \"how will\",\n",
        "    \"how's\": \"how is\",\n",
        "    \"i'd\": \"i would\",\n",
        "    \"i'd've\": \"i would have\",\n",
        "    \"i'll\": \"i will\",\n",
        "    \"i'll've\": \"i will have\",\n",
        "    \"i'm\": \"i am\",\n",
        "    \"i've\": \"i have\",\n",
        "    \"isn't\": \"is not\",\n",
        "    \"it'd\": \"it would\",\n",
        "    \"it'd've\": \"it would have\",\n",
        "    \"it'll\": \"it will\",\n",
        "    \"it'll've\": \"it will have\",\n",
        "    \"it's\": \"it is\",\n",
        "    \"let's\": \"let us\",\n",
        "    \"ma'am\": \"madam\",\n",
        "    \"mayn't\": \"may not\",\n",
        "    \"might've\": \"might have\",\n",
        "    \"mightn't\": \"might not\",\n",
        "    \"mightn't've\": \"might not have\",\n",
        "    \"must've\": \"must have\",\n",
        "    \"mustn't\": \"must not\",\n",
        "    \"mustn't've\": \"must not have\",\n",
        "    \"needn't\": \"need not\",\n",
        "    \"needn't've\": \"need not have\",\n",
        "    \"o'clock\": \"of the clock\",\n",
        "    \"oughtn't\": \"ought not\",\n",
        "    \"oughtn't've\": \"ought not have\",\n",
        "    \"shan't\": \"shall not\",\n",
        "    \"sha'n't\": \"shall not\",\n",
        "    \"shan't've\": \"shall not have\",\n",
        "    \"she'd\": \"she would\",\n",
        "    \"she'd've\": \"she would have\",\n",
        "    \"she'll\": \"she will\",\n",
        "    \"she'll've\": \"she will have\",\n",
        "    \"she's\": \"she is\",\n",
        "    \"should've\": \"should have\",\n",
        "    \"shouldn't\": \"should not\",\n",
        "    \"shouldn't've\": \"should not have\",\n",
        "    \"so've\": \"so have\",\n",
        "    \"so's\": \"so as\",\n",
        "    \"that'd\": \"that would\",\n",
        "    \"that'd've\": \"that would have\",\n",
        "    \"that's\": \"that is\",\n",
        "    \"there'd\": \"there would\",\n",
        "    \"there'd've\": \"there would have\",\n",
        "    \"there's\": \"there is\",\n",
        "    \"they'd\": \"they would\",\n",
        "    \"they'd've\": \"they would have\",\n",
        "    \"they'll\": \"they will\",\n",
        "    \"they'll've\": \"they will have\",\n",
        "    \"they're\": \"they are\",\n",
        "    \"they've\": \"they have\",\n",
        "    \"to've\": \"to have\",\n",
        "    \"wasn't\": \"was not\",\n",
        "    \"we'd\": \"we would\",\n",
        "    \"we'd've\": \"we would have\",\n",
        "    \"we'll\": \"we will\",\n",
        "    \"we'll've\": \"we will have\",\n",
        "    \"we're\": \"we are\",\n",
        "    \"we've\": \"we have\",\n",
        "    \"weren't\": \"were not\",\n",
        "    \"what'll\": \"what will\",\n",
        "    \"what'll've\": \"what will have\",\n",
        "    \"what're\": \"what are\",\n",
        "    \"what's\": \"what is\",\n",
        "    \"what've\": \"what have\",\n",
        "    \"when's\": \"when is\",\n",
        "    \"when've\": \"when have\",\n",
        "    \"where'd\": \"where did\",\n",
        "    \"where's\": \"where is\",\n",
        "    \"where've\": \"where have\",\n",
        "    \"who'll\": \"who will\",\n",
        "    \"who'll've\": \"who will have\",\n",
        "    \"who's\": \"who is\",\n",
        "    \"who've\": \"who have\",\n",
        "    \"why's\": \"why is\",\n",
        "    \"why've\": \"why have\",\n",
        "    \"will've\": \"will have\",\n",
        "    \"won't\": \"will not\",\n",
        "    \"won't've\": \"will not have\",\n",
        "    \"would've\": \"would have\",\n",
        "    \"wouldn't\": \"would not\",\n",
        "    \"wouldn't've\": \"would not have\",\n",
        "    \"y'all\": \"you all\",\n",
        "    \"y'all'd\": \"you all would\",\n",
        "    \"y'all'd've\": \"you all would have\",\n",
        "    \"y'all're\": \"you all are\",\n",
        "    \"y'all've\": \"you all have\",\n",
        "    \"you'd\": \"you would\",\n",
        "    \"you'd've\": \"you would have\",\n",
        "    \"you'll\": \"you will\",\n",
        "    \"you'll've\": \"you will have\",\n",
        "    \"you're\": \"you are\",\n",
        "    \"you've\": \"you have\"\n",
        "    }\n",
        "\n",
        "    q_decontracted = []\n",
        "\n",
        "    for word in q.split():\n",
        "        if word in contractions:\n",
        "            word = contractions[word]\n",
        "\n",
        "        q_decontracted.append(word)\n",
        "\n",
        "    q = ' '.join(q_decontracted)\n",
        "    q = q.replace(\"'ve\", \" have\")\n",
        "    q = q.replace(\"n't\", \" not\")\n",
        "    q = q.replace(\"'re\", \" are\")\n",
        "    q = q.replace(\"'ll\", \" will\")\n",
        "\n",
        "    # Removing HTML tags\n",
        "    q = BeautifulSoup(q)\n",
        "    q = q.get_text()\n",
        "\n",
        "    # Remove punctuations\n",
        "    pattern = re.compile('\\W')\n",
        "    q = re.sub(pattern, ' ', q).strip()\n",
        "\n",
        "\n",
        "    return q"
      ],
      "metadata": {
        "id": "RIA4QhCmmtzP"
      },
      "execution_count": null,
      "outputs": []
    },
    {
      "cell_type": "code",
      "source": [
        "df['text'] = df['text'].apply(preprocess)"
      ],
      "metadata": {
        "colab": {
          "base_uri": "https://localhost:8080/"
        },
        "id": "_cxhTJrrmt2F",
        "outputId": "d5baa23b-decf-46b8-e16f-5ebf7408fe06"
      },
      "execution_count": null,
      "outputs": [
        {
          "output_type": "stream",
          "name": "stderr",
          "text": [
            "<ipython-input-44-e90ff8dbaf22>:161: MarkupResemblesLocatorWarning: The input looks more like a filename than markup. You may want to open this file and pass the filehandle into Beautiful Soup.\n",
            "  q = BeautifulSoup(q)\n"
          ]
        }
      ]
    },
    {
      "cell_type": "markdown",
      "source": [
        "Installing Package to remove the special characters in text data"
      ],
      "metadata": {
        "id": "GrjiyKSpLAJ4"
      }
    },
    {
      "cell_type": "code",
      "source": [
        "!pip install spacy\n",
        "!python -m spacy download en_core_web_sm\n",
        "!pip install beautifulsoup4\n",
        "!pip install textblob"
      ],
      "metadata": {
        "colab": {
          "base_uri": "https://localhost:8080/"
        },
        "id": "o5fT30LwKyOg",
        "outputId": "247afb25-aa41-4646-aeb9-3e6b6825a289"
      },
      "execution_count": null,
      "outputs": [
        {
          "output_type": "stream",
          "name": "stdout",
          "text": [
            "Requirement already satisfied: spacy in /usr/local/lib/python3.10/dist-packages (3.7.4)\n",
            "Requirement already satisfied: spacy-legacy<3.1.0,>=3.0.11 in /usr/local/lib/python3.10/dist-packages (from spacy) (3.0.12)\n",
            "Requirement already satisfied: spacy-loggers<2.0.0,>=1.0.0 in /usr/local/lib/python3.10/dist-packages (from spacy) (1.0.5)\n",
            "Requirement already satisfied: murmurhash<1.1.0,>=0.28.0 in /usr/local/lib/python3.10/dist-packages (from spacy) (1.0.10)\n",
            "Requirement already satisfied: cymem<2.1.0,>=2.0.2 in /usr/local/lib/python3.10/dist-packages (from spacy) (2.0.8)\n",
            "Requirement already satisfied: preshed<3.1.0,>=3.0.2 in /usr/local/lib/python3.10/dist-packages (from spacy) (3.0.9)\n",
            "Requirement already satisfied: thinc<8.3.0,>=8.2.2 in /usr/local/lib/python3.10/dist-packages (from spacy) (8.2.3)\n",
            "Requirement already satisfied: wasabi<1.2.0,>=0.9.1 in /usr/local/lib/python3.10/dist-packages (from spacy) (1.1.2)\n",
            "Requirement already satisfied: srsly<3.0.0,>=2.4.3 in /usr/local/lib/python3.10/dist-packages (from spacy) (2.4.8)\n",
            "Requirement already satisfied: catalogue<2.1.0,>=2.0.6 in /usr/local/lib/python3.10/dist-packages (from spacy) (2.0.10)\n",
            "Requirement already satisfied: weasel<0.4.0,>=0.1.0 in /usr/local/lib/python3.10/dist-packages (from spacy) (0.3.4)\n",
            "Requirement already satisfied: typer<0.10.0,>=0.3.0 in /usr/local/lib/python3.10/dist-packages (from spacy) (0.9.0)\n",
            "Requirement already satisfied: smart-open<7.0.0,>=5.2.1 in /usr/local/lib/python3.10/dist-packages (from spacy) (6.4.0)\n",
            "Requirement already satisfied: tqdm<5.0.0,>=4.38.0 in /usr/local/lib/python3.10/dist-packages (from spacy) (4.66.2)\n",
            "Requirement already satisfied: requests<3.0.0,>=2.13.0 in /usr/local/lib/python3.10/dist-packages (from spacy) (2.31.0)\n",
            "Requirement already satisfied: pydantic!=1.8,!=1.8.1,<3.0.0,>=1.7.4 in /usr/local/lib/python3.10/dist-packages (from spacy) (2.6.4)\n",
            "Requirement already satisfied: jinja2 in /usr/local/lib/python3.10/dist-packages (from spacy) (3.1.3)\n",
            "Requirement already satisfied: setuptools in /usr/local/lib/python3.10/dist-packages (from spacy) (67.7.2)\n",
            "Requirement already satisfied: packaging>=20.0 in /usr/local/lib/python3.10/dist-packages (from spacy) (24.0)\n",
            "Requirement already satisfied: langcodes<4.0.0,>=3.2.0 in /usr/local/lib/python3.10/dist-packages (from spacy) (3.3.0)\n",
            "Requirement already satisfied: numpy>=1.19.0 in /usr/local/lib/python3.10/dist-packages (from spacy) (1.25.2)\n",
            "Requirement already satisfied: annotated-types>=0.4.0 in /usr/local/lib/python3.10/dist-packages (from pydantic!=1.8,!=1.8.1,<3.0.0,>=1.7.4->spacy) (0.6.0)\n",
            "Requirement already satisfied: pydantic-core==2.16.3 in /usr/local/lib/python3.10/dist-packages (from pydantic!=1.8,!=1.8.1,<3.0.0,>=1.7.4->spacy) (2.16.3)\n",
            "Requirement already satisfied: typing-extensions>=4.6.1 in /usr/local/lib/python3.10/dist-packages (from pydantic!=1.8,!=1.8.1,<3.0.0,>=1.7.4->spacy) (4.10.0)\n",
            "Requirement already satisfied: charset-normalizer<4,>=2 in /usr/local/lib/python3.10/dist-packages (from requests<3.0.0,>=2.13.0->spacy) (3.3.2)\n",
            "Requirement already satisfied: idna<4,>=2.5 in /usr/local/lib/python3.10/dist-packages (from requests<3.0.0,>=2.13.0->spacy) (3.6)\n",
            "Requirement already satisfied: urllib3<3,>=1.21.1 in /usr/local/lib/python3.10/dist-packages (from requests<3.0.0,>=2.13.0->spacy) (2.0.7)\n",
            "Requirement already satisfied: certifi>=2017.4.17 in /usr/local/lib/python3.10/dist-packages (from requests<3.0.0,>=2.13.0->spacy) (2024.2.2)\n",
            "Requirement already satisfied: blis<0.8.0,>=0.7.8 in /usr/local/lib/python3.10/dist-packages (from thinc<8.3.0,>=8.2.2->spacy) (0.7.11)\n",
            "Requirement already satisfied: confection<1.0.0,>=0.0.1 in /usr/local/lib/python3.10/dist-packages (from thinc<8.3.0,>=8.2.2->spacy) (0.1.4)\n",
            "Requirement already satisfied: click<9.0.0,>=7.1.1 in /usr/local/lib/python3.10/dist-packages (from typer<0.10.0,>=0.3.0->spacy) (8.1.7)\n",
            "Requirement already satisfied: cloudpathlib<0.17.0,>=0.7.0 in /usr/local/lib/python3.10/dist-packages (from weasel<0.4.0,>=0.1.0->spacy) (0.16.0)\n",
            "Requirement already satisfied: MarkupSafe>=2.0 in /usr/local/lib/python3.10/dist-packages (from jinja2->spacy) (2.1.5)\n",
            "Collecting en-core-web-sm==3.7.1\n",
            "  Downloading https://github.com/explosion/spacy-models/releases/download/en_core_web_sm-3.7.1/en_core_web_sm-3.7.1-py3-none-any.whl (12.8 MB)\n",
            "\u001b[2K     \u001b[90m━━━━━━━━━━━━━━━━━━━━━━━━━━━━━━━━━━━━━━━━\u001b[0m \u001b[32m12.8/12.8 MB\u001b[0m \u001b[31m76.5 MB/s\u001b[0m eta \u001b[36m0:00:00\u001b[0m\n",
            "\u001b[?25hRequirement already satisfied: spacy<3.8.0,>=3.7.2 in /usr/local/lib/python3.10/dist-packages (from en-core-web-sm==3.7.1) (3.7.4)\n",
            "Requirement already satisfied: spacy-legacy<3.1.0,>=3.0.11 in /usr/local/lib/python3.10/dist-packages (from spacy<3.8.0,>=3.7.2->en-core-web-sm==3.7.1) (3.0.12)\n",
            "Requirement already satisfied: spacy-loggers<2.0.0,>=1.0.0 in /usr/local/lib/python3.10/dist-packages (from spacy<3.8.0,>=3.7.2->en-core-web-sm==3.7.1) (1.0.5)\n",
            "Requirement already satisfied: murmurhash<1.1.0,>=0.28.0 in /usr/local/lib/python3.10/dist-packages (from spacy<3.8.0,>=3.7.2->en-core-web-sm==3.7.1) (1.0.10)\n",
            "Requirement already satisfied: cymem<2.1.0,>=2.0.2 in /usr/local/lib/python3.10/dist-packages (from spacy<3.8.0,>=3.7.2->en-core-web-sm==3.7.1) (2.0.8)\n",
            "Requirement already satisfied: preshed<3.1.0,>=3.0.2 in /usr/local/lib/python3.10/dist-packages (from spacy<3.8.0,>=3.7.2->en-core-web-sm==3.7.1) (3.0.9)\n",
            "Requirement already satisfied: thinc<8.3.0,>=8.2.2 in /usr/local/lib/python3.10/dist-packages (from spacy<3.8.0,>=3.7.2->en-core-web-sm==3.7.1) (8.2.3)\n",
            "Requirement already satisfied: wasabi<1.2.0,>=0.9.1 in /usr/local/lib/python3.10/dist-packages (from spacy<3.8.0,>=3.7.2->en-core-web-sm==3.7.1) (1.1.2)\n",
            "Requirement already satisfied: srsly<3.0.0,>=2.4.3 in /usr/local/lib/python3.10/dist-packages (from spacy<3.8.0,>=3.7.2->en-core-web-sm==3.7.1) (2.4.8)\n",
            "Requirement already satisfied: catalogue<2.1.0,>=2.0.6 in /usr/local/lib/python3.10/dist-packages (from spacy<3.8.0,>=3.7.2->en-core-web-sm==3.7.1) (2.0.10)\n",
            "Requirement already satisfied: weasel<0.4.0,>=0.1.0 in /usr/local/lib/python3.10/dist-packages (from spacy<3.8.0,>=3.7.2->en-core-web-sm==3.7.1) (0.3.4)\n",
            "Requirement already satisfied: typer<0.10.0,>=0.3.0 in /usr/local/lib/python3.10/dist-packages (from spacy<3.8.0,>=3.7.2->en-core-web-sm==3.7.1) (0.9.0)\n",
            "Requirement already satisfied: smart-open<7.0.0,>=5.2.1 in /usr/local/lib/python3.10/dist-packages (from spacy<3.8.0,>=3.7.2->en-core-web-sm==3.7.1) (6.4.0)\n",
            "Requirement already satisfied: tqdm<5.0.0,>=4.38.0 in /usr/local/lib/python3.10/dist-packages (from spacy<3.8.0,>=3.7.2->en-core-web-sm==3.7.1) (4.66.2)\n",
            "Requirement already satisfied: requests<3.0.0,>=2.13.0 in /usr/local/lib/python3.10/dist-packages (from spacy<3.8.0,>=3.7.2->en-core-web-sm==3.7.1) (2.31.0)\n",
            "Requirement already satisfied: pydantic!=1.8,!=1.8.1,<3.0.0,>=1.7.4 in /usr/local/lib/python3.10/dist-packages (from spacy<3.8.0,>=3.7.2->en-core-web-sm==3.7.1) (2.6.4)\n",
            "Requirement already satisfied: jinja2 in /usr/local/lib/python3.10/dist-packages (from spacy<3.8.0,>=3.7.2->en-core-web-sm==3.7.1) (3.1.3)\n",
            "Requirement already satisfied: setuptools in /usr/local/lib/python3.10/dist-packages (from spacy<3.8.0,>=3.7.2->en-core-web-sm==3.7.1) (67.7.2)\n",
            "Requirement already satisfied: packaging>=20.0 in /usr/local/lib/python3.10/dist-packages (from spacy<3.8.0,>=3.7.2->en-core-web-sm==3.7.1) (24.0)\n",
            "Requirement already satisfied: langcodes<4.0.0,>=3.2.0 in /usr/local/lib/python3.10/dist-packages (from spacy<3.8.0,>=3.7.2->en-core-web-sm==3.7.1) (3.3.0)\n",
            "Requirement already satisfied: numpy>=1.19.0 in /usr/local/lib/python3.10/dist-packages (from spacy<3.8.0,>=3.7.2->en-core-web-sm==3.7.1) (1.25.2)\n",
            "Requirement already satisfied: annotated-types>=0.4.0 in /usr/local/lib/python3.10/dist-packages (from pydantic!=1.8,!=1.8.1,<3.0.0,>=1.7.4->spacy<3.8.0,>=3.7.2->en-core-web-sm==3.7.1) (0.6.0)\n",
            "Requirement already satisfied: pydantic-core==2.16.3 in /usr/local/lib/python3.10/dist-packages (from pydantic!=1.8,!=1.8.1,<3.0.0,>=1.7.4->spacy<3.8.0,>=3.7.2->en-core-web-sm==3.7.1) (2.16.3)\n",
            "Requirement already satisfied: typing-extensions>=4.6.1 in /usr/local/lib/python3.10/dist-packages (from pydantic!=1.8,!=1.8.1,<3.0.0,>=1.7.4->spacy<3.8.0,>=3.7.2->en-core-web-sm==3.7.1) (4.10.0)\n",
            "Requirement already satisfied: charset-normalizer<4,>=2 in /usr/local/lib/python3.10/dist-packages (from requests<3.0.0,>=2.13.0->spacy<3.8.0,>=3.7.2->en-core-web-sm==3.7.1) (3.3.2)\n",
            "Requirement already satisfied: idna<4,>=2.5 in /usr/local/lib/python3.10/dist-packages (from requests<3.0.0,>=2.13.0->spacy<3.8.0,>=3.7.2->en-core-web-sm==3.7.1) (3.6)\n",
            "Requirement already satisfied: urllib3<3,>=1.21.1 in /usr/local/lib/python3.10/dist-packages (from requests<3.0.0,>=2.13.0->spacy<3.8.0,>=3.7.2->en-core-web-sm==3.7.1) (2.0.7)\n",
            "Requirement already satisfied: certifi>=2017.4.17 in /usr/local/lib/python3.10/dist-packages (from requests<3.0.0,>=2.13.0->spacy<3.8.0,>=3.7.2->en-core-web-sm==3.7.1) (2024.2.2)\n",
            "Requirement already satisfied: blis<0.8.0,>=0.7.8 in /usr/local/lib/python3.10/dist-packages (from thinc<8.3.0,>=8.2.2->spacy<3.8.0,>=3.7.2->en-core-web-sm==3.7.1) (0.7.11)\n",
            "Requirement already satisfied: confection<1.0.0,>=0.0.1 in /usr/local/lib/python3.10/dist-packages (from thinc<8.3.0,>=8.2.2->spacy<3.8.0,>=3.7.2->en-core-web-sm==3.7.1) (0.1.4)\n",
            "Requirement already satisfied: click<9.0.0,>=7.1.1 in /usr/local/lib/python3.10/dist-packages (from typer<0.10.0,>=0.3.0->spacy<3.8.0,>=3.7.2->en-core-web-sm==3.7.1) (8.1.7)\n",
            "Requirement already satisfied: cloudpathlib<0.17.0,>=0.7.0 in /usr/local/lib/python3.10/dist-packages (from weasel<0.4.0,>=0.1.0->spacy<3.8.0,>=3.7.2->en-core-web-sm==3.7.1) (0.16.0)\n",
            "Requirement already satisfied: MarkupSafe>=2.0 in /usr/local/lib/python3.10/dist-packages (from jinja2->spacy<3.8.0,>=3.7.2->en-core-web-sm==3.7.1) (2.1.5)\n",
            "\u001b[38;5;2m✔ Download and installation successful\u001b[0m\n",
            "You can now load the package via spacy.load('en_core_web_sm')\n",
            "\u001b[38;5;3m⚠ Restart to reload dependencies\u001b[0m\n",
            "If you are in a Jupyter or Colab notebook, you may need to restart Python in\n",
            "order to load all the package's dependencies. You can do this by selecting the\n",
            "'Restart kernel' or 'Restart runtime' option.\n",
            "Requirement already satisfied: beautifulsoup4 in /usr/local/lib/python3.10/dist-packages (4.12.3)\n",
            "Requirement already satisfied: soupsieve>1.2 in /usr/local/lib/python3.10/dist-packages (from beautifulsoup4) (2.5)\n",
            "Requirement already satisfied: textblob in /usr/local/lib/python3.10/dist-packages (0.17.1)\n",
            "Requirement already satisfied: nltk>=3.1 in /usr/local/lib/python3.10/dist-packages (from textblob) (3.8.1)\n",
            "Requirement already satisfied: click in /usr/local/lib/python3.10/dist-packages (from nltk>=3.1->textblob) (8.1.7)\n",
            "Requirement already satisfied: joblib in /usr/local/lib/python3.10/dist-packages (from nltk>=3.1->textblob) (1.3.2)\n",
            "Requirement already satisfied: regex>=2021.8.3 in /usr/local/lib/python3.10/dist-packages (from nltk>=3.1->textblob) (2023.12.25)\n",
            "Requirement already satisfied: tqdm in /usr/local/lib/python3.10/dist-packages (from nltk>=3.1->textblob) (4.66.2)\n"
          ]
        }
      ]
    },
    {
      "cell_type": "code",
      "source": [
        "!pip install git+https://github.com/laxmimerit/preprocess_kgptalkie.git --upgrade --force-reinstall"
      ],
      "metadata": {
        "colab": {
          "base_uri": "https://localhost:8080/"
        },
        "id": "5chYJekHK3Um",
        "outputId": "6b282f65-a94a-4d05-b251-d6aae4b7e3fd"
      },
      "execution_count": null,
      "outputs": [
        {
          "output_type": "stream",
          "name": "stdout",
          "text": [
            "Collecting git+https://github.com/laxmimerit/preprocess_kgptalkie.git\n",
            "  Cloning https://github.com/laxmimerit/preprocess_kgptalkie.git to /tmp/pip-req-build-lcf16yu7\n",
            "  Running command git clone --filter=blob:none --quiet https://github.com/laxmimerit/preprocess_kgptalkie.git /tmp/pip-req-build-lcf16yu7\n",
            "  Resolved https://github.com/laxmimerit/preprocess_kgptalkie.git to commit 96bf02872d9756f29d6cddb8aafaedcd2a39bbb4\n",
            "  Preparing metadata (setup.py) ... \u001b[?25l\u001b[?25hdone\n",
            "Building wheels for collected packages: preprocess-kgptalkie\n",
            "  Building wheel for preprocess-kgptalkie (setup.py) ... \u001b[?25l\u001b[?25hdone\n",
            "  Created wheel for preprocess-kgptalkie: filename=preprocess_kgptalkie-0.1.3-py3-none-any.whl size=7603 sha256=867553264a2ecc191f9329a9f561e92faf337a19bb6ed42dd7100ca8479f8d38\n",
            "  Stored in directory: /tmp/pip-ephem-wheel-cache-r6k__d8m/wheels/5c/94/34/99d5ff65e88b8d9a6c5e8d8652f2311d87790a61a1b7466e21\n",
            "Successfully built preprocess-kgptalkie\n",
            "Installing collected packages: preprocess-kgptalkie\n",
            "  Attempting uninstall: preprocess-kgptalkie\n",
            "    Found existing installation: preprocess-kgptalkie 0.1.3\n",
            "    Uninstalling preprocess-kgptalkie-0.1.3:\n",
            "      Successfully uninstalled preprocess-kgptalkie-0.1.3\n",
            "Successfully installed preprocess-kgptalkie-0.1.3\n"
          ]
        }
      ]
    },
    {
      "cell_type": "code",
      "source": [
        "import preprocess_kgptalkie as ps"
      ],
      "metadata": {
        "id": "8PtgYDBeKG2N"
      },
      "execution_count": null,
      "outputs": []
    },
    {
      "cell_type": "code",
      "source": [
        "df['text'] = df['text'].apply(lambda x: ps.remove_special_chars(x))"
      ],
      "metadata": {
        "id": "uqnDx8MjLXc4"
      },
      "execution_count": null,
      "outputs": []
    },
    {
      "cell_type": "markdown",
      "source": [
        "Word2Vec word embedding"
      ],
      "metadata": {
        "id": "QaLztW8pL5Z1"
      }
    },
    {
      "cell_type": "code",
      "source": [
        "df.head()"
      ],
      "metadata": {
        "colab": {
          "base_uri": "https://localhost:8080/",
          "height": 206
        },
        "id": "fs2FMGCGmt4g",
        "outputId": "5c839d56-004b-4483-f4a6-1a619016c641"
      },
      "execution_count": null,
      "outputs": [
        {
          "output_type": "execute_result",
          "data": {
            "text/plain": [
              "        subject                date  \\\n",
              "0  politicsNews  December 31, 2017    \n",
              "1  politicsNews  December 29, 2017    \n",
              "2  politicsNews  December 31, 2017    \n",
              "3  politicsNews  December 30, 2017    \n",
              "4  politicsNews  December 29, 2017    \n",
              "\n",
              "                                        updated_text  \\\n",
              "0  As U.S. budget fight looms, Republicans flip t...   \n",
              "1  U.S. military to accept transgender recruits o...   \n",
              "2  Senior U.S. Republican senator: 'Let Mr. Muell...   \n",
              "3  FBI Russia probe helped by Australian diplomat...   \n",
              "4  Trump wants Postal Service to charge 'much mor...   \n",
              "\n",
              "                                                text  class  \n",
              "0  as u s budget fight looms republicans flip the...      1  \n",
              "1  u s military to accept transgender recruits on...      1  \n",
              "2  senior u s republican senator let mr mueller d...      1  \n",
              "3  fbi russia probe helped by australian diplomat...      1  \n",
              "4  trump wants postal service to charge much more...      1  "
            ],
            "text/html": [
              "\n",
              "  <div id=\"df-87a0beda-fafb-49b2-ac78-9b3f8d283cf1\" class=\"colab-df-container\">\n",
              "    <div>\n",
              "<style scoped>\n",
              "    .dataframe tbody tr th:only-of-type {\n",
              "        vertical-align: middle;\n",
              "    }\n",
              "\n",
              "    .dataframe tbody tr th {\n",
              "        vertical-align: top;\n",
              "    }\n",
              "\n",
              "    .dataframe thead th {\n",
              "        text-align: right;\n",
              "    }\n",
              "</style>\n",
              "<table border=\"1\" class=\"dataframe\">\n",
              "  <thead>\n",
              "    <tr style=\"text-align: right;\">\n",
              "      <th></th>\n",
              "      <th>subject</th>\n",
              "      <th>date</th>\n",
              "      <th>updated_text</th>\n",
              "      <th>text</th>\n",
              "      <th>class</th>\n",
              "    </tr>\n",
              "  </thead>\n",
              "  <tbody>\n",
              "    <tr>\n",
              "      <th>0</th>\n",
              "      <td>politicsNews</td>\n",
              "      <td>December 31, 2017</td>\n",
              "      <td>As U.S. budget fight looms, Republicans flip t...</td>\n",
              "      <td>as u s budget fight looms republicans flip the...</td>\n",
              "      <td>1</td>\n",
              "    </tr>\n",
              "    <tr>\n",
              "      <th>1</th>\n",
              "      <td>politicsNews</td>\n",
              "      <td>December 29, 2017</td>\n",
              "      <td>U.S. military to accept transgender recruits o...</td>\n",
              "      <td>u s military to accept transgender recruits on...</td>\n",
              "      <td>1</td>\n",
              "    </tr>\n",
              "    <tr>\n",
              "      <th>2</th>\n",
              "      <td>politicsNews</td>\n",
              "      <td>December 31, 2017</td>\n",
              "      <td>Senior U.S. Republican senator: 'Let Mr. Muell...</td>\n",
              "      <td>senior u s republican senator let mr mueller d...</td>\n",
              "      <td>1</td>\n",
              "    </tr>\n",
              "    <tr>\n",
              "      <th>3</th>\n",
              "      <td>politicsNews</td>\n",
              "      <td>December 30, 2017</td>\n",
              "      <td>FBI Russia probe helped by Australian diplomat...</td>\n",
              "      <td>fbi russia probe helped by australian diplomat...</td>\n",
              "      <td>1</td>\n",
              "    </tr>\n",
              "    <tr>\n",
              "      <th>4</th>\n",
              "      <td>politicsNews</td>\n",
              "      <td>December 29, 2017</td>\n",
              "      <td>Trump wants Postal Service to charge 'much mor...</td>\n",
              "      <td>trump wants postal service to charge much more...</td>\n",
              "      <td>1</td>\n",
              "    </tr>\n",
              "  </tbody>\n",
              "</table>\n",
              "</div>\n",
              "    <div class=\"colab-df-buttons\">\n",
              "\n",
              "  <div class=\"colab-df-container\">\n",
              "    <button class=\"colab-df-convert\" onclick=\"convertToInteractive('df-87a0beda-fafb-49b2-ac78-9b3f8d283cf1')\"\n",
              "            title=\"Convert this dataframe to an interactive table.\"\n",
              "            style=\"display:none;\">\n",
              "\n",
              "  <svg xmlns=\"http://www.w3.org/2000/svg\" height=\"24px\" viewBox=\"0 -960 960 960\">\n",
              "    <path d=\"M120-120v-720h720v720H120Zm60-500h600v-160H180v160Zm220 220h160v-160H400v160Zm0 220h160v-160H400v160ZM180-400h160v-160H180v160Zm440 0h160v-160H620v160ZM180-180h160v-160H180v160Zm440 0h160v-160H620v160Z\"/>\n",
              "  </svg>\n",
              "    </button>\n",
              "\n",
              "  <style>\n",
              "    .colab-df-container {\n",
              "      display:flex;\n",
              "      gap: 12px;\n",
              "    }\n",
              "\n",
              "    .colab-df-convert {\n",
              "      background-color: #E8F0FE;\n",
              "      border: none;\n",
              "      border-radius: 50%;\n",
              "      cursor: pointer;\n",
              "      display: none;\n",
              "      fill: #1967D2;\n",
              "      height: 32px;\n",
              "      padding: 0 0 0 0;\n",
              "      width: 32px;\n",
              "    }\n",
              "\n",
              "    .colab-df-convert:hover {\n",
              "      background-color: #E2EBFA;\n",
              "      box-shadow: 0px 1px 2px rgba(60, 64, 67, 0.3), 0px 1px 3px 1px rgba(60, 64, 67, 0.15);\n",
              "      fill: #174EA6;\n",
              "    }\n",
              "\n",
              "    .colab-df-buttons div {\n",
              "      margin-bottom: 4px;\n",
              "    }\n",
              "\n",
              "    [theme=dark] .colab-df-convert {\n",
              "      background-color: #3B4455;\n",
              "      fill: #D2E3FC;\n",
              "    }\n",
              "\n",
              "    [theme=dark] .colab-df-convert:hover {\n",
              "      background-color: #434B5C;\n",
              "      box-shadow: 0px 1px 3px 1px rgba(0, 0, 0, 0.15);\n",
              "      filter: drop-shadow(0px 1px 2px rgba(0, 0, 0, 0.3));\n",
              "      fill: #FFFFFF;\n",
              "    }\n",
              "  </style>\n",
              "\n",
              "    <script>\n",
              "      const buttonEl =\n",
              "        document.querySelector('#df-87a0beda-fafb-49b2-ac78-9b3f8d283cf1 button.colab-df-convert');\n",
              "      buttonEl.style.display =\n",
              "        google.colab.kernel.accessAllowed ? 'block' : 'none';\n",
              "\n",
              "      async function convertToInteractive(key) {\n",
              "        const element = document.querySelector('#df-87a0beda-fafb-49b2-ac78-9b3f8d283cf1');\n",
              "        const dataTable =\n",
              "          await google.colab.kernel.invokeFunction('convertToInteractive',\n",
              "                                                    [key], {});\n",
              "        if (!dataTable) return;\n",
              "\n",
              "        const docLinkHtml = 'Like what you see? Visit the ' +\n",
              "          '<a target=\"_blank\" href=https://colab.research.google.com/notebooks/data_table.ipynb>data table notebook</a>'\n",
              "          + ' to learn more about interactive tables.';\n",
              "        element.innerHTML = '';\n",
              "        dataTable['output_type'] = 'display_data';\n",
              "        await google.colab.output.renderOutput(dataTable, element);\n",
              "        const docLink = document.createElement('div');\n",
              "        docLink.innerHTML = docLinkHtml;\n",
              "        element.appendChild(docLink);\n",
              "      }\n",
              "    </script>\n",
              "  </div>\n",
              "\n",
              "\n",
              "<div id=\"df-c3b2be97-8232-4659-b8e9-df48da837b2f\">\n",
              "  <button class=\"colab-df-quickchart\" onclick=\"quickchart('df-c3b2be97-8232-4659-b8e9-df48da837b2f')\"\n",
              "            title=\"Suggest charts\"\n",
              "            style=\"display:none;\">\n",
              "\n",
              "<svg xmlns=\"http://www.w3.org/2000/svg\" height=\"24px\"viewBox=\"0 0 24 24\"\n",
              "     width=\"24px\">\n",
              "    <g>\n",
              "        <path d=\"M19 3H5c-1.1 0-2 .9-2 2v14c0 1.1.9 2 2 2h14c1.1 0 2-.9 2-2V5c0-1.1-.9-2-2-2zM9 17H7v-7h2v7zm4 0h-2V7h2v10zm4 0h-2v-4h2v4z\"/>\n",
              "    </g>\n",
              "</svg>\n",
              "  </button>\n",
              "\n",
              "<style>\n",
              "  .colab-df-quickchart {\n",
              "      --bg-color: #E8F0FE;\n",
              "      --fill-color: #1967D2;\n",
              "      --hover-bg-color: #E2EBFA;\n",
              "      --hover-fill-color: #174EA6;\n",
              "      --disabled-fill-color: #AAA;\n",
              "      --disabled-bg-color: #DDD;\n",
              "  }\n",
              "\n",
              "  [theme=dark] .colab-df-quickchart {\n",
              "      --bg-color: #3B4455;\n",
              "      --fill-color: #D2E3FC;\n",
              "      --hover-bg-color: #434B5C;\n",
              "      --hover-fill-color: #FFFFFF;\n",
              "      --disabled-bg-color: #3B4455;\n",
              "      --disabled-fill-color: #666;\n",
              "  }\n",
              "\n",
              "  .colab-df-quickchart {\n",
              "    background-color: var(--bg-color);\n",
              "    border: none;\n",
              "    border-radius: 50%;\n",
              "    cursor: pointer;\n",
              "    display: none;\n",
              "    fill: var(--fill-color);\n",
              "    height: 32px;\n",
              "    padding: 0;\n",
              "    width: 32px;\n",
              "  }\n",
              "\n",
              "  .colab-df-quickchart:hover {\n",
              "    background-color: var(--hover-bg-color);\n",
              "    box-shadow: 0 1px 2px rgba(60, 64, 67, 0.3), 0 1px 3px 1px rgba(60, 64, 67, 0.15);\n",
              "    fill: var(--button-hover-fill-color);\n",
              "  }\n",
              "\n",
              "  .colab-df-quickchart-complete:disabled,\n",
              "  .colab-df-quickchart-complete:disabled:hover {\n",
              "    background-color: var(--disabled-bg-color);\n",
              "    fill: var(--disabled-fill-color);\n",
              "    box-shadow: none;\n",
              "  }\n",
              "\n",
              "  .colab-df-spinner {\n",
              "    border: 2px solid var(--fill-color);\n",
              "    border-color: transparent;\n",
              "    border-bottom-color: var(--fill-color);\n",
              "    animation:\n",
              "      spin 1s steps(1) infinite;\n",
              "  }\n",
              "\n",
              "  @keyframes spin {\n",
              "    0% {\n",
              "      border-color: transparent;\n",
              "      border-bottom-color: var(--fill-color);\n",
              "      border-left-color: var(--fill-color);\n",
              "    }\n",
              "    20% {\n",
              "      border-color: transparent;\n",
              "      border-left-color: var(--fill-color);\n",
              "      border-top-color: var(--fill-color);\n",
              "    }\n",
              "    30% {\n",
              "      border-color: transparent;\n",
              "      border-left-color: var(--fill-color);\n",
              "      border-top-color: var(--fill-color);\n",
              "      border-right-color: var(--fill-color);\n",
              "    }\n",
              "    40% {\n",
              "      border-color: transparent;\n",
              "      border-right-color: var(--fill-color);\n",
              "      border-top-color: var(--fill-color);\n",
              "    }\n",
              "    60% {\n",
              "      border-color: transparent;\n",
              "      border-right-color: var(--fill-color);\n",
              "    }\n",
              "    80% {\n",
              "      border-color: transparent;\n",
              "      border-right-color: var(--fill-color);\n",
              "      border-bottom-color: var(--fill-color);\n",
              "    }\n",
              "    90% {\n",
              "      border-color: transparent;\n",
              "      border-bottom-color: var(--fill-color);\n",
              "    }\n",
              "  }\n",
              "</style>\n",
              "\n",
              "  <script>\n",
              "    async function quickchart(key) {\n",
              "      const quickchartButtonEl =\n",
              "        document.querySelector('#' + key + ' button');\n",
              "      quickchartButtonEl.disabled = true;  // To prevent multiple clicks.\n",
              "      quickchartButtonEl.classList.add('colab-df-spinner');\n",
              "      try {\n",
              "        const charts = await google.colab.kernel.invokeFunction(\n",
              "            'suggestCharts', [key], {});\n",
              "      } catch (error) {\n",
              "        console.error('Error during call to suggestCharts:', error);\n",
              "      }\n",
              "      quickchartButtonEl.classList.remove('colab-df-spinner');\n",
              "      quickchartButtonEl.classList.add('colab-df-quickchart-complete');\n",
              "    }\n",
              "    (() => {\n",
              "      let quickchartButtonEl =\n",
              "        document.querySelector('#df-c3b2be97-8232-4659-b8e9-df48da837b2f button');\n",
              "      quickchartButtonEl.style.display =\n",
              "        google.colab.kernel.accessAllowed ? 'block' : 'none';\n",
              "    })();\n",
              "  </script>\n",
              "</div>\n",
              "\n",
              "    </div>\n",
              "  </div>\n"
            ],
            "application/vnd.google.colaboratory.intrinsic+json": {
              "type": "dataframe",
              "variable_name": "df",
              "summary": "{\n  \"name\": \"df\",\n  \"rows\": 44897,\n  \"fields\": [\n    {\n      \"column\": \"subject\",\n      \"properties\": {\n        \"dtype\": \"category\",\n        \"num_unique_values\": 8,\n        \"samples\": [\n          \"worldnews\",\n          \"left-news\",\n          \"politicsNews\"\n        ],\n        \"semantic_type\": \"\",\n        \"description\": \"\"\n      }\n    },\n    {\n      \"column\": \"date\",\n      \"properties\": {\n        \"dtype\": \"category\",\n        \"num_unique_values\": 2397,\n        \"samples\": [\n          \"October 12, 2016 \",\n          \"June 16, 2017 \",\n          \"Oct 30, 2017\"\n        ],\n        \"semantic_type\": \"\",\n        \"description\": \"\"\n      }\n    },\n    {\n      \"column\": \"updated_text\",\n      \"properties\": {\n        \"dtype\": \"string\",\n        \"num_unique_values\": 39103,\n        \"samples\": [\n          \"U.S. Supreme Court to hear Ohio's bid to revive voter purge policy  The U.S. Supreme Court on Tuesday agreed to hear Ohio\\u2019s appeal of a lower court ruling that blocked the Republican-led state\\u2019s policy of purging people from voter-registration lists if they do not regularly cast ballots because it violated federal law. Civil liberties advocates who challenged Ohio\\u2019s policy said it illegally erased voters from registration rolls and unlawfully disenfranchised minorities and poor people who tend to back Democratic candidates. The justices will review a U.S. appeals court ruling that Ohio\\u2019s policy ran afoul of a 1993 law called the National Voter Registration Act, which Congress passed to make it easier for Americans to register to vote. A Reuters analysis last year found that in Ohio\\u2019s three largest counties, which include Cleveland, Cincinnati and Columbus, voters were struck from the rolls in Democratic-leaning neighborhoods at roughly twice the rate as in Republican neighborhoods under the policy. Ohio officials argued that canceling registrations for voters deemed inactive for six years helped keep voting rolls current and accurate, clearing out those who have moved away or died. In September 2016, ahead of the U.S. presidential election, the 6th U.S. Circuit Court of Appeals in Cincinnati ruled that the policy was unlawful. Democrats have accused Republicans of taking steps at the state level, including laws imposing new requirements on voters such as presenting certain types of government-issued identification, intended to suppress the vote of minorities, the poor and others who generally favor Democratic candidates. The American Civil Liberties Union last year sued Ohio Republican Secretary of State Jon Husted, arguing that the state was violating the National Voter Registration Act, which prohibits states from striking registered voters \\u201cby reason of the person\\u2019s failure to vote.\\u201d The 6th Circuit agreed. Under Ohio\\u2019s policy, if registered voters miss voting for two years, they are sent registration confirmation notices. If they do not respond and do not vote over the following four years, they are removed from the rolls. Husted has said Ohio\\u2019s policy has been in place since the 1990s under both Republican and Democratic secretaries of state. The suit said the policy led to the removal of tens of thousands of people from the voter rolls in 2015, including one of the lead plaintiffs, Larry Harmon, a software engineer and U.S. Navy veteran who was blocked from voting in a state marijuana initiative in 2015.  Republican Donald Trump won Ohio in last November\\u2019s presidential election. The National Voter Registration Act, dubbed the \\u201cMotor-Voter\\u201d law when it was enacted, required states to permit registration by mail or when eligible people apply for or renew a driver\\u2019s license, or visiting certain government agencies or military recruiting offices. (Corrects spelling of first name of Ohio secretary of state Husted in 6th paragraph, Jon instead of John.) \",\n          \"EU questions Russia's 2018 vote after Navalny decision  The Russian authorities  decision to bar opposition leader Alexei Navalny from running in next year s presidential election raises questions about the vote, the European Union s foreign service said in a statement on Tuesday. The central election commission said on Monday Navalny was not eligible to run in the March 18 election due to a suspended prison sentence. He has repeatedly denied any wrongdoing and says the case is politically motivated. The decision  casts a serious doubt on political pluralism in Russia and the prospect of democratic elections next year,  the EU s External Action Service, or EEAS, said in a statement.  Politically-motivated charges should not be used against political participation,  the EEAS said. It urged the Russian authorities  to ensure that there is a level playing field  in the presidential vote in March and in all other votes.    The EEAS said that Navalny was denied the right to a fair trial in his prosecution in 2013, according to the European Court of Human Rights, to which Russia is a signatory. Polls show President Vladimir Putin is on course to be comfortably re-elected, meaning he could remain in power until2024. Navalny has been jailed three times this year and charged with breaking the law by organizing public meetings and rallies. The European External Action Service (EEAS), set up in 2009, runs a network of diplomats around the globe, drafts policy papers for EU foreign ministers and is led by the EU s top diplomat Federica Mogherini, who visited Moscow in April this year.      \",\n          \"U.S. secretary of state to make first trip to Asia  U.S. Secretary of State Rex Tillerson will make his first trip to Asia next week and meet with senior officials to discuss North Korea\\u2019s recent missile tests and U.S. economic and security interests in the region. He will arrive in Japan on March 15, continue on to South Korea on March 17 and visit China from March 18-19. The trip comes after Pyongyang\\u2019s latest missile launches and the assassination in Malaysia of North Korean leader Kim Jong Un\\u2019s estranged half-brother have added urgency to the region\\u2019s security situation. U.S. President Donald Trump faces a growing test of resolve after vowing while campaigning to get tough on North Korea. Trump\\u2019s aides are pressing to complete a strategy review on how to counter Pyongyang\\u2019s missile and nuclear threats. Trump has attacked China on issues ranging from trade to the South China Sea and what he perceives as China\\u2019s lack of interest in reining in nuclear-armed North Korea. Last month, Trump held his first face-to-face talks with a member of the Chinese leadership, top diplomat Yang Jiechi who outranks Foreign Minister Wang Yi, and the White House said it was a chance to discuss shared security interests and a possible meeting with President Xi Jinping. Wang and Tillerson met last month in Germany on the sidelines of a meeting of foreign ministers of the G20 top economies. \\u201cI think that Secretary of State Tillerson is a person who is willing to listen and is a deep communicator,\\u201d Wang said at his annual news conference in Beijing on Wednesday, on the sidelines of China\\u2019s parliament.  \\u201cI believe we can establish a good working relationship,\\u201d he added. \"\n        ],\n        \"semantic_type\": \"\",\n        \"description\": \"\"\n      }\n    },\n    {\n      \"column\": \"text\",\n      \"properties\": {\n        \"dtype\": \"string\",\n        \"num_unique_values\": 38832,\n        \"samples\": [\n          \"north korea diplomat says take atmospheric nuclear test threat literally the recent warning from north korea s foreign minister of a possible atmospheric nuclear test over the pacific ocean should be taken literally a senior north korean official told cnn in an interview aired on wednesday the foreign minister is very well aware of the intentions of our supreme leader so i think you should take his words literally ri yong pil a senior diplomat in north korea s foreign ministry told cnn north korean foreign minister ri yong ho said last month pyongyang may consider conducting the most powerful detonation of a hydrogen bomb over the pacific ocean amid rising tensions with the united states the minister made the comment after president donald trump warned that north korea which has been working to develop nuclear tipped missiles capable of hitting the united states would be totally destroyed if it threatened america cia chief mike pompeo said last week that north korea could be only months away from gaining the ability to hit the united states with nuclear weapons experts say an atmospheric test would be a way of demonstrating that capability all of north korea s previous nuclear tests have been conducted underground trump next week will make a visit to asia during which he will highlight his campaign to pressure north korea to give up its nuclear and missile programs despite the bellicose rhetoric white house officials say trump is looking for a peaceful resolution of the standoff but all options including military ones are on the table the u s navy said on wednesday a third aircraft carrier strike group was now sailing in the asia pacific region joining two other carriers the ronald reagan and theodore roosevelt navy officials said the nimitz which was previously carrying out operations in support of the fight against islamic state in iraq and syria would be ready to support operations in the region before heading back to its home port it said the movement had been long planned a leading south korea opposition figure hong jun pyo head of the conservative liberty korea party told reuters in washington on wednesday he backed trump s tough stance hong said he had met with members of congress and the administration and told them a majority of south koreans wanted u s tactical nuclear weapons which were withdrawn from the korean peninsula in 1992 returned or for south korea to develop a nuclear capability of its own the only way to deal with the situation is by having a nuclear balance between the north and the south said hong the runner up in south korea s 2017 presidential election reintroducing nuclear weapons remains unlikely not least because it would undermine demands from seoul and washington for north korea to abandon its nuclear programs trump spoke during his election campaign about the possibility of south korea and japan acquiring nuclear weapons but administration officials have played down the remarks and given no indication of any plan to redeploy tactical weapons on wednesday trump was asked whether he would visit the tense demilitarized zone dividing north and south korea during his asia tour and responded enigmatically i d rather not say but you ll be surprised he told reporters\",\n          \"senators reach deal to help state water programs after flint u s senators unveiled legislation on wednesday providing federal aid to help states fix water infrastructure in the wake of flint michigan s crisis over lead tainted drinking water senators james inhofe an oklahoma republican and debbie stabenow a michigan democrat and others introduced the measure providing dollar 100 million to a revolving fund states can tap if they have drinking water problems the funding in the agreement is paid for by cuts from the advanced technology vehicles manufacturing loans for auto companies aimed to speed development of electric cars and other technologies inhofe called it a failed program that hasn t been used in more than a year and has only issued five loans since 2008 it was unclear whether the measure would be attached to a wide ranging energy bill that failed to advance early this month or whether the senators would try to pass it as a separate bill under the plan states must first explain how the money would be spent according to details of the agreement if they do not use the aid in 18 months it would return to the federal government this is not a blank check according to a document explaining the deal thousands of children in flint a predominantly african american city of 100 000 are believed to have consumed dangerous amounts of lead in drinking water after a state appointed emergency manager directed the city to switch from detroit s drinking water supply to the flint river lead is a neurotoxin that can harm brain development in children under the deal flint and the states would also have access to dollar 70 million in a credit subsidy under a federal program called the water infrastructure finance and innovation authority or wifia congress conceived the wifia to help lower borrowing costs for municipal water projects the federal program acts as a loan guarantee rather than a grant and is aimed at bringing borrowing costs in line with u s government bond rates some critics say local governments need direct federal aid not borrowing support to improve infrastructure there would also be dollar 50 million in aid available for national use for a childhood lead poisoning prevention program a health registry and other items earlier this month michigan lawmakers had at first opposed getting funding from the advanced vehicles program saying it would hurt auto workers\",\n          \"puerto rico creditors trade barbs over debt freeze bill puerto rico s house of representatives on tuesday debated a bill to halt debt payments while a government official fired back at creditors who suggested the u s territory was shirking efforts to hold restructuring talks burdened by a dollar 70 billion debt load it says it cannot pay and a 45 percent poverty rate that has led to a steady exodus of its american citizens to the mainland puerto rico faces economic collapse without a solution that either changes laws and or involves an agreement with creditors the next key date is may 1 when the government development bank the island s primary fiscal agent is due to pay creditors dollar 422 million the island s senate passed an emergency bill early on tuesday that would alter gdb s structure as well as allow governor alejandro garcia padilla to declare a moratorium on any debt payment he deems necessary the house was expected to vote on the bill on tuesday a group of puerto rico s general obligation bondholders criticized the bill it is no coincidence that the governor has abruptly sought overnight adoption of debt moratorium legislation at the very moment large general obligation bondholders were arriving on the island to pursue a consensual restructuring the creditors said in a statement on tuesday that group holding about dollar 5 billion debt then released a proposed restructuring plan that would defer principal repayments and offer new debt a plan they say would save puerto rico from default gdb president melba acosta disputed the notion that officials were blowing off creditors saying puerto rico held meetings with creditors in march presenting updated restructuring proposals we have not received an actionable binding financing commitment from anyone and we have received no offers that would lead puerto rico towards a stable and prosperous economy for years to come acosta said in a statement to reuters we sincerely hope that the proposals that the advisers to our go holders speak of are not a public relations stunt that attempts to mislead the public and distract leaders in congress from the real work at hand she added gdb is also holding consensual restructuring talks with its own creditors legislative efforts in the u s congress to fix puerto rico s debt problem are not likely to come to fruition before the gdb s may 1 debt payment on monday some gdb creditors sued to try to prevent a run on the bank as negotiations play out asking a court to bar the gdb from paying certain creditors and preventing depositors from withdrawing money a source close to the matter told reuters some government agencies were planning to open new accounts at other banks but denied those agencies were removing money from the gdb\"\n        ],\n        \"semantic_type\": \"\",\n        \"description\": \"\"\n      }\n    },\n    {\n      \"column\": \"class\",\n      \"properties\": {\n        \"dtype\": \"number\",\n        \"std\": 0,\n        \"min\": 0,\n        \"max\": 1,\n        \"num_unique_values\": 2,\n        \"samples\": [\n          0,\n          1\n        ],\n        \"semantic_type\": \"\",\n        \"description\": \"\"\n      }\n    }\n  ]\n}"
            }
          },
          "metadata": {},
          "execution_count": 50
        }
      ]
    },
    {
      "cell_type": "code",
      "source": [
        "import gensim"
      ],
      "metadata": {
        "id": "o7yM8XvIogkg"
      },
      "execution_count": null,
      "outputs": []
    },
    {
      "cell_type": "code",
      "source": [
        "y = df['class'].values"
      ],
      "metadata": {
        "id": "2yiw_jDmogqY"
      },
      "execution_count": null,
      "outputs": []
    },
    {
      "cell_type": "code",
      "source": [
        "X = [d.split() for d in df['text'].tolist()]"
      ],
      "metadata": {
        "id": "aKwx5kq-ogtO"
      },
      "execution_count": null,
      "outputs": []
    },
    {
      "cell_type": "code",
      "source": [
        "type(X[0])"
      ],
      "metadata": {
        "colab": {
          "base_uri": "https://localhost:8080/"
        },
        "id": "Th7XT29Cogv-",
        "outputId": "5e24781d-108e-4618-cb6b-78ad1870b9bb"
      },
      "execution_count": null,
      "outputs": [
        {
          "output_type": "execute_result",
          "data": {
            "text/plain": [
              "list"
            ]
          },
          "metadata": {},
          "execution_count": 54
        }
      ]
    },
    {
      "cell_type": "code",
      "source": [
        "# Using with pre-trained weights as it was trained on Google News corpus conisisting of 3 Billion words\n",
        "\n",
        "DIM = 100 # Dimension of the array\n",
        "\n",
        "w2v_model = gensim.models.Word2Vec(sentences=X, vector_size=DIM, window=5, min_count=1) # Default will be Skip - gram"
      ],
      "metadata": {
        "id": "8tPGzIwyog1U"
      },
      "execution_count": null,
      "outputs": []
    },
    {
      "cell_type": "code",
      "source": [
        "vocab_length = len(w2v_model.wv.index_to_key)\n",
        "print(\"Vocabulary Length:\", vocab_length)"
      ],
      "metadata": {
        "colab": {
          "base_uri": "https://localhost:8080/"
        },
        "id": "4iJ9oOF7og39",
        "outputId": "eda454ea-e460-48a8-a59d-e196d33435f7"
      },
      "execution_count": null,
      "outputs": [
        {
          "output_type": "stream",
          "name": "stdout",
          "text": [
            "Vocabulary Length: 122715\n"
          ]
        }
      ]
    },
    {
      "cell_type": "code",
      "source": [
        "w2v_model.wv['washington']"
      ],
      "metadata": {
        "colab": {
          "base_uri": "https://localhost:8080/"
        },
        "id": "-3kyJkNbog6I",
        "outputId": "03cf1de2-1395-4425-cfe2-5a810d3ee064"
      },
      "execution_count": null,
      "outputs": [
        {
          "output_type": "execute_result",
          "data": {
            "text/plain": [
              "array([-0.54637545, -1.6166438 ,  1.0505251 ,  1.0428226 , -1.7506965 ,\n",
              "       -1.8117579 , -2.1898348 ,  1.5671427 ,  1.7442405 , -1.5209167 ,\n",
              "        0.6472926 , -0.51448804,  2.6497016 ,  0.2930685 , -1.399796  ,\n",
              "       -0.89239264,  1.0702901 , -0.42314693, -1.5334283 ,  0.07240023,\n",
              "        1.7841476 , -0.60025316,  1.5493277 ,  0.85500705, -0.4940326 ,\n",
              "        0.12262058, -4.7175765 ,  1.9880995 , -1.1781857 ,  1.7481121 ,\n",
              "       -1.7244136 ,  1.3736153 ,  1.4384326 ,  0.9557826 , -1.1522621 ,\n",
              "       -1.0358543 ,  1.100567  , -0.99063134,  0.12771384, -0.09699869,\n",
              "       -2.2092054 , -0.535556  ,  0.906379  ,  0.10354762, -2.3297474 ,\n",
              "        0.7099995 ,  2.057089  ,  0.51967186, -0.5350823 , -1.0225661 ,\n",
              "        0.43334952,  0.77433205,  2.4668946 ,  0.15667935, -1.005102  ,\n",
              "       -1.2661558 , -1.4450758 ,  3.1160884 ,  2.256154  , -1.5884383 ,\n",
              "        0.09718511,  1.2427568 , -0.848662  , -1.3715541 ,  1.4875505 ,\n",
              "       -1.614575  ,  0.07595266, -0.71454793, -0.5571151 , -1.3964882 ,\n",
              "       -0.22886747, -0.88453853, -1.1462841 ,  1.5842794 ,  1.3269967 ,\n",
              "        0.38924733, -0.3103039 , -0.68122387,  0.8718392 , -1.6951029 ,\n",
              "        0.8213755 ,  2.7666576 ,  0.973996  ,  0.9632971 ,  2.2980566 ,\n",
              "        3.0277352 , -1.1090211 , -0.01927842,  0.52709293,  0.6907359 ,\n",
              "        0.67112035,  1.6044012 , -2.728454  ,  1.2928336 , -0.8516868 ,\n",
              "        2.3909233 ,  0.6037097 , -0.37011817, -3.0011399 ,  1.7705268 ],\n",
              "      dtype=float32)"
            ]
          },
          "metadata": {},
          "execution_count": 58
        }
      ]
    },
    {
      "cell_type": "code",
      "source": [
        "w2v_model.wv['trump']"
      ],
      "metadata": {
        "colab": {
          "base_uri": "https://localhost:8080/"
        },
        "id": "vZRA0p44mt64",
        "outputId": "2b41fc81-59f2-4279-8579-f0d33e2b632f"
      },
      "execution_count": null,
      "outputs": [
        {
          "output_type": "execute_result",
          "data": {
            "text/plain": [
              "array([ 3.0208871 , -0.78864473, -0.42939162,  1.8237394 , -2.982392  ,\n",
              "        0.6606802 , -0.19857587, -1.269644  , -1.029483  , -2.0072255 ,\n",
              "        0.86620003,  1.7946308 ,  1.4278979 ,  0.7412043 ,  3.6057723 ,\n",
              "        0.02400629,  0.14386484, -3.0031464 , -2.0613782 ,  1.4074857 ,\n",
              "       -2.5072615 ,  1.1083233 ,  2.474048  , -0.4609602 , -2.9468782 ,\n",
              "       -1.3080229 , -4.4715595 ,  3.5292103 , -1.9944957 , -1.5248008 ,\n",
              "       -1.1463209 ,  3.3652315 , -2.1968164 ,  2.3241303 ,  2.897852  ,\n",
              "       -1.3941256 ,  0.5794805 , -0.87520033, -1.2565125 , -2.4374564 ,\n",
              "       -3.0319445 ,  3.1763127 ,  0.76109314,  2.0196393 , -0.78442436,\n",
              "       -2.0497441 ,  0.4292221 ,  2.2585156 ,  0.1701785 ,  1.3580271 ,\n",
              "       -1.1970946 ,  0.6250722 ,  1.0418944 ,  1.8878838 ,  0.38917175,\n",
              "        1.405387  , -0.55313015,  4.09149   ,  0.6941787 ,  0.73774564,\n",
              "       -2.5993586 , -2.542402  , -1.366994  , -0.11696842, -0.9234057 ,\n",
              "        2.0585454 ,  1.5440196 , -0.655317  , -1.843964  , -2.2495234 ,\n",
              "        3.1625304 ,  1.6185142 ,  0.44634765,  0.83735025,  1.8023101 ,\n",
              "        2.6446662 , -2.775786  , -0.26244625,  2.6154528 ,  0.06368976,\n",
              "       -0.8508119 ,  2.6946247 ,  0.49417207, -1.6105891 ,  2.1244376 ,\n",
              "        0.14598289, -1.1409142 , -1.448974  , -0.91042686,  3.2087066 ,\n",
              "       -0.4162848 , -2.1228192 , -3.9311123 ,  0.35543296,  0.66850406,\n",
              "       -1.5600333 , -2.4459078 , -0.16274107, -2.3191142 ,  0.61135894],\n",
              "      dtype=float32)"
            ]
          },
          "metadata": {},
          "execution_count": 59
        }
      ]
    },
    {
      "cell_type": "code",
      "source": [
        "w2v_model.wv.most_similar('trump')"
      ],
      "metadata": {
        "colab": {
          "base_uri": "https://localhost:8080/"
        },
        "id": "SNxLMkIamt9g",
        "outputId": "1ad2f9c7-b1c9-4a47-c833-efaec0a02e68"
      },
      "execution_count": null,
      "outputs": [
        {
          "output_type": "execute_result",
          "data": {
            "text/plain": [
              "[('he', 0.6120004057884216),\n",
              " ('obama', 0.5894643664360046),\n",
              " ('cruz', 0.578680157661438),\n",
              " ('him', 0.559137761592865),\n",
              " ('maduro', 0.5439544320106506),\n",
              " ('duterte', 0.5382575392723083),\n",
              " ('christie', 0.5361543893814087),\n",
              " ('macron', 0.5322456359863281),\n",
              " ('his', 0.5246146321296692),\n",
              " ('rubio', 0.5240269899368286)]"
            ]
          },
          "metadata": {},
          "execution_count": 60
        }
      ]
    },
    {
      "cell_type": "code",
      "source": [
        "w2v_model.wv.most_similar('india')"
      ],
      "metadata": {
        "colab": {
          "base_uri": "https://localhost:8080/"
        },
        "id": "lS34kqpxtXig",
        "outputId": "1bff09a4-eb1c-4f2f-c055-3966208f8a9a"
      },
      "execution_count": null,
      "outputs": [
        {
          "output_type": "execute_result",
          "data": {
            "text/plain": [
              "[('pakistan', 0.7485405802726746),\n",
              " ('china', 0.7272327542304993),\n",
              " ('japan', 0.7159072160720825),\n",
              " ('malaysia', 0.7090864181518555),\n",
              " ('australia', 0.6727469563484192),\n",
              " ('canada', 0.6578260064125061),\n",
              " ('thailand', 0.6421573758125305),\n",
              " ('egypt', 0.6410444974899292),\n",
              " ('singapore', 0.6364646553993225),\n",
              " ('tunisia', 0.6250486373901367)]"
            ]
          },
          "metadata": {},
          "execution_count": 61
        }
      ]
    },
    {
      "cell_type": "code",
      "source": [
        "w2v_model.wv.most_similar('modi')"
      ],
      "metadata": {
        "colab": {
          "base_uri": "https://localhost:8080/"
        },
        "id": "P3BDbH8TtXlU",
        "outputId": "b165ac05-f2db-4854-c3bc-d0378ec3d78c"
      },
      "execution_count": null,
      "outputs": [
        {
          "output_type": "execute_result",
          "data": {
            "text/plain": [
              "[('narendra', 0.6786145567893982),\n",
              " ('abe', 0.6282283067703247),\n",
              " ('turnbull', 0.6277570724487305),\n",
              " ('trudeau', 0.611312985420227),\n",
              " ('najib', 0.5938245058059692),\n",
              " ('renzi', 0.5670515298843384),\n",
              " ('beijing', 0.5498226881027222),\n",
              " ('tokyo', 0.5365942716598511),\n",
              " ('schaeuble', 0.5323145389556885),\n",
              " ('orban', 0.5310972332954407)]"
            ]
          },
          "metadata": {},
          "execution_count": 62
        }
      ]
    },
    {
      "cell_type": "code",
      "source": [
        "tokenizer = Tokenizer()\n",
        "tokenizer.fit_on_texts(X)"
      ],
      "metadata": {
        "id": "XsJHKrGrtXn6"
      },
      "execution_count": null,
      "outputs": []
    },
    {
      "cell_type": "code",
      "source": [
        "X = tokenizer.texts_to_sequences(X)"
      ],
      "metadata": {
        "id": "T9Yuyh97tXqj"
      },
      "execution_count": null,
      "outputs": []
    },
    {
      "cell_type": "code",
      "source": [
        "tokenizer.word_index"
      ],
      "metadata": {
        "colab": {
          "base_uri": "https://localhost:8080/"
        },
        "id": "przvCYn-tXvc",
        "outputId": "5eb4eb92-6f61-4647-bae8-08bd643dcdb9"
      },
      "execution_count": null,
      "outputs": [
        {
          "output_type": "execute_result",
          "data": {
            "text/plain": [
              "{'the': 1,\n",
              " 'to': 2,\n",
              " 'of': 3,\n",
              " 'a': 4,\n",
              " 'and': 5,\n",
              " 'in': 6,\n",
              " 's': 7,\n",
              " 'that': 8,\n",
              " 'on': 9,\n",
              " 'for': 10,\n",
              " 'is': 11,\n",
              " 'trump': 12,\n",
              " 'he': 13,\n",
              " 'it': 14,\n",
              " 'said': 15,\n",
              " 'with': 16,\n",
              " 'was': 17,\n",
              " 'as': 18,\n",
              " 'at': 19,\n",
              " 'his': 20,\n",
              " 'by': 21,\n",
              " 'has': 22,\n",
              " 'be': 23,\n",
              " 'not': 24,\n",
              " 'have': 25,\n",
              " 'from': 26,\n",
              " 'this': 27,\n",
              " 'are': 28,\n",
              " 'who': 29,\n",
              " 'they': 30,\n",
              " 'an': 31,\n",
              " 'i': 32,\n",
              " 'we': 33,\n",
              " 'but': 34,\n",
              " 'u': 35,\n",
              " 'president': 36,\n",
              " 'would': 37,\n",
              " 't': 38,\n",
              " 'about': 39,\n",
              " 'will': 40,\n",
              " 'you': 41,\n",
              " 'their': 42,\n",
              " 'had': 43,\n",
              " 'been': 44,\n",
              " 'people': 45,\n",
              " 'more': 46,\n",
              " 'were': 47,\n",
              " 'or': 48,\n",
              " 'after': 49,\n",
              " 'she': 50,\n",
              " 'one': 51,\n",
              " 'which': 52,\n",
              " 'her': 53,\n",
              " 'if': 54,\n",
              " 'out': 55,\n",
              " 'all': 56,\n",
              " 'state': 57,\n",
              " 'what': 58,\n",
              " 'when': 59,\n",
              " 'up': 60,\n",
              " 'new': 61,\n",
              " 'there': 62,\n",
              " 'obama': 63,\n",
              " 'also': 64,\n",
              " 'its': 65,\n",
              " 'no': 66,\n",
              " 'clinton': 67,\n",
              " 'over': 68,\n",
              " 'house': 69,\n",
              " 'donald': 70,\n",
              " 'so': 71,\n",
              " 'government': 72,\n",
              " 'our': 73,\n",
              " 'can': 74,\n",
              " 'states': 75,\n",
              " 'him': 76,\n",
              " 'republican': 77,\n",
              " 'just': 78,\n",
              " 'than': 79,\n",
              " 'year': 80,\n",
              " 'other': 81,\n",
              " 'some': 82,\n",
              " 'could': 83,\n",
              " 'white': 84,\n",
              " 'into': 85,\n",
              " 'told': 86,\n",
              " 'united': 87,\n",
              " 'like': 88,\n",
              " 'against': 89,\n",
              " 'do': 90,\n",
              " 'campaign': 91,\n",
              " 'them': 92,\n",
              " 'two': 93,\n",
              " 'election': 94,\n",
              " 'because': 95,\n",
              " 'time': 96,\n",
              " 'news': 97,\n",
              " 'dollar': 98,\n",
              " 'party': 99,\n",
              " 'now': 100,\n",
              " 'last': 101,\n",
              " 'any': 102,\n",
              " 'how': 103,\n",
              " 'first': 104,\n",
              " 'only': 105,\n",
              " 'hillary': 106,\n",
              " 'former': 107,\n",
              " 'while': 108,\n",
              " 'country': 109,\n",
              " 'even': 110,\n",
              " 'should': 111,\n",
              " 'being': 112,\n",
              " 'us': 113,\n",
              " 'during': 114,\n",
              " 'percent': 115,\n",
              " 'did': 116,\n",
              " 'before': 117,\n",
              " 'media': 118,\n",
              " 'years': 119,\n",
              " 'many': 120,\n",
              " 'american': 121,\n",
              " 're': 122,\n",
              " 'security': 123,\n",
              " 'most': 124,\n",
              " 'law': 125,\n",
              " 'may': 126,\n",
              " 'police': 127,\n",
              " 'court': 128,\n",
              " 'say': 129,\n",
              " 'made': 130,\n",
              " 'national': 131,\n",
              " 'political': 132,\n",
              " 'get': 133,\n",
              " 'russia': 134,\n",
              " 'right': 135,\n",
              " 'video': 136,\n",
              " 'make': 137,\n",
              " 'those': 138,\n",
              " 'republicans': 139,\n",
              " 'since': 140,\n",
              " 'twitter': 141,\n",
              " 'bill': 142,\n",
              " 'back': 143,\n",
              " 'where': 144,\n",
              " 'going': 145,\n",
              " 'america': 146,\n",
              " 'here': 147,\n",
              " 'administration': 148,\n",
              " 'under': 149,\n",
              " 'according': 150,\n",
              " 'these': 151,\n",
              " 'presidential': 152,\n",
              " 'very': 153,\n",
              " 'says': 154,\n",
              " 'then': 155,\n",
              " 'senate': 156,\n",
              " 'vote': 157,\n",
              " 'week': 158,\n",
              " 'north': 159,\n",
              " 'down': 160,\n",
              " 'democratic': 161,\n",
              " 'don': 162,\n",
              " 'support': 163,\n",
              " 'called': 164,\n",
              " 'via': 165,\n",
              " 'group': 166,\n",
              " 'way': 167,\n",
              " 'between': 168,\n",
              " 'know': 169,\n",
              " 'think': 170,\n",
              " 'officials': 171,\n",
              " 'including': 172,\n",
              " 'world': 173,\n",
              " 'office': 174,\n",
              " 'take': 175,\n",
              " 'well': 176,\n",
              " 'public': 177,\n",
              " 'military': 178,\n",
              " 'foreign': 179,\n",
              " 'my': 180,\n",
              " 'federal': 181,\n",
              " 'million': 182,\n",
              " 'washington': 183,\n",
              " 'department': 184,\n",
              " 'such': 185,\n",
              " 'day': 186,\n",
              " 'statement': 187,\n",
              " 'tax': 188,\n",
              " 'want': 189,\n",
              " 'saying': 190,\n",
              " 'russian': 191,\n",
              " 'see': 192,\n",
              " 'china': 193,\n",
              " 'tuesday': 194,\n",
              " 'congress': 195,\n",
              " 'still': 196,\n",
              " 'women': 197,\n",
              " 'much': 198,\n",
              " 'both': 199,\n",
              " 'image': 200,\n",
              " 'another': 201,\n",
              " '2016': 202,\n",
              " 'democrats': 203,\n",
              " '1': 204,\n",
              " 'your': 205,\n",
              " 'go': 206,\n",
              " 'off': 207,\n",
              " 'war': 208,\n",
              " 'part': 209,\n",
              " 'wednesday': 210,\n",
              " 'minister': 211,\n",
              " 'work': 212,\n",
              " 'through': 213,\n",
              " 'policy': 214,\n",
              " 'friday': 215,\n",
              " 'thursday': 216,\n",
              " 'three': 217,\n",
              " 'americans': 218,\n",
              " 'black': 219,\n",
              " 'city': 220,\n",
              " 'asked': 221,\n",
              " 'secretary': 222,\n",
              " 'deal': 223,\n",
              " 'rights': 224,\n",
              " 'own': 225,\n",
              " 'why': 226,\n",
              " 'general': 227,\n",
              " 'monday': 228,\n",
              " 'committee': 229,\n",
              " 'long': 230,\n",
              " 'korea': 231,\n",
              " 'official': 232,\n",
              " 'me': 233,\n",
              " 'next': 234,\n",
              " 'watch': 235,\n",
              " 'left': 236,\n",
              " 'help': 237,\n",
              " 'case': 238,\n",
              " 'need': 239,\n",
              " 'man': 240,\n",
              " 'show': 241,\n",
              " 'com': 242,\n",
              " 'senator': 243,\n",
              " 'leader': 244,\n",
              " 'whether': 245,\n",
              " 'm': 246,\n",
              " 'iran': 247,\n",
              " 'never': 248,\n",
              " 'same': 249,\n",
              " 'york': 250,\n",
              " 'does': 251,\n",
              " 'fbi': 252,\n",
              " 'around': 253,\n",
              " 'featured': 254,\n",
              " 'candidate': 255,\n",
              " 'reuters': 256,\n",
              " 'order': 257,\n",
              " 'report': 258,\n",
              " 'old': 259,\n",
              " 'members': 260,\n",
              " 'use': 261,\n",
              " 'good': 262,\n",
              " 'end': 263,\n",
              " 'anti': 264,\n",
              " 'power': 265,\n",
              " 'month': 266,\n",
              " 'meeting': 267,\n",
              " 'top': 268,\n",
              " 'every': 269,\n",
              " 'come': 270,\n",
              " 'times': 271,\n",
              " 'took': 272,\n",
              " 'attack': 273,\n",
              " 'investigation': 274,\n",
              " 'syria': 275,\n",
              " 'money': 276,\n",
              " 'intelligence': 277,\n",
              " 'without': 278,\n",
              " 'far': 279,\n",
              " 'used': 280,\n",
              " 'nuclear': 281,\n",
              " 'really': 282,\n",
              " 'justice': 283,\n",
              " 'countries': 284,\n",
              " 'post': 285,\n",
              " 'put': 286,\n",
              " 'change': 287,\n",
              " 'business': 288,\n",
              " '2': 289,\n",
              " 'trade': 290,\n",
              " 'voters': 291,\n",
              " 'family': 292,\n",
              " 'plan': 293,\n",
              " 'information': 294,\n",
              " 'reported': 295,\n",
              " 'speech': 296,\n",
              " 'decision': 297,\n",
              " 'south': 298,\n",
              " 'fact': 299,\n",
              " 'again': 300,\n",
              " 'chief': 301,\n",
              " 'leaders': 302,\n",
              " 'muslim': 303,\n",
              " 've': 304,\n",
              " 'story': 305,\n",
              " 'high': 306,\n",
              " 'interview': 307,\n",
              " 'days': 308,\n",
              " 'international': 309,\n",
              " 'too': 310,\n",
              " 'director': 311,\n",
              " 'already': 312,\n",
              " 'fox': 313,\n",
              " 'conservative': 314,\n",
              " 'several': 315,\n",
              " 'however': 316,\n",
              " 'groups': 317,\n",
              " 'won': 318,\n",
              " 'agency': 319,\n",
              " 'place': 320,\n",
              " 'immigration': 321,\n",
              " 'd': 322,\n",
              " 'border': 323,\n",
              " 'home': 324,\n",
              " 'health': 325,\n",
              " 'must': 326,\n",
              " 'call': 327,\n",
              " 'john': 328,\n",
              " 'sanders': 329,\n",
              " 'months': 330,\n",
              " 'nation': 331,\n",
              " 'something': 332,\n",
              " 'likely': 333,\n",
              " 'today': 334,\n",
              " 'supporters': 335,\n",
              " 'islamic': 336,\n",
              " 'clear': 337,\n",
              " 'press': 338,\n",
              " 'children': 339,\n",
              " 'didn': 340,\n",
              " 'social': 341,\n",
              " 'among': 342,\n",
              " 'free': 343,\n",
              " 'n': 344,\n",
              " 'billion': 345,\n",
              " 'program': 346,\n",
              " '5': 347,\n",
              " 'pic': 348,\n",
              " 'al': 349,\n",
              " 'act': 350,\n",
              " 'move': 351,\n",
              " 'believe': 352,\n",
              " 'barack': 353,\n",
              " 'issue': 354,\n",
              " 'doesn': 355,\n",
              " 'four': 356,\n",
              " 'sunday': 357,\n",
              " 'cnn': 358,\n",
              " '3': 359,\n",
              " 'control': 360,\n",
              " 'got': 361,\n",
              " 'major': 362,\n",
              " 'might': 363,\n",
              " 'things': 364,\n",
              " 'based': 365,\n",
              " 'eu': 366,\n",
              " 'great': 367,\n",
              " 'recent': 368,\n",
              " 'yet': 369,\n",
              " 'least': 370,\n",
              " 'came': 371,\n",
              " 'seen': 372,\n",
              " 'making': 373,\n",
              " 'matter': 374,\n",
              " 'killed': 375,\n",
              " 'found': 376,\n",
              " 'defense': 377,\n",
              " 'democrat': 378,\n",
              " 'win': 379,\n",
              " 'later': 380,\n",
              " 'co': 381,\n",
              " 'number': 382,\n",
              " 'member': 383,\n",
              " 'though': 384,\n",
              " 'let': 385,\n",
              " 'cruz': 386,\n",
              " 'working': 387,\n",
              " '10': 388,\n",
              " 'school': 389,\n",
              " 'trying': 390,\n",
              " 'attacks': 391,\n",
              " 'point': 392,\n",
              " 'reporters': 393,\n",
              " 'added': 394,\n",
              " 'stop': 395,\n",
              " 'real': 396,\n",
              " 'violence': 397,\n",
              " 'earlier': 398,\n",
              " 'march': 399,\n",
              " 'big': 400,\n",
              " '2017': 401,\n",
              " 'governor': 402,\n",
              " 'system': 403,\n",
              " 'economic': 404,\n",
              " 'himself': 405,\n",
              " 'run': 406,\n",
              " 'look': 407,\n",
              " 'spokesman': 408,\n",
              " 'little': 409,\n",
              " 'executive': 410,\n",
              " 'gun': 411,\n",
              " 'went': 412,\n",
              " 'keep': 413,\n",
              " 'become': 414,\n",
              " 'set': 415,\n",
              " 'ever': 416,\n",
              " 'known': 417,\n",
              " 'actually': 418,\n",
              " 'away': 419,\n",
              " '8': 420,\n",
              " 'give': 421,\n",
              " 'past': 422,\n",
              " 'thing': 423,\n",
              " 'until': 424,\n",
              " 'legal': 425,\n",
              " 'led': 426,\n",
              " 'senior': 427,\n",
              " 'held': 428,\n",
              " 'forces': 429,\n",
              " '4': 430,\n",
              " 'woman': 431,\n",
              " 'nothing': 432,\n",
              " 'life': 433,\n",
              " 'comment': 434,\n",
              " 'head': 435,\n",
              " 'doing': 436,\n",
              " 'january': 437,\n",
              " 'wall': 438,\n",
              " 'talks': 439,\n",
              " 'judge': 440,\n",
              " 'lawmakers': 441,\n",
              " 'illegal': 442,\n",
              " 'opposition': 443,\n",
              " 'majority': 444,\n",
              " 'nominee': 445,\n",
              " '2015': 446,\n",
              " 'european': 447,\n",
              " 'sanctions': 448,\n",
              " 'gop': 449,\n",
              " 'night': 450,\n",
              " 'action': 451,\n",
              " 'force': 452,\n",
              " 'human': 453,\n",
              " 'attorney': 454,\n",
              " 'few': 455,\n",
              " 'care': 456,\n",
              " 'july': 457,\n",
              " 'local': 458,\n",
              " 'issues': 459,\n",
              " 'taking': 460,\n",
              " 'face': 461,\n",
              " 'job': 462,\n",
              " 'reports': 463,\n",
              " 'following': 464,\n",
              " 'person': 465,\n",
              " 'company': 466,\n",
              " 'prime': 467,\n",
              " 'second': 468,\n",
              " 'possible': 469,\n",
              " 'once': 470,\n",
              " 'union': 471,\n",
              " '20': 472,\n",
              " 'pay': 473,\n",
              " 'team': 474,\n",
              " 'community': 475,\n",
              " 'companies': 476,\n",
              " 'men': 477,\n",
              " 'open': 478,\n",
              " 'released': 479,\n",
              " 'wants': 480,\n",
              " 'expected': 481,\n",
              " 'across': 482,\n",
              " 'supreme': 483,\n",
              " 'better': 484,\n",
              " 'history': 485,\n",
              " 'continue': 486,\n",
              " 'others': 487,\n",
              " 'source': 488,\n",
              " 'given': 489,\n",
              " 'enough': 490,\n",
              " 'wrote': 491,\n",
              " 'evidence': 492,\n",
              " 'race': 493,\n",
              " 'question': 494,\n",
              " 'mexico': 495,\n",
              " 'legislation': 496,\n",
              " 'ban': 497,\n",
              " 'response': 498,\n",
              " 'five': 499,\n",
              " 'images': 500,\n",
              " 'process': 501,\n",
              " 'll': 502,\n",
              " 'full': 503,\n",
              " 'putin': 504,\n",
              " 'read': 505,\n",
              " 'despite': 506,\n",
              " 'done': 507,\n",
              " 'debate': 508,\n",
              " 'saudi': 509,\n",
              " 'financial': 510,\n",
              " 'university': 511,\n",
              " 'november': 512,\n",
              " 'budget': 513,\n",
              " 'close': 514,\n",
              " 'taken': 515,\n",
              " 'air': 516,\n",
              " 'nations': 517,\n",
              " 'iraq': 518,\n",
              " 'fight': 519,\n",
              " 'refugees': 520,\n",
              " 'syrian': 521,\n",
              " 'course': 522,\n",
              " 'special': 523,\n",
              " 'important': 524,\n",
              " 'private': 525,\n",
              " 'june': 526,\n",
              " 'death': 527,\n",
              " 'plans': 528,\n",
              " 'anyone': 529,\n",
              " 'center': 530,\n",
              " 'having': 531,\n",
              " 'crisis': 532,\n",
              " 'ryan': 533,\n",
              " 'hard': 534,\n",
              " 'facebook': 535,\n",
              " 'mr': 536,\n",
              " 'lot': 537,\n",
              " 'staff': 538,\n",
              " 'saturday': 539,\n",
              " 'using': 540,\n",
              " 'https': 541,\n",
              " 'comey': 542,\n",
              " 'ago': 543,\n",
              " 'instead': 544,\n",
              " 'behind': 545,\n",
              " 'conference': 546,\n",
              " 'comments': 547,\n",
              " 'further': 548,\n",
              " 'realdonaldtrump': 549,\n",
              " 'best': 550,\n",
              " 'anything': 551,\n",
              " 'lives': 552,\n",
              " 'efforts': 553,\n",
              " 'email': 554,\n",
              " 'israel': 555,\n",
              " 'along': 556,\n",
              " '9': 557,\n",
              " 'future': 558,\n",
              " 'less': 559,\n",
              " 'accused': 560,\n",
              " 'able': 561,\n",
              " 'agreement': 562,\n",
              " 'lead': 563,\n",
              " 'early': 564,\n",
              " 'term': 565,\n",
              " 'region': 566,\n",
              " 'role': 567,\n",
              " 'britain': 568,\n",
              " 'find': 569,\n",
              " 'letter': 570,\n",
              " '6': 571,\n",
              " 'council': 572,\n",
              " 'texas': 573,\n",
              " 'jobs': 574,\n",
              " '11': 575,\n",
              " 'line': 576,\n",
              " '15': 577,\n",
              " 'getty': 578,\n",
              " 'within': 579,\n",
              " 'service': 580,\n",
              " 'comes': 581,\n",
              " 'someone': 582,\n",
              " 'sure': 583,\n",
              " 'visit': 584,\n",
              " 'civil': 585,\n",
              " 'name': 586,\n",
              " 'current': 587,\n",
              " 'live': 588,\n",
              " 'sources': 589,\n",
              " 'due': 590,\n",
              " 'calling': 591,\n",
              " '7': 592,\n",
              " 'students': 593,\n",
              " 'coalition': 594,\n",
              " '2014': 595,\n",
              " 'citizens': 596,\n",
              " 'running': 597,\n",
              " 'middle': 598,\n",
              " 'muslims': 599,\n",
              " '30': 600,\n",
              " 'obamacare': 601,\n",
              " 'getting': 602,\n",
              " 'weeks': 603,\n",
              " 'votes': 604,\n",
              " 'event': 605,\n",
              " 'economy': 606,\n",
              " 'young': 607,\n",
              " 'rules': 608,\n",
              " 'elections': 609,\n",
              " 'weapons': 610,\n",
              " 'coming': 611,\n",
              " 'below': 612,\n",
              " 'paul': 613,\n",
              " 'calls': 614,\n",
              " 'congressional': 615,\n",
              " 'effort': 616,\n",
              " 'racist': 617,\n",
              " 'army': 618,\n",
              " 'chairman': 619,\n",
              " 'climate': 620,\n",
              " 'bush': 621,\n",
              " 'street': 622,\n",
              " 'rule': 623,\n",
              " 'talk': 624,\n",
              " 'thousands': 625,\n",
              " 'claims': 626,\n",
              " 'announced': 627,\n",
              " 'global': 628,\n",
              " 'six': 629,\n",
              " 'am': 630,\n",
              " 'nearly': 631,\n",
              " 'ties': 632,\n",
              " 'fake': 633,\n",
              " 'late': 634,\n",
              " 'florida': 635,\n",
              " 'healthcare': 636,\n",
              " 'isn': 637,\n",
              " 'sent': 638,\n",
              " 'front': 639,\n",
              " 'candidates': 640,\n",
              " 'turkey': 641,\n",
              " 'daily': 642,\n",
              " 'poll': 643,\n",
              " 'workers': 644,\n",
              " 'speaking': 645,\n",
              " 'liberal': 646,\n",
              " 'capital': 647,\n",
              " 'position': 648,\n",
              " 'authorities': 649,\n",
              " 'october': 650,\n",
              " 'december': 651,\n",
              " 'east': 652,\n",
              " 'allow': 653,\n",
              " 'each': 654,\n",
              " 'politics': 655,\n",
              " 'problem': 656,\n",
              " 'emails': 657,\n",
              " 'everyone': 658,\n",
              " 'message': 659,\n",
              " 'ruling': 660,\n",
              " 'threat': 661,\n",
              " 'rally': 662,\n",
              " 'april': 663,\n",
              " 'tell': 664,\n",
              " 'bad': 665,\n",
              " 'hold': 666,\n",
              " 'reform': 667,\n",
              " 'officers': 668,\n",
              " 'wanted': 669,\n",
              " 'pro': 670,\n",
              " 'germany': 671,\n",
              " '12': 672,\n",
              " 'whose': 673,\n",
              " 'needs': 674,\n",
              " 'outside': 675,\n",
              " 'list': 676,\n",
              " 'immigrants': 677,\n",
              " 'organization': 678,\n",
              " 'september': 679,\n",
              " 'leave': 680,\n",
              " 'backed': 681,\n",
              " 'latest': 682,\n",
              " 'began': 683,\n",
              " 'voting': 684,\n",
              " 'stand': 685,\n",
              " 'questions': 686,\n",
              " 'makes': 687,\n",
              " 'start': 688,\n",
              " 'gave': 689,\n",
              " 'august': 690,\n",
              " 'criminal': 691,\n",
              " 'cut': 692,\n",
              " 'showed': 693,\n",
              " 'oil': 694,\n",
              " 'reason': 695,\n",
              " 'peace': 696,\n",
              " 'means': 697,\n",
              " 'failed': 698,\n",
              " 'immediately': 699,\n",
              " 'together': 700,\n",
              " 'policies': 701,\n",
              " 'release': 702,\n",
              " 'words': 703,\n",
              " 'elected': 704,\n",
              " 'relations': 705,\n",
              " 'meet': 706,\n",
              " 'lost': 707,\n",
              " 'host': 708,\n",
              " 'funding': 709,\n",
              " 'strong': 710,\n",
              " 'parliament': 711,\n",
              " 'services': 712,\n",
              " 'conservatives': 713,\n",
              " 'representatives': 714,\n",
              " 'rather': 715,\n",
              " 'morning': 716,\n",
              " 'access': 717,\n",
              " 'hope': 718,\n",
              " 'february': 719,\n",
              " 'planned': 720,\n",
              " 'ahead': 721,\n",
              " 'george': 722,\n",
              " 'europe': 723,\n",
              " 'different': 724,\n",
              " 'agencies': 725,\n",
              " 'central': 726,\n",
              " 'hate': 727,\n",
              " 'shooting': 728,\n",
              " 'spending': 729,\n",
              " 'allies': 730,\n",
              " 'tv': 731,\n",
              " 'recently': 732,\n",
              " 'california': 733,\n",
              " 'room': 734,\n",
              " 'enforcement': 735,\n",
              " 'thought': 736,\n",
              " 'almost': 737,\n",
              " 'tweet': 738,\n",
              " 'ministry': 739,\n",
              " 'fire': 740,\n",
              " 'missile': 741,\n",
              " 'laws': 742,\n",
              " 'vice': 743,\n",
              " 'millions': 744,\n",
              " 'tried': 745,\n",
              " 'sexual': 746,\n",
              " 'received': 747,\n",
              " 'try': 748,\n",
              " 'near': 749,\n",
              " 'non': 750,\n",
              " 'involved': 751,\n",
              " 'charges': 752,\n",
              " 'presidency': 753,\n",
              " 'cannot': 754,\n",
              " 'idea': 755,\n",
              " 'key': 756,\n",
              " 'happened': 757,\n",
              " 'large': 758,\n",
              " 'bank': 759,\n",
              " 'chinese': 760,\n",
              " 'shows': 761,\n",
              " 'side': 762,\n",
              " 'allowed': 763,\n",
              " 'protect': 764,\n",
              " 'situation': 765,\n",
              " 'level': 766,\n",
              " 'shot': 767,\n",
              " 'concerns': 768,\n",
              " 'officer': 769,\n",
              " 'talking': 770,\n",
              " 'bring': 771,\n",
              " 'small': 772,\n",
              " 'decided': 773,\n",
              " 'parties': 774,\n",
              " 'energy': 775,\n",
              " 'often': 776,\n",
              " 'crime': 777,\n",
              " 'son': 778,\n",
              " 'century': 779,\n",
              " 'district': 780,\n",
              " 'provide': 781,\n",
              " 'entire': 782,\n",
              " 'terrorist': 783,\n",
              " 'protesters': 784,\n",
              " 'always': 785,\n",
              " 'terrorism': 786,\n",
              " 'met': 787,\n",
              " 'looking': 788,\n",
              " 'kind': 789,\n",
              " 'movement': 790,\n",
              " 'everything': 791,\n",
              " 'water': 792,\n",
              " 'allegations': 793,\n",
              " 'needed': 794,\n",
              " 'although': 795,\n",
              " 'bernie': 796,\n",
              " 'british': 797,\n",
              " 'market': 798,\n",
              " 'industry': 799,\n",
              " 'western': 800,\n",
              " 'decades': 801,\n",
              " 'wife': 802,\n",
              " 'james': 803,\n",
              " 'fired': 804,\n",
              " 'myanmar': 805,\n",
              " 'nomination': 806,\n",
              " 'denied': 807,\n",
              " 'freedom': 808,\n",
              " 'j': 809,\n",
              " 'themselves': 810,\n",
              " 'area': 811,\n",
              " 'arrested': 812,\n",
              " 'west': 813,\n",
              " 'hours': 814,\n",
              " 'data': 815,\n",
              " 'true': 816,\n",
              " 'documents': 817,\n",
              " '2012': 818,\n",
              " 'o': 819,\n",
              " 'travel': 820,\n",
              " 'foundation': 821,\n",
              " 'hit': 822,\n",
              " 'tillerson': 823,\n",
              " 'agreed': 824,\n",
              " 'include': 825,\n",
              " 'return': 826,\n",
              " 'voted': 827,\n",
              " 'half': 828,\n",
              " 'especially': 829,\n",
              " 'either': 830,\n",
              " 'wrong': 831,\n",
              " 'korean': 832,\n",
              " 'elect': 833,\n",
              " 'fighting': 834,\n",
              " 'third': 835,\n",
              " 'county': 836,\n",
              " 'interest': 837,\n",
              " 'request': 838,\n",
              " 'building': 839,\n",
              " 'actions': 840,\n",
              " 'claim': 841,\n",
              " 'hearing': 842,\n",
              " 'potential': 843,\n",
              " 'representative': 844,\n",
              " 'polls': 845,\n",
              " 'step': 846,\n",
              " 'seems': 847,\n",
              " 'short': 848,\n",
              " 'adviser': 849,\n",
              " 'truth': 850,\n",
              " 'moscow': 851,\n",
              " 'forward': 852,\n",
              " 'personal': 853,\n",
              " 'adding': 854,\n",
              " 'cases': 855,\n",
              " 'flynn': 856,\n",
              " 'insurance': 857,\n",
              " 'low': 858,\n",
              " 'father': 859,\n",
              " 'paid': 860,\n",
              " 'clearly': 861,\n",
              " 'college': 862,\n",
              " 'biggest': 863,\n",
              " 'commission': 864,\n",
              " 'independence': 865,\n",
              " 'board': 866,\n",
              " 'serious': 867,\n",
              " 'worked': 868,\n",
              " 'continued': 869,\n",
              " 'record': 870,\n",
              " 'hand': 871,\n",
              " 'details': 872,\n",
              " 'pressure': 873,\n",
              " 'address': 874,\n",
              " '25': 875,\n",
              " 'wasn': 876,\n",
              " 'alleged': 877,\n",
              " 'soon': 878,\n",
              " 'cia': 879,\n",
              " 'lawyer': 880,\n",
              " 'isis': 881,\n",
              " 'claimed': 882,\n",
              " 'leading': 883,\n",
              " 'pence': 884,\n",
              " 'confirmed': 885,\n",
              " 'love': 886,\n",
              " 'passed': 887,\n",
              " 'network': 888,\n",
              " 'protest': 889,\n",
              " 'spoke': 890,\n",
              " 'review': 891,\n",
              " 'nov': 892,\n",
              " 'families': 893,\n",
              " 'probably': 894,\n",
              " 'primary': 895,\n",
              " 'mccain': 896,\n",
              " 'feel': 897,\n",
              " 'victory': 898,\n",
              " 'cost': 899,\n",
              " 'ted': 900,\n",
              " '100': 901,\n",
              " 'turn': 902,\n",
              " 'pass': 903,\n",
              " 'michael': 904,\n",
              " '2013': 905,\n",
              " 'mean': 906,\n",
              " 'rubio': 907,\n",
              " 'taxes': 908,\n",
              " 'main': 909,\n",
              " 'secret': 910,\n",
              " 'turned': 911,\n",
              " 'agenda': 912,\n",
              " 'page': 913,\n",
              " 'sessions': 914,\n",
              " 'leadership': 915,\n",
              " 'final': 916,\n",
              " 'aid': 917,\n",
              " 'appeared': 918,\n",
              " 'mike': 919,\n",
              " 'largest': 920,\n",
              " 'mark': 921,\n",
              " 'dollars': 922,\n",
              " 'fund': 923,\n",
              " 'points': 924,\n",
              " 'german': 925,\n",
              " 'mayor': 926,\n",
              " 'arabia': 927,\n",
              " 'sign': 928,\n",
              " 'merkel': 929,\n",
              " 'result': 930,\n",
              " 'remarks': 931,\n",
              " 'david': 932,\n",
              " 'issued': 933,\n",
              " 'deputy': 934,\n",
              " 'child': 935,\n",
              " 'constitution': 936,\n",
              " 'african': 937,\n",
              " 'town': 938,\n",
              " 'protests': 939,\n",
              " 'simply': 940,\n",
              " 'wing': 941,\n",
              " 'goes': 942,\n",
              " 'view': 943,\n",
              " 'brought': 944,\n",
              " 'declined': 945,\n",
              " 'religious': 946,\n",
              " 'toward': 947,\n",
              " 'started': 948,\n",
              " 'influence': 949,\n",
              " 'article': 950,\n",
              " 'food': 951,\n",
              " 'guy': 952,\n",
              " 'class': 953,\n",
              " 'spent': 954,\n",
              " 'included': 955,\n",
              " 'website': 956,\n",
              " 'debt': 957,\n",
              " 'became': 958,\n",
              " 'single': 959,\n",
              " 'described': 960,\n",
              " 'brexit': 961,\n",
              " 'related': 962,\n",
              " 'armed': 963,\n",
              " 'account': 964,\n",
              " 'push': 965,\n",
              " 'signed': 966,\n",
              " 'posted': 967,\n",
              " 'convention': 968,\n",
              " 'seven': 969,\n",
              " 'previously': 970,\n",
              " 'conflict': 971,\n",
              " 'popular': 972,\n",
              " 'attempt': 973,\n",
              " 'longer': 974,\n",
              " 'reality': 975,\n",
              " 'seeking': 976,\n",
              " 'forced': 977,\n",
              " '18': 978,\n",
              " 'friends': 979,\n",
              " 'relationship': 980,\n",
              " 'pretty': 981,\n",
              " 'voter': 982,\n",
              " 'raised': 983,\n",
              " '13': 984,\n",
              " 'speak': 985,\n",
              " 'violent': 986,\n",
              " 'fear': 987,\n",
              " 'speaker': 988,\n",
              " '24': 989,\n",
              " 'giving': 990,\n",
              " 'firm': 991,\n",
              " 'gets': 992,\n",
              " 'crowd': 993,\n",
              " 'corruption': 994,\n",
              " 'carolina': 995,\n",
              " 'militants': 996,\n",
              " 'flag': 997,\n",
              " '50': 998,\n",
              " 'income': 999,\n",
              " 'saw': 1000,\n",
              " ...}"
            ]
          },
          "metadata": {},
          "execution_count": 66
        }
      ]
    },
    {
      "cell_type": "code",
      "source": [
        "plt.hist([len(x) for x in X], bins =1000)\n",
        "plt.show()"
      ],
      "metadata": {
        "colab": {
          "base_uri": "https://localhost:8080/",
          "height": 430
        },
        "id": "JPWiGJhltXyB",
        "outputId": "5ce0795b-5d0f-4443-be64-88ae5d32843c"
      },
      "execution_count": null,
      "outputs": [
        {
          "output_type": "display_data",
          "data": {
            "text/plain": [
              "<Figure size 640x480 with 1 Axes>"
            ],
            "image/png": "[encoded data removed]"
          },
          "metadata": {}
        }
      ]
    },
    {
      "cell_type": "code",
      "source": [
        "# Calculate lengths of each list in X\n",
        "lengths = [len(x) for x in X]\n",
        "\n",
        "# Calculate the mean\n",
        "mean_length = np.max(lengths)\n",
        "\n",
        "print(\"Mean of lengths:\", mean_length)"
      ],
      "metadata": {
        "colab": {
          "base_uri": "https://localhost:8080/"
        },
        "id": "_J9g-IXz33-k",
        "outputId": "72ab837e-55d6-4507-b812-d2832265faff"
      },
      "execution_count": null,
      "outputs": [
        {
          "output_type": "stream",
          "name": "stdout",
          "text": [
            "Mean of lengths: 8396\n"
          ]
        }
      ]
    },
    {
      "cell_type": "code",
      "source": [
        "nos = np.array([len(x) for x in X])\n",
        "len(nos[nos>1200])"
      ],
      "metadata": {
        "colab": {
          "base_uri": "https://localhost:8080/"
        },
        "id": "aqkQNpRDmuAB",
        "outputId": "b94fae55-0582-424f-c414-9b9b1b9de660"
      },
      "execution_count": null,
      "outputs": [
        {
          "output_type": "execute_result",
          "data": {
            "text/plain": [
              "972"
            ]
          },
          "metadata": {},
          "execution_count": 69
        }
      ]
    },
    {
      "cell_type": "code",
      "source": [
        "maxlen = 1200\n",
        "X = pad_sequences(X, maxlen=maxlen)"
      ],
      "metadata": {
        "id": "kjQUjZZhvDl4"
      },
      "execution_count": null,
      "outputs": []
    },
    {
      "cell_type": "code",
      "source": [
        "len(X[10])"
      ],
      "metadata": {
        "colab": {
          "base_uri": "https://localhost:8080/"
        },
        "id": "-ddCGxkYvDog",
        "outputId": "f032e8a6-65ce-489d-b748-5d1431ccde9b"
      },
      "execution_count": null,
      "outputs": [
        {
          "output_type": "execute_result",
          "data": {
            "text/plain": [
              "1200"
            ]
          },
          "metadata": {},
          "execution_count": 71
        }
      ]
    },
    {
      "cell_type": "code",
      "source": [
        "X[10]"
      ],
      "metadata": {
        "colab": {
          "base_uri": "https://localhost:8080/"
        },
        "id": "AZfjLmNWvDrl",
        "outputId": "80e2a1b1-0818-42f7-f491-6a1c0cddaaee"
      },
      "execution_count": null,
      "outputs": [
        {
          "output_type": "execute_result",
          "data": {
            "text/plain": [
              "array([   0,    0,    0, ..., 5313,    1,  793], dtype=int32)"
            ]
          },
          "metadata": {},
          "execution_count": 72
        }
      ]
    },
    {
      "cell_type": "code",
      "source": [
        "vocab_size = len(tokenizer.word_index) + 1 # index starts from 0\n",
        "vocab = tokenizer.word_index\n",
        "\n",
        "# print(\"Vocabulary size:\", vocab_size)\n",
        "# print(\"Vocabulary:\", vocab)"
      ],
      "metadata": {
        "id": "EpShSda2yXj-"
      },
      "execution_count": null,
      "outputs": []
    },
    {
      "cell_type": "code",
      "source": [
        "def get_weights_matrix(model):\n",
        "    # Initialize a numpy array filled with zeros to store the weights\n",
        "    weight_matrix = np.zeros((vocab_size, DIM))\n",
        "\n",
        "    # Iterate over each word in the vocabulary\n",
        "    for word, i in vocab.items():\n",
        "        # Retrieve the word vector from the Word2Vec model and assign it to the corresponding row in the weight matrix\n",
        "        weight_matrix[i] = model.wv[word]\n",
        "\n",
        "    # Return the weight matrix containing the word embeddings\n",
        "    return weight_matrix"
      ],
      "metadata": {
        "id": "SVhICy_uvDt3"
      },
      "execution_count": null,
      "outputs": []
    },
    {
      "cell_type": "code",
      "source": [
        "embedding_vectors = get_weights_matrix(w2v_model) # using the individual vocab words of the the dataset to get word2vec weights assigned"
      ],
      "metadata": {
        "id": "aG6JUDlovDwm"
      },
      "execution_count": null,
      "outputs": []
    },
    {
      "cell_type": "code",
      "source": [
        "w2v_model.wv.most_similar('india')"
      ],
      "metadata": {
        "colab": {
          "base_uri": "https://localhost:8080/"
        },
        "id": "9fx0nrwb9ED4",
        "outputId": "00c58a29-1dc7-4cb4-e5b5-12b7c602ebf1"
      },
      "execution_count": null,
      "outputs": [
        {
          "output_type": "execute_result",
          "data": {
            "text/plain": [
              "[('pakistan', 0.7485405802726746),\n",
              " ('china', 0.7272327542304993),\n",
              " ('japan', 0.7159072160720825),\n",
              " ('malaysia', 0.7090864181518555),\n",
              " ('australia', 0.6727469563484192),\n",
              " ('canada', 0.6578260064125061),\n",
              " ('thailand', 0.6421573758125305),\n",
              " ('egypt', 0.6410444974899292),\n",
              " ('singapore', 0.6364646553993225),\n",
              " ('tunisia', 0.6250486373901367)]"
            ]
          },
          "metadata": {},
          "execution_count": 77
        }
      ]
    },
    {
      "cell_type": "code",
      "source": [
        "w2v_model.wv.most_similar('the')"
      ],
      "metadata": {
        "colab": {
          "base_uri": "https://localhost:8080/"
        },
        "id": "WgKGc-Kl9See",
        "outputId": "a09115f3-3104-442d-e454-a1cc67888903"
      },
      "execution_count": null,
      "outputs": [
        {
          "output_type": "execute_result",
          "data": {
            "text/plain": [
              "[('a', 0.6198538541793823),\n",
              " ('this', 0.5909501314163208),\n",
              " ('itself', 0.5583556890487671),\n",
              " ('its', 0.5443121790885925),\n",
              " ('his', 0.5326060056686401),\n",
              " ('any', 0.5207731127738953),\n",
              " ('their', 0.5062087178230286),\n",
              " ('another', 0.4918377697467804),\n",
              " ('an', 0.4731055796146393),\n",
              " ('that', 0.46778109669685364)]"
            ]
          },
          "metadata": {},
          "execution_count": 78
        }
      ]
    },
    {
      "cell_type": "code",
      "source": [
        "w2v_model.wv.most_similar('the')"
      ],
      "metadata": {
        "colab": {
          "base_uri": "https://localhost:8080/"
        },
        "id": "UPB6W6Q-9UgH",
        "outputId": "64a58c72-5f66-44f0-ce4a-71c60ec5a316"
      },
      "execution_count": null,
      "outputs": [
        {
          "output_type": "execute_result",
          "data": {
            "text/plain": [
              "[('a', 0.6198538541793823),\n",
              " ('this', 0.5909501314163208),\n",
              " ('itself', 0.5583556890487671),\n",
              " ('its', 0.5443121790885925),\n",
              " ('his', 0.5326060056686401),\n",
              " ('any', 0.5207731127738953),\n",
              " ('their', 0.5062087178230286),\n",
              " ('another', 0.4918377697467804),\n",
              " ('an', 0.4731055796146393),\n",
              " ('that', 0.46778109669685364)]"
            ]
          },
          "metadata": {},
          "execution_count": 79
        }
      ]
    },
    {
      "cell_type": "code",
      "source": [
        "embedding_vectors.shape"
      ],
      "metadata": {
        "colab": {
          "base_uri": "https://localhost:8080/"
        },
        "id": "tkPQYJRIvDy8",
        "outputId": "9871c6e5-2afa-4e54-a221-92446088ad43"
      },
      "execution_count": null,
      "outputs": [
        {
          "output_type": "execute_result",
          "data": {
            "text/plain": [
              "(122716, 100)"
            ]
          },
          "metadata": {},
          "execution_count": 80
        }
      ]
    },
    {
      "cell_type": "code",
      "source": [
        "embedding_vectors"
      ],
      "metadata": {
        "colab": {
          "base_uri": "https://localhost:8080/"
        },
        "id": "r-EbaO-f8hXg",
        "outputId": "fb155c34-1a17-4352-a443-eca280b55c4d"
      },
      "execution_count": null,
      "outputs": [
        {
          "output_type": "execute_result",
          "data": {
            "text/plain": [
              "array([[ 0.00000000e+00,  0.00000000e+00,  0.00000000e+00, ...,\n",
              "         0.00000000e+00,  0.00000000e+00,  0.00000000e+00],\n",
              "       [ 8.44398558e-01, -3.71493727e-01, -3.98619652e-01, ...,\n",
              "        -1.43593156e+00,  3.08483541e-01, -5.51634550e-01],\n",
              "       [-1.57802045e+00,  1.69730091e+00,  1.78153849e+00, ...,\n",
              "         6.80643499e-01, -4.28024435e+00,  1.22288895e+00],\n",
              "       ...,\n",
              "       [-2.25109663e-02,  3.22119445e-02,  4.29342361e-03, ...,\n",
              "         9.27863084e-03, -1.78957619e-02, -2.36453060e-02],\n",
              "       [ 1.28087876e-02,  3.04679684e-02,  8.81391764e-03, ...,\n",
              "         1.32970221e-04,  9.97660682e-03,  4.87953564e-03],\n",
              "       [ 1.04147047e-02,  2.98929098e-03,  1.92576330e-02, ...,\n",
              "         2.46624392e-03,  2.24190671e-02,  1.38417566e-02]])"
            ]
          },
          "metadata": {},
          "execution_count": 81
        }
      ]
    },
    {
      "cell_type": "code",
      "source": [
        "# Initialize a Sequential model\n",
        "model = Sequential()\n",
        "\n",
        "# Add Embedding layer with pre-trained weights\n",
        "model.add(Embedding(vocab_size, output_dim=DIM, weights=[embedding_vectors], input_length=maxlen, trainable=False))\n",
        "\n",
        "# Add LSTM layer\n",
        "model.add(LSTM(units=128))  # return_sequences=True to pass output to the next layer\n",
        "\n",
        "# Final output layer\n",
        "model.add(Dense(1, activation='sigmoid'))\n",
        "\n",
        "# Compile the model with a different loss function\n",
        "model.compile(optimizer='adam', loss='mean_squared_error', metrics=['acc'])"
      ],
      "metadata": {
        "id": "2xdlkWLjvD1k"
      },
      "execution_count": null,
      "outputs": []
    },
    {
      "cell_type": "code",
      "source": [
        "model.summary()"
      ],
      "metadata": {
        "colab": {
          "base_uri": "https://localhost:8080/"
        },
        "id": "ZQ0xowNF0ZdA",
        "outputId": "07ef584e-8fb2-47ce-f39d-bf799934a82a"
      },
      "execution_count": null,
      "outputs": [
        {
          "output_type": "stream",
          "name": "stdout",
          "text": [
            "Model: \"sequential_2\"\n",
            "_________________________________________________________________\n",
            " Layer (type)                Output Shape              Param #   \n",
            "=================================================================\n",
            " embedding_2 (Embedding)     (None, 1200, 100)         12271600  \n",
            "                                                                 \n",
            " lstm_2 (LSTM)               (None, 128)               117248    \n",
            "                                                                 \n",
            " dense_3 (Dense)             (None, 1)                 129       \n",
            "                                                                 \n",
            "=================================================================\n",
            "Total params: 12388977 (47.26 MB)\n",
            "Trainable params: 117377 (458.50 KB)\n",
            "Non-trainable params: 12271600 (46.81 MB)\n",
            "_________________________________________________________________\n"
          ]
        }
      ]
    },
    {
      "cell_type": "code",
      "source": [
        "X_train, X_test, y_train, y_test = train_test_split(X,y, stratify=y)"
      ],
      "metadata": {
        "id": "mON25LXU0Zfx"
      },
      "execution_count": null,
      "outputs": []
    },
    {
      "cell_type": "code",
      "source": [
        "model.fit(X_train, y_train, validation_split=0.3, epochs=3)"
      ],
      "metadata": {
        "colab": {
          "base_uri": "https://localhost:8080/"
        },
        "id": "C7_Gwhum0Zix",
        "outputId": "7a4121a1-1063-4129-cf8f-822c9c7ba2fb"
      },
      "execution_count": null,
      "outputs": [
        {
          "output_type": "stream",
          "name": "stdout",
          "text": [
            "Epoch 1/3\n",
            "737/737 [==============================] - 43s 55ms/step - loss: 0.0456 - acc: 0.9446 - val_loss: 0.0495 - val_acc: 0.9412\n",
            "Epoch 2/3\n",
            "737/737 [==============================] - 41s 56ms/step - loss: 0.0263 - acc: 0.9685 - val_loss: 0.0246 - val_acc: 0.9697\n",
            "Epoch 3/3\n",
            "737/737 [==============================] - 40s 55ms/step - loss: 0.0259 - acc: 0.9671 - val_loss: 0.0224 - val_acc: 0.9730\n"
          ]
        },
        {
          "output_type": "execute_result",
          "data": {
            "text/plain": [
              "<keras.src.callbacks.History at 0x795f0fec89d0>"
            ]
          },
          "metadata": {},
          "execution_count": 96
        }
      ]
    },
    {
      "cell_type": "code",
      "source": [
        "from sklearn.metrics import confusion_matrix, roc_curve, roc_auc_score\n",
        "\n",
        "# Training results\n",
        "\n",
        "# Calucating the Training accuracy\n",
        "y_pred = (model.predict(X_train) >=0.5).astype(int)\n",
        "train_accuracy = accuracy_score(y_train, y_pred)\n",
        "print(\"Training Accuracy \", train_accuracy)\n",
        "\n",
        "# Calucating the confusion matrix\n",
        "confusion_mat = confusion_matrix(y_train, y_pred)\n",
        "print(\"Confusion Matrix\")\n",
        "print(confusion_mat)\n",
        "\n",
        "# Calculate recall, precision and f1 score\n",
        "class_report = classification_report(y_train, y_pred)\n",
        "print(\"Classification Report:\")\n",
        "print(class_report)\n",
        "\n",
        "# Calculate ROC curve\n",
        "fpr, tpr, thresholds = roc_curve(y_train, y_pred)\n",
        "\n",
        "# Plot ROC curve\n",
        "plt.figure(figsize=(8, 6))\n",
        "plt.plot(fpr, tpr, label='ROC Curve')\n",
        "plt.plot([0, 1], [0, 1], linestyle='--', color='r', label='Random Guessing')\n",
        "plt.xlabel('False Positive Rate')\n",
        "plt.ylabel('True Positive Rate')\n",
        "plt.title('ROC Curve')\n",
        "plt.legend()\n",
        "plt.show()\n",
        "\n",
        "# Calculate AUC score\n",
        "roc_auc = roc_auc_score(y_train, y_pred)\n",
        "print(\"ROC AUC Score:\", roc_auc)"
      ],
      "metadata": {
        "id": "kcCvwZ7D0Zku",
        "colab": {
          "base_uri": "https://localhost:8080/",
          "height": 842
        },
        "outputId": "e3a872f6-1742-4105-8ea2-0821ff22fe8e"
      },
      "execution_count": null,
      "outputs": [
        {
          "output_type": "stream",
          "name": "stdout",
          "text": [
            "1053/1053 [==============================] - 18s 17ms/step\n",
            "Training Accuracy  0.977488714659064\n",
            "Confusion Matrix\n",
            "[[16957   653]\n",
            " [  105 15957]]\n",
            "Classification Report:\n",
            "              precision    recall  f1-score   support\n",
            "\n",
            "           0       0.99      0.96      0.98     17610\n",
            "           1       0.96      0.99      0.98     16062\n",
            "\n",
            "    accuracy                           0.98     33672\n",
            "   macro avg       0.98      0.98      0.98     33672\n",
            "weighted avg       0.98      0.98      0.98     33672\n",
            "\n"
          ]
        },
        {
          "output_type": "display_data",
          "data": {
            "text/plain": [
              "<Figure size 800x600 with 1 Axes>"
            ],
            "image/png": "[encoded data removed]"
          },
          "metadata": {}
        },
        {
          "output_type": "stream",
          "name": "stdout",
          "text": [
            "ROC AUC Score: 0.9781908138331937\n"
          ]
        }
      ]
    },
    {
      "cell_type": "code",
      "source": [
        "# testing results\n",
        "\n",
        "# Calucating the testing accuracy\n",
        "y_pred = (model.predict(X_test) >=0.5).astype(int)\n",
        "test_accuracy = accuracy_score(y_test, y_pred)\n",
        "print(\"testing Accuracy \", test_accuracy)\n",
        "\n",
        "# Calucating the confusion matrix\n",
        "confusion_mat = confusion_matrix(y_test, y_pred)\n",
        "print(\"Confusion Matrix\")\n",
        "print(confusion_mat)\n",
        "\n",
        "# Calculate recall, precision and f1 score\n",
        "class_report = classification_report(y_test, y_pred)\n",
        "print(\"Classification Report:\")\n",
        "print(class_report)\n",
        "\n",
        "# Calculate ROC curve\n",
        "fpr, tpr, thresholds = roc_curve(y_test, y_pred)\n",
        "\n",
        "# Plot ROC curve\n",
        "plt.figure(figsize=(8, 6))\n",
        "plt.plot(fpr, tpr, label='ROC Curve')\n",
        "plt.plot([0, 1], [0, 1], linestyle='--', color='r', label='Random Guessing')\n",
        "plt.xlabel('False Positive Rate')\n",
        "plt.ylabel('True Positive Rate')\n",
        "plt.title('ROC Curve')\n",
        "plt.legend()\n",
        "plt.show()\n",
        "\n",
        "# Calculate AUC score\n",
        "roc_auc = roc_auc_score(y_test, y_pred)\n",
        "print(\"ROC AUC Score:\", roc_auc)"
      ],
      "metadata": {
        "colab": {
          "base_uri": "https://localhost:8080/",
          "height": 842
        },
        "id": "rU4ZnGcYymCv",
        "outputId": "4e9825d6-a26a-4faa-939e-b6fa08900a8d"
      },
      "execution_count": null,
      "outputs": [
        {
          "output_type": "stream",
          "name": "stdout",
          "text": [
            "351/351 [==============================] - 7s 19ms/step\n",
            "testing Accuracy  0.9726503340757239\n",
            "Confusion Matrix\n",
            "[[5615  256]\n",
            " [  51 5303]]\n",
            "Classification Report:\n",
            "              precision    recall  f1-score   support\n",
            "\n",
            "           0       0.99      0.96      0.97      5871\n",
            "           1       0.95      0.99      0.97      5354\n",
            "\n",
            "    accuracy                           0.97     11225\n",
            "   macro avg       0.97      0.97      0.97     11225\n",
            "weighted avg       0.97      0.97      0.97     11225\n",
            "\n"
          ]
        },
        {
          "output_type": "display_data",
          "data": {
            "text/plain": [
              "<Figure size 800x600 with 1 Axes>"
            ],
            "image/png": "[encoded data removed]"
          },
          "metadata": {}
        },
        {
          "output_type": "stream",
          "name": "stdout",
          "text": [
            "ROC AUC Score: 0.9734351278168584\n"
          ]
        }
      ]
    },
    {
      "cell_type": "code",
      "source": [
        "def predict_binary_labels(texts, model, tokenizer, maxlen=5000, threshold=0.5):\n",
        "    # Tokenize and pad the input sequences\n",
        "    x_tokenized = tokenizer.texts_to_sequences(texts)\n",
        "    x_padded = pad_sequences(x_tokenized, maxlen=maxlen)\n",
        "\n",
        "    # Predict using the model\n",
        "    predictions = model.predict(x_padded)\n",
        "\n",
        "    # Convert predictions to binary labels based on threshold\n",
        "    binary_predictions = (predictions >= threshold).astype(int)\n",
        "\n",
        "    return binary_predictions # 1 : True, 0 : False"
      ],
      "metadata": {
        "id": "e5b7xxH62Mcv"
      },
      "execution_count": null,
      "outputs": []
    },
    {
      "cell_type": "code",
      "source": [
        "# Example usage:\n",
        "x = \"Election Commission orders removal of home secretaries in 6 states, Bengal DGP\"\n",
        "predictions = predict_binary_labels([x], model, tokenizer)\n",
        "print(predictions)"
      ],
      "metadata": {
        "id": "96vRDGip2Mfn",
        "colab": {
          "base_uri": "https://localhost:8080/"
        },
        "outputId": "352f2af2-086b-482f-980f-7ac3b151150b"
      },
      "execution_count": null,
      "outputs": [
        {
          "output_type": "stream",
          "name": "stdout",
          "text": [
            "1/1 [==============================] - 0s 98ms/step\n",
            "[[1]]\n"
          ]
        }
      ]
    },
    {
      "cell_type": "code",
      "source": [
        "# Save the model\n",
        "model.save('news_detection_lstm_model.h5')"
      ],
      "metadata": {
        "id": "pvOriPA9muCq",
        "colab": {
          "base_uri": "https://localhost:8080/"
        },
        "outputId": "a103e9ce-66fd-4f59-8eac-0e79831a4451"
      },
      "execution_count": null,
      "outputs": [
        {
          "output_type": "stream",
          "name": "stderr",
          "text": [
            "/usr/local/lib/python3.10/dist-packages/keras/src/engine/training.py:3103: UserWarning: You are saving your model as an HDF5 file via `model.save()`. This file format is considered legacy. We recommend using instead the native Keras format, e.g. `model.save('my_model.keras')`.\n",
            "  saving_api.save_model(\n"
          ]
        }
      ]
    },
    {
      "cell_type": "code",
      "source": [
        "# Example usage:\n",
        "x = \"Russia-NATO, one step away from a full-scale World War 3, Putin warns the West\"\n",
        "predictions = predict_binary_labels([x], model, tokenizer)\n",
        "print(predictions)"
      ],
      "metadata": {
        "id": "CySxMn8p2Mic",
        "colab": {
          "base_uri": "https://localhost:8080/"
        },
        "outputId": "4c3740f8-1082-4c54-99db-da0107990fe2"
      },
      "execution_count": null,
      "outputs": [
        {
          "output_type": "stream",
          "name": "stdout",
          "text": [
            "1/1 [==============================] - 0s 121ms/step\n",
            "[[0]]\n"
          ]
        }
      ]
    },
    {
      "cell_type": "code",
      "source": [
        "x = \"The Supreme Court today directed the State Bank of India (SBI) to disclose all details related to electoral bonds that allowed individuals and companies to make donations to political parties. This must include the serial number of each bond, said a five-judge bench, headed by Chief Justice of India DY Chandrachud\"\n",
        "predictions = predict_binary_labels([x], model, tokenizer)\n",
        "print(predictions)"
      ],
      "metadata": {
        "colab": {
          "base_uri": "https://localhost:8080/"
        },
        "id": "IVDIoGulC3wq",
        "outputId": "76528fd0-706d-4315-ceb9-067d8bc3ecb8"
      },
      "execution_count": null,
      "outputs": [
        {
          "output_type": "stream",
          "name": "stdout",
          "text": [
            "1/1 [==============================] - 0s 74ms/step\n",
            "[[1]]\n"
          ]
        }
      ]
    },
    {
      "cell_type": "markdown",
      "source": [
        "Observations and Results :\n",
        "\n",
        "\n",
        "* The model has impressive predictability, however it still needs periodic training with the latest news to enhance its capability to differentiate between real and fake news concerning current affairs.\n",
        "\n",
        "* The model is presently trained on Twitter news and data from US news agencies such as Reuters. Despite the dataset primarily comprising US national and international news, it has successfully predicted Indian news accurately. However, to enhance its reliability further, it is recommended to train the model on regional news data to improve its performance in predicting news from specific regions.\n",
        "\n",
        "* Training the model with futher epochs would too contibute to improve the model prediction"
      ],
      "metadata": {
        "id": "e_uRHjaKDNs5"
      }
    },
    {
      "cell_type": "code",
      "source": [],
      "metadata": {
        "id": "xT0wQq2KF642"
      },
      "execution_count": null,
      "outputs": []
    }
  ]
}